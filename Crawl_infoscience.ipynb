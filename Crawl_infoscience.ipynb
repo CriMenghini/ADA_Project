{
 "cells": [
  {
   "cell_type": "markdown",
   "metadata": {},
   "source": [
    "# Crowl *infoscience*\n",
    "\n",
    "The code fetch `html` source code of *infoscience*'s pages related to each published paper at EPFL. It is built in such a way that when run it scrapes only the new articles. "
   ]
  },
  {
   "cell_type": "markdown",
   "metadata": {},
   "source": [
    "1. Create the directory for *infoscience* documents\n",
    "2. Crowl the page from the the last `Document_ID + 1` in the dir"
   ]
  },
  {
   "cell_type": "code",
   "execution_count": 1,
   "metadata": {
    "collapsed": true
   },
   "outputs": [],
   "source": [
    "from crowl_infoscience import *"
   ]
  },
  {
   "cell_type": "markdown",
   "metadata": {},
   "source": [
    "### 1."
   ]
  },
  {
   "cell_type": "code",
   "execution_count": 2,
   "metadata": {
    "collapsed": true
   },
   "outputs": [],
   "source": [
    "path_dir = '/Users/cristinamenghini/Desktop/EPFL/Fall semester/Applied data analysis - ADA/infoscience_data/'"
   ]
  },
  {
   "cell_type": "code",
   "execution_count": 3,
   "metadata": {
    "collapsed": false
   },
   "outputs": [],
   "source": [
    "create_dir(path_dir)"
   ]
  },
  {
   "cell_type": "code",
   "execution_count": 16,
   "metadata": {
    "collapsed": true
   },
   "outputs": [],
   "source": [
    "import time\n",
    "from threading import Thread"
   ]
  },
  {
   "cell_type": "code",
   "execution_count": 17,
   "metadata": {
    "collapsed": true
   },
   "outputs": [],
   "source": [
    "def fetch_html_infoscience_thread(path_dir, delay=1, error=False):\n",
    "    \"\"\" This function fetches the html files from infoscience. The files are stored in a dir.\n",
    "    \n",
    "    It takes as inputs:\n",
    "    @path_dir: path of the dir that contains html pages\n",
    "    @delay: seconds to wait between sequent requests\n",
    "    @error: initial condition for fetching\"\"\"\n",
    "    \n",
    "    global id_paper\n",
    "    # Get the list of the already fetched html sources\n",
    "    list_paper = os.listdir(path_dir)[1:]\n",
    "    \n",
    "    # In order to establish the starting value of the url attribute\n",
    "    # Check whether the folder is empty or some files have already been fetched\n",
    "    if len(list_paper) == 0:\n",
    "        id_paper = 1\n",
    "    else:\n",
    "        id_paper = max([int(i.split('.')[0]) for i in os.listdir(path_dir)[1:]]) + 1\n",
    "\n",
    "    # While there are pages to fetch\n",
    "    while error == False:\n",
    "        try:\n",
    "            if id_paper % 100 == 0:\n",
    "                print (id_paper)\n",
    "            \n",
    "            # Make the request\n",
    "            req = requests.get('https://infoscience.epfl.ch/record/' + str(id_paper) + '?ln=en')\n",
    "            html = (req.content).decode(\"utf-8\")\n",
    "        \n",
    "            # Save the html \n",
    "            with open(path_dir + str(id_paper) + '.html', 'w') as html_source:\n",
    "                html_source.write(html)       \n",
    "            \n",
    "            # Increment the iterator\n",
    "            id_paper += 1\n",
    "        \n",
    "            # Wait *delay* seconds to retrieve the next page\n",
    "            time.sleep(delay)\n",
    "        \n",
    "        # No more pages to download\n",
    "        except:\n",
    "            error = True\n",
    "            print ('No file to retrieve')"
   ]
  },
  {
   "cell_type": "code",
   "execution_count": 18,
   "metadata": {
    "collapsed": false
   },
   "outputs": [],
   "source": [
    "for i in range(10):\n",
    "    t = Thread(target=fetch_html_infoscience_thread, args=('/Users/cristinamenghini/Desktop/EPFL/Fall semester/Applied data analysis - ADA/info_prova/',))\n",
    "    time.sleep(4)\n",
    "    t.start()"
   ]
  },
  {
   "cell_type": "markdown",
   "metadata": {},
   "source": [
    "### 2."
   ]
  },
  {
   "cell_type": "code",
   "execution_count": 12,
   "metadata": {
    "collapsed": false
   },
   "outputs": [
    {
     "name": "stdout",
     "output_type": "stream",
     "text": [
      "23300\n",
      "23400\n",
      "23500\n",
      "23600\n",
      "23700\n",
      "23800\n",
      "23900\n",
      "24000\n",
      "24100\n",
      "24200\n",
      "24300\n",
      "24400\n",
      "24500\n",
      "24600\n",
      "24700\n",
      "24800\n",
      "24900\n",
      "25000\n",
      "25100\n",
      "25200\n",
      "25300\n",
      "25400\n",
      "25500\n",
      "25600\n",
      "25700\n",
      "25800\n",
      "25900\n",
      "26000\n",
      "26100\n",
      "26200\n",
      "26300\n",
      "26400\n",
      "26500\n",
      "26600\n",
      "26700\n",
      "26800\n",
      "26900\n",
      "27000\n",
      "27100\n",
      "27200\n",
      "27300\n",
      "27400\n",
      "27500\n",
      "27600\n",
      "27700\n",
      "27800\n",
      "27900\n",
      "28000\n",
      "28100\n",
      "28200\n",
      "28300\n",
      "28400\n",
      "28500\n",
      "28600\n",
      "28700\n",
      "28800\n",
      "No file to retrieve\n"
     ]
    }
   ],
   "source": [
    "fetch_html_infoscience(path_dir)"
   ]
  },
  {
   "cell_type": "markdown",
   "metadata": {},
   "source": [
    "### Open `html` file with Beauiful Soup"
   ]
  },
  {
   "cell_type": "code",
   "execution_count": 46,
   "metadata": {
    "collapsed": false
   },
   "outputs": [],
   "source": [
    "soup = BeautifulSoup(html, 'html.parser')"
   ]
  },
  {
   "cell_type": "code",
   "execution_count": 51,
   "metadata": {
    "collapsed": false
   },
   "outputs": [],
   "source": [
    "html_file = open(path_dir + '222854.html','r').read()\n",
    "\n",
    "soup = BeautifulSoup(html_file, 'html.parser')"
   ]
  },
  {
   "cell_type": "code",
   "execution_count": null,
   "metadata": {
    "collapsed": true
   },
   "outputs": [],
   "source": []
  }
 ],
 "metadata": {
  "anaconda-cloud": {},
  "kernelspec": {
   "display_name": "Python [Root]",
   "language": "python",
   "name": "Python [Root]"
  },
  "language_info": {
   "codemirror_mode": {
    "name": "ipython",
    "version": 3
   },
   "file_extension": ".py",
   "mimetype": "text/x-python",
   "name": "python",
   "nbconvert_exporter": "python",
   "pygments_lexer": "ipython3",
   "version": "3.5.2"
  }
 },
 "nbformat": 4,
 "nbformat_minor": 0
}
