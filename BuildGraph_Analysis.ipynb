{
 "cells": [
  {
   "cell_type": "markdown",
   "metadata": {
    "collapsed": true
   },
   "source": [
    "# Built Graph\n",
    "In this notebook we proceed building the ERN. In particular we create a graph characterized by the following structure:\n",
    "\n",
    "* Nodes: authors of publications\n",
    "* Edges: (u,v) if a coauthorship relation stands between u and v\n",
    "* Weights: (u,v,w) where the weight corresponds to the number of common publications between u and v\n",
    "\n",
    "For the tidiness of the code the used functions are stored in external modules which will be properly recalled when in use."
   ]
  },
  {
   "cell_type": "code",
   "execution_count": 1,
   "metadata": {
    "collapsed": false
   },
   "outputs": [],
   "source": [
    "# Import useful library\n",
    "\n",
    "from collections import defaultdict\n",
    "from bs4 import BeautifulSoup\n",
    "import matplotlib.pyplot as plt\n",
    "from BuildGraphModule import *\n",
    "from AnalysisModule import *\n",
    "from UniformData import *\n",
    "from MultiGraph import *\n",
    "from GraphPlot import *\n",
    "import collections\n",
    "import numpy as np\n",
    "import requests\n",
    "import pickle\n",
    "import json\n",
    "\n",
    "%matplotlib inline"
   ]
  },
  {
   "cell_type": "markdown",
   "metadata": {},
   "source": [
    "##### Load data: \n",
    "\n",
    "The loaded data are in the form describe in [DATA ACQUISITION]. To remind:\n",
    "\n",
    "                               {ID_paper_1:{'Abstract': 'text', \n",
    "                                            'Title' : 'title', \n",
    "                                            'Date of publication' : '1999', \n",
    "                                            'Authors' : [a1, a2, a3], \n",
    "                                            'Epfl authors' : [{'name_author':'web_page'}], \n",
    "                                            'Involved Labs' : [{'name_lab' : 'lab_web_site'}], \n",
    "                                            'Keywords' : [k1, k2, k3]}\n",
    "                                            \n",
    "    \n",
    "*_Remark_*: due to the fact that the web pages don't always contain all the information, the dictionary related to each paper may vary. It implies that for the further analysis it may happen that the number of publications taken into account will vary according to the information it relies on."
   ]
  },
  {
   "cell_type": "code",
   "execution_count": 2,
   "metadata": {
    "collapsed": false
   },
   "outputs": [],
   "source": [
    "with open('paper.json', 'r') as f:\n",
    "    data = json.load(f)"
   ]
  },
  {
   "cell_type": "markdown",
   "metadata": {},
   "source": [
    "Decode authors name in order to get rid of duplicates due to spell differences. The used fuctions are store in the module [`UniformData.py`]()."
   ]
  },
  {
   "cell_type": "code",
   "execution_count": 3,
   "metadata": {
    "collapsed": true
   },
   "outputs": [],
   "source": [
    "# Uniform strings - Authors\n",
    "data = uniform_authors(data)"
   ]
  },
  {
   "cell_type": "code",
   "execution_count": 4,
   "metadata": {
    "collapsed": true
   },
   "outputs": [],
   "source": [
    "# Uniform strings - EPFL Authors\n",
    "data = uniform_epfl_authors(data)"
   ]
  },
  {
   "cell_type": "markdown",
   "metadata": {},
   "source": [
    "## General graph\n",
    " Before getting focused on the EPFL network, we built a graph that includes also the external researchers. The functions used in this section are stored in the module [`BuildGraphModule.py`]()."
   ]
  },
  {
   "cell_type": "code",
   "execution_count": 5,
   "metadata": {
    "collapsed": true
   },
   "outputs": [],
   "source": [
    "# Define the list of authors\n",
    "authors = get_authors(data, 'Authors')"
   ]
  },
  {
   "cell_type": "code",
   "execution_count": 6,
   "metadata": {
    "collapsed": false
   },
   "outputs": [],
   "source": [
    "# Obtain dictionary which connect authors to an identification number (and the reverse)\n",
    "dictionary_a_id, dictionary_id_a = create_authors_id(authors, 'all')"
   ]
  },
  {
   "cell_type": "markdown",
   "metadata": {},
   "source": [
    "In order to define the graph, for each author we provide the list of people he collaborates with."
   ]
  },
  {
   "cell_type": "code",
   "execution_count": null,
   "metadata": {
    "collapsed": false
   },
   "outputs": [],
   "source": [
    "# Define the dictionary (author, list collaborators)\n",
    "dict_authors = list_coauthors(data)"
   ]
  },
  {
   "cell_type": "markdown",
   "metadata": {},
   "source": [
    " For each author we count the number of collaborations with the same colleague."
   ]
  },
  {
   "cell_type": "code",
   "execution_count": null,
   "metadata": {
    "collapsed": false
   },
   "outputs": [],
   "source": [
    "# Compute the dictionary (author, dict(collaborator: number of common publication))\n",
    "dict_numb_coll = number_collaborations(dict_authors)"
   ]
  },
  {
   "cell_type": "markdown",
   "metadata": {},
   "source": [
    "Keep only the set of collaborators"
   ]
  },
  {
   "cell_type": "code",
   "execution_count": null,
   "metadata": {
    "collapsed": true
   },
   "outputs": [],
   "source": [
    "# Define the dictionary (author, set of collaborators)\n",
    "dict_authors_set = set_coauthors(dict_authors)"
   ]
  },
  {
   "cell_type": "markdown",
   "metadata": {},
   "source": [
    "Thus, define the edges of the graph."
   ]
  },
  {
   "cell_type": "code",
   "execution_count": null,
   "metadata": {
    "collapsed": false
   },
   "outputs": [],
   "source": [
    "# Create edges\n",
    "edges = create_edges(dict_authors_set, dictionary_a_id)"
   ]
  },
  {
   "cell_type": "code",
   "execution_count": 11,
   "metadata": {
    "collapsed": false
   },
   "outputs": [
    {
     "name": "stdout",
     "output_type": "stream",
     "text": [
      "Name: \n",
      "Type: Graph\n",
      "Number of nodes: 161431\n",
      "Number of edges: 17345810\n",
      "Average degree: 214.9006\n"
     ]
    }
   ],
   "source": [
    "G = create_simple_graph(dictionary_id_a, edges)"
   ]
  },
  {
   "cell_type": "code",
   "execution_count": 1,
   "metadata": {
    "collapsed": false
   },
   "outputs": [
    {
     "ename": "NameError",
     "evalue": "name 'G' is not defined",
     "output_type": "error",
     "traceback": [
      "\u001b[0;31m---------------------------------------------------------------------------\u001b[0m",
      "\u001b[0;31mNameError\u001b[0m                                 Traceback (most recent call last)",
      "\u001b[0;32m<ipython-input-1-6062460d6d8d>\u001b[0m in \u001b[0;36m<module>\u001b[0;34m()\u001b[0m\n\u001b[1;32m      1\u001b[0m \u001b[0;31m# Add weights\u001b[0m\u001b[0;34m\u001b[0m\u001b[0;34m\u001b[0m\u001b[0m\n\u001b[1;32m      2\u001b[0m \u001b[0ml\u001b[0m \u001b[0;34m=\u001b[0m \u001b[0;36m0\u001b[0m\u001b[0;34m\u001b[0m\u001b[0m\n\u001b[0;32m----> 3\u001b[0;31m \u001b[0;32mfor\u001b[0m \u001b[0mi\u001b[0m\u001b[0;34m,\u001b[0m\u001b[0mj\u001b[0m \u001b[0;32min\u001b[0m \u001b[0mG\u001b[0m\u001b[0;34m.\u001b[0m\u001b[0medges\u001b[0m\u001b[0;34m(\u001b[0m\u001b[0;34m)\u001b[0m\u001b[0;34m:\u001b[0m\u001b[0;34m\u001b[0m\u001b[0m\n\u001b[0m\u001b[1;32m      4\u001b[0m     \u001b[0mG\u001b[0m\u001b[0;34m[\u001b[0m\u001b[0mi\u001b[0m\u001b[0;34m]\u001b[0m\u001b[0;34m[\u001b[0m\u001b[0mj\u001b[0m\u001b[0;34m]\u001b[0m\u001b[0;34m[\u001b[0m\u001b[0;34m'weight'\u001b[0m\u001b[0;34m]\u001b[0m \u001b[0;34m=\u001b[0m \u001b[0mdict_numb_coll\u001b[0m\u001b[0;34m[\u001b[0m\u001b[0mdictionary_id_a\u001b[0m\u001b[0;34m[\u001b[0m\u001b[0mi\u001b[0m\u001b[0;34m]\u001b[0m\u001b[0;34m]\u001b[0m\u001b[0;34m[\u001b[0m\u001b[0mdictionary_id_a\u001b[0m\u001b[0;34m[\u001b[0m\u001b[0mj\u001b[0m\u001b[0;34m]\u001b[0m\u001b[0;34m]\u001b[0m\u001b[0;34m\u001b[0m\u001b[0m\n\u001b[1;32m      5\u001b[0m     \u001b[0ml\u001b[0m \u001b[0;34m+=\u001b[0m \u001b[0;36m1\u001b[0m\u001b[0;34m\u001b[0m\u001b[0m\n",
      "\u001b[0;31mNameError\u001b[0m: name 'G' is not defined"
     ]
    }
   ],
   "source": [
    "# Add weights\n",
    "l = 0\n",
    "for i,j in G.edges():\n",
    "    G[i][j]['weight'] = dict_numb_coll[dictionary_id_a[i]][dictionary_id_a[j]]\n",
    "    l += 1\n",
    "    print (l)"
   ]
  },
  {
   "cell_type": "markdown",
   "metadata": {},
   "source": [
    "### Graph measures \n",
    "We are now going to compute some coefficients that may give us an idea of the structure of the graph."
   ]
  },
  {
   "cell_type": "markdown",
   "metadata": {},
   "source": [
    "#### Degree distribution\n",
    "The degree of a node (author) in our network corresponds to the number of authors the node has collaborated with. The degree distribution is the probability distribution of these degrees over the whole network. "
   ]
  },
  {
   "cell_type": "code",
   "execution_count": null,
   "metadata": {
    "collapsed": true
   },
   "outputs": [],
   "source": [
    "G_deg = G.degree(G.nodes())\n",
    "G_deg_values = sorted(G_deg.values(), reverse = True)"
   ]
  },
  {
   "cell_type": "markdown",
   "metadata": {},
   "source": [
    "The following plot shows that the number of authors that collaborate with a huge number of researchers is very small. Whereas the number of nodes with low number of connections is high."
   ]
  },
  {
   "cell_type": "code",
   "execution_count": null,
   "metadata": {
    "collapsed": true
   },
   "outputs": [],
   "source": [
    "plot_measures(G_deg_values, 'Degree distribution', 'Number of authors', 'Degree', 'degree_distribution')"
   ]
  },
  {
   "cell_type": "markdown",
   "metadata": {},
   "source": [
    "#### PageRank centrality\n",
    "The PageRank allows us to identify the most important authors in the network. It is a probability distribution used to represent the likelihood that we are able to randomly arrive at any particular author."
   ]
  },
  {
   "cell_type": "code",
   "execution_count": null,
   "metadata": {
    "collapsed": true
   },
   "outputs": [],
   "source": [
    "pr_centrality = nx.pagerank(G)\n",
    "tuples_pr = pr_centrality.items()\n",
    "pr_sorted = sorted(pr_centrality.values(),reverse = True)"
   ]
  },
  {
   "cell_type": "markdown",
   "metadata": {},
   "source": [
    "The distribution seems to be like the Zipf's law. Few have considerably high probability respect the other nodes. We don't prove it, it should have been done using the Kolmogorov-Smirnov test."
   ]
  },
  {
   "cell_type": "code",
   "execution_count": null,
   "metadata": {
    "collapsed": true
   },
   "outputs": [],
   "source": [
    "plot_measures(pr_sorted, 'Page Rank centrality', 'Authors', 'Page Rank', 'page_rank_centrality')"
   ]
  },
  {
   "cell_type": "markdown",
   "metadata": {},
   "source": [
    "#### Average clustering coefficient\n",
    "How much, on average, authors tend to create groups characterised by a relatively high density of edges."
   ]
  },
  {
   "cell_type": "code",
   "execution_count": null,
   "metadata": {
    "collapsed": true
   },
   "outputs": [],
   "source": [
    "avg_coeff = nx.average_clustering(G)"
   ]
  },
  {
   "cell_type": "markdown",
   "metadata": {},
   "source": [
    "## EPFL graph\n",
    "\n",
    "We built the EPFL network repeating the same aforementioned operations. The graph is trimmed by using only `Epfl authors`."
   ]
  },
  {
   "cell_type": "code",
   "execution_count": 5,
   "metadata": {
    "collapsed": false
   },
   "outputs": [],
   "source": [
    "authors_epfl = get_authors(data, 'Epfl authors')\n",
    "# Due to the format which the authors have been saved\n",
    "\n",
    "# We initialize a new list\n",
    "epfl_authors = []\n",
    "\n",
    "# Then for each element in the previous list\n",
    "for i in authors_epfl:\n",
    "    # We unpack the content\n",
    "    epfl_authors += list(i.keys())"
   ]
  },
  {
   "cell_type": "code",
   "execution_count": 6,
   "metadata": {
    "collapsed": true
   },
   "outputs": [],
   "source": [
    "# Id-Author / Author-ID\n",
    "dictionary_a_id_epfl, dictionary_id_a_epfl = create_authors_id(epfl_authors, 'epfl')"
   ]
  },
  {
   "cell_type": "code",
   "execution_count": 7,
   "metadata": {
    "collapsed": true
   },
   "outputs": [],
   "source": [
    "# EPFL - COAUTORI NELLA LISTA DI EPFL AUTHORS\n",
    "dict_authors_epfl = list_coauthors_epfl(data)"
   ]
  },
  {
   "cell_type": "code",
   "execution_count": 8,
   "metadata": {
    "collapsed": true
   },
   "outputs": [],
   "source": [
    "# Number of collaborations\n",
    "dict_numb_coll_epfl = number_collaborations(dict_authors_epfl)"
   ]
  },
  {
   "cell_type": "code",
   "execution_count": 9,
   "metadata": {
    "collapsed": true
   },
   "outputs": [],
   "source": [
    "# Coauthors set\n",
    "dict_authors_set_epfl = set_coauthors(dict_authors_epfl)"
   ]
  },
  {
   "cell_type": "code",
   "execution_count": 10,
   "metadata": {
    "collapsed": true
   },
   "outputs": [],
   "source": [
    "# Set of edges\n",
    "edges_epfl = create_edges(dict_authors_set_epfl, dictionary_a_id_epfl)"
   ]
  },
  {
   "cell_type": "code",
   "execution_count": 11,
   "metadata": {
    "collapsed": false
   },
   "outputs": [
    {
     "name": "stdout",
     "output_type": "stream",
     "text": [
      "Name: \n",
      "Type: Graph\n",
      "Number of nodes: 13451\n",
      "Number of edges: 45417\n",
      "Average degree:   6.7530\n"
     ]
    }
   ],
   "source": [
    "# Build the graph\n",
    "G = create_simple_graph(dictionary_id_a_epfl, edges_epfl)"
   ]
  },
  {
   "cell_type": "markdown",
   "metadata": {},
   "source": [
    "Comparing the dimension and the composition of the two built network, the one made up by only EPFL researchers is:\n",
    "\n",
    "* Almost ten times smaller in terms of authors, for each EPFL author there are 9 from another university. \n",
    "* The number of connections between authors is drastically reduced. It may be explaind by the fact that, due to the fact that the *external* (no EPFL) nodes are a way more than the *internal* (EPFL), the probability of having a connection with someone in the graph is higher, hence we obtain more edges.\n",
    "* The number of average degree, which represents the average number of people any authors collaborate with, in the entire graph is high (214), and is 35 times bigger than the one in the EPFL network. It is interesting, since it may be said that the community research connected to EPFL is international, it is because most of the collaborators are from outside EPFL."
   ]
  },
  {
   "cell_type": "code",
   "execution_count": 12,
   "metadata": {
    "collapsed": false
   },
   "outputs": [],
   "source": [
    "# Add weights to the edges\n",
    "for i,j in G.edges():\n",
    "    G[i][j]['weight'] = dict_numb_coll_epfl[dictionary_id_a_epfl[i]][dictionary_id_a_epfl[j]]"
   ]
  },
  {
   "cell_type": "markdown",
   "metadata": {},
   "source": [
    "#### Perform the same algorithms and measures only on EPFL graph"
   ]
  },
  {
   "cell_type": "code",
   "execution_count": 13,
   "metadata": {
    "collapsed": true
   },
   "outputs": [],
   "source": [
    "G_deg = G.degree(G.nodes())\n",
    "G_deg_values = sorted(G_deg.values(), reverse = True)"
   ]
  },
  {
   "cell_type": "code",
   "execution_count": 14,
   "metadata": {
    "collapsed": false
   },
   "outputs": [
    {
     "data": {
      "image/png": "[encoded data removed]",
      "text/plain": [
       "<matplotlib.figure.Figure at 0x11b6ed940>"
      ]
     },
     "metadata": {},
     "output_type": "display_data"
    }
   ],
   "source": [
    "plot_measures(G_deg_values, 'Degree distribution', 'Number of authors', 'Degree', 'degree_distribution')"
   ]
  },
  {
   "cell_type": "markdown",
   "metadata": {},
   "source": [
    "Also for the ERN, we see that only few authors have a really high number of connection, a lot of them just less than 10 connections (that's why the average results to be around 6)."
   ]
  },
  {
   "cell_type": "code",
   "execution_count": 15,
   "metadata": {
    "collapsed": false
   },
   "outputs": [],
   "source": [
    "pr_centrality = nx.pagerank(G)\n",
    "tuples_pr = pr_centrality.items()\n",
    "pr_sorted = sorted(pr_centrality.values(),reverse = True)"
   ]
  },
  {
   "cell_type": "code",
   "execution_count": 16,
   "metadata": {
    "collapsed": false
   },
   "outputs": [
    {
     "data": {
      "image/png": "[encoded data removed]",
      "text/plain": [
       "<matplotlib.figure.Figure at 0x11f036710>"
      ]
     },
     "metadata": {},
     "output_type": "display_data"
    }
   ],
   "source": [
    "plot_measures(pr_sorted, 'Page Rank centrality', 'Authors', 'Page Rank', 'page_rank_centrality')"
   ]
  },
  {
   "cell_type": "markdown",
   "metadata": {},
   "source": [
    "The number of authors that have high probability of being reached from the others are few. We extract the 10 most important. \n",
    "\n",
    "*__Remark__*: we run on the EPFL the PageRank making the assumption that the graph is complete. Anyway interpreting the top authors as the most important, we should keep in mind that the obtained values may be dependent on the exclusion of *external* EPFL authors. "
   ]
  },
  {
   "cell_type": "markdown",
   "metadata": {},
   "source": [
    "##### Top 10 authors according to the PageRank"
   ]
  },
  {
   "cell_type": "code",
   "execution_count": 17,
   "metadata": {
    "collapsed": true
   },
   "outputs": [],
   "source": [
    "# Sort the PageRank values\n",
    "pr_centralities_sorted = sorted(tuples_pr, key = getKey)\n",
    "# Keep the best 10\n",
    "top_10_pr_centr = pr_centralities_sorted[-10:]"
   ]
  },
  {
   "cell_type": "code",
   "execution_count": 18,
   "metadata": {
    "collapsed": false
   },
   "outputs": [],
   "source": [
    "# Get the list of the name\n",
    "list_top_ten = []\n",
    "for i in top_10_pr_centr:\n",
    "    # Append element to the list\n",
    "    list_top_ten += [dictionary_id_a_epfl[i[0]]]"
   ]
  },
  {
   "cell_type": "markdown",
   "metadata": {},
   "source": [
    "The following list of name corresponds to the top 10 authors. It goes from the 10th to the first."
   ]
  },
  {
   "cell_type": "code",
   "execution_count": 19,
   "metadata": {
    "collapsed": false
   },
   "outputs": [
    {
     "data": {
      "text/plain": [
       "['renaud philippe',\n",
       " 'aberer karl',\n",
       " 'thiran jean-philippe',\n",
       " 'de micheli giovanni',\n",
       " 'leblebici yusuf',\n",
       " 'vetterli martin',\n",
       " 'perriard yves',\n",
       " 'marechal francois',\n",
       " 'schleiss anton',\n",
       " 'graetzel michael']"
      ]
     },
     "execution_count": 19,
     "metadata": {},
     "output_type": "execute_result"
    }
   ],
   "source": [
    "list_top_ten"
   ]
  },
  {
   "cell_type": "markdown",
   "metadata": {},
   "source": [
    "##### Average clustering coefficient"
   ]
  },
  {
   "cell_type": "markdown",
   "metadata": {},
   "source": [
    "The average clustering coefficient results to be quite high, moreover it is a way bigger than that obtain from a random graph."
   ]
  },
  {
   "cell_type": "code",
   "execution_count": 20,
   "metadata": {
    "collapsed": false
   },
   "outputs": [
    {
     "data": {
      "text/plain": [
       "0.5448363209546241"
      ]
     },
     "execution_count": 20,
     "metadata": {},
     "output_type": "execute_result"
    }
   ],
   "source": [
    "avg_coeff = nx.average_clustering(G)\n",
    "avg_coeff"
   ]
  },
  {
   "cell_type": "markdown",
   "metadata": {},
   "source": [
    "#### First observation about the structure of the Epfl Researchers Network\n",
    "\n",
    "The ERN is a __*small-world*__: most researcher have not collaborated together, but the co-authors of any given researcher are likely to be co-authors of each other (avg clustering coef). Moreover, most authors can be reached from every other by a small number of hops (average short path)."
   ]
  },
  {
   "cell_type": "markdown",
   "metadata": {},
   "source": [
    "#### Before analysing\n",
    "\n",
    "We retrive the range of year we are working with."
   ]
  },
  {
   "cell_type": "code",
   "execution_count": 21,
   "metadata": {
    "collapsed": true
   },
   "outputs": [],
   "source": [
    "# Get the range of years\n",
    "dict_years = defaultdict(int)\n",
    "# For each paper\n",
    "for paper in list(data.keys()):\n",
    "    # Whether the paper instance has the date specified\n",
    "    try:\n",
    "        dict_years[data[paper]['Publication date']] += 1\n",
    "    # If not go on\n",
    "    except:\n",
    "        continue"
   ]
  },
  {
   "cell_type": "code",
   "execution_count": 22,
   "metadata": {
    "collapsed": true
   },
   "outputs": [],
   "source": [
    "# Get rid of the unidentified years\n",
    "del dict_years['August 31-September 2 2005']\n",
    "del dict_years['0']"
   ]
  },
  {
   "cell_type": "markdown",
   "metadata": {},
   "source": [
    "We thake a brief look at the paper distribution over the entire period."
   ]
  },
  {
   "cell_type": "code",
   "execution_count": 23,
   "metadata": {
    "collapsed": false
   },
   "outputs": [
    {
     "data": {
      "text/plain": [
       "<matplotlib.text.Text at 0x11e667a90>"
      ]
     },
     "execution_count": 23,
     "metadata": {},
     "output_type": "execute_result"
    },
    {
     "data": {
      "image/png": "[encoded data removed]",
      "text/plain": [
       "<matplotlib.figure.Figure at 0x124f62eb8>"
      ]
     },
     "metadata": {},
     "output_type": "display_data"
    }
   ],
   "source": [
    "plt.figure(figsize=(15,8), dpi=80)\n",
    "plt.bar(dict_years.keys(), dict_years.values(), 0.5, color='g')\n",
    "plt.ylabel('Number of pubblication')\n",
    "plt.title(\"EPFL papers distribution\")"
   ]
  },
  {
   "cell_type": "markdown",
   "metadata": {},
   "source": [
    "After a first glance twe observe that:\n",
    "* The oldest publications are those which may contain fragmented and incomplete information\n",
    "* The number of publication in considerably higher from the latest 90s to nowdays\n",
    "\n",
    "As consequence we decide to focus our attention on the publications between 1993 and 2015/6. The function in use is stored in [`MultiGraph.py`]() module."
   ]
  },
  {
   "cell_type": "code",
   "execution_count": 24,
   "metadata": {
    "collapsed": false
   },
   "outputs": [],
   "source": [
    "# Hence, we cut the data we work on\n",
    "data_cut = cut_data(data)"
   ]
  },
  {
   "cell_type": "markdown",
   "metadata": {},
   "source": [
    "Regarding the selected data, we observe the during the last years the production of paper is reducing. The plausible explanation for this phenomenon is that the EPFL is aiming to an higher quality production insted of a quantitative one."
   ]
  },
  {
   "cell_type": "markdown",
   "metadata": {},
   "source": [
    "#### Further data gaining\n",
    "In order to explore the ERN such that interaction between schools and labs is possible, we should proceed scraping the specific lab an author belongs to and the school a lab is part of."
   ]
  },
  {
   "cell_type": "markdown",
   "metadata": {},
   "source": [
    "##### A. Scrape EPFL structure\n",
    "* We scrape the EPFL structure from the EPFL website, which result to have a tree structure.\n",
    "\n",
    "In order to speed up the operations, before traverse the tree, we reduce the branches to explore just selectiong the school's ones.\n",
    "\n",
    "* From the root of the tree (EPFL) we extract the urls related to the schools. In particular we consider:\n",
    " - ENAC: SCHOOL OF ARCHITECTURE, CIVIL AND ENVIRONMENTAL ENGINEERING\n",
    " - IC: SCHOOL OF COMPUTER AND COMMUNICATION SCIENCES\n",
    " - STI: SCHOOL OF ENGINEERING\n",
    " - SB: SCHOOL OF BASIC SCIENCES\n",
    " - SV: SCHOOL OF LIFE SCIENCE"
   ]
  },
  {
   "cell_type": "code",
   "execution_count": 25,
   "metadata": {
    "collapsed": true
   },
   "outputs": [],
   "source": [
    "# From the root (EPFL): obtain the first level of the tree (schools)\n",
    "\n",
    "#req = requests.get('https://search.epfl.ch/ubrowse.action?acro=EPFL')\n",
    "#html = req.content\n",
    "#soup = BeautifulSoup(html, 'html.parser')\n",
    "\n",
    "# Get the urls for the schools\n",
    "\n",
    "#new_links_to_go = []\n",
    "#dictio = []\n",
    "# Go to the second level of the tree\n",
    "#for i in soup.findAll('div', {'class':'unit_name'}):\n",
    "    # Keep only the schools\n",
    "#    if i.findAll('a')[0].text.strip()[:6] == 'School':\n",
    "#        new_links_to_go += [i.findAll('a')[0].get('href')]\n",
    "#        dictio += [i.findAll('a')[0].text.strip()]"
   ]
  },
  {
   "cell_type": "markdown",
   "metadata": {},
   "source": [
    "* So, for each school we traverse the tree until the labs level. To do so we use the function `tracerse_epfl_tree` stored in module [`MultiGraph.py`]()."
   ]
  },
  {
   "cell_type": "code",
   "execution_count": 26,
   "metadata": {
    "collapsed": true
   },
   "outputs": [],
   "source": [
    "#prova = {}\n",
    "#traverse_epfl_tree('https://search.epfl.ch/ubrowse.action?acro=IC')"
   ]
  },
  {
   "cell_type": "markdown",
   "metadata": {},
   "source": [
    "* The data is dumped in separate file for each school."
   ]
  },
  {
   "cell_type": "code",
   "execution_count": 27,
   "metadata": {
    "collapsed": true
   },
   "outputs": [],
   "source": [
    "# Store the result related to each different school\n",
    "#pickle.dump(prova, open('IC.p', 'wb')) "
   ]
  },
  {
   "cell_type": "markdown",
   "metadata": {},
   "source": [
    "Then, to each lab we connect the school.\n",
    "1. Get informations about the labs\n",
    "2. Connect "
   ]
  },
  {
   "cell_type": "code",
   "execution_count": 28,
   "metadata": {
    "collapsed": true
   },
   "outputs": [],
   "source": [
    "# We built three different dictionary that may be used later. The function documentation provides informations about\n",
    "dict_lab_site, dict_labs, dict_labs_paper = lab_dictionaries(data_cut)"
   ]
  },
  {
   "cell_type": "markdown",
   "metadata": {},
   "source": [
    "###### Top 10 labs in according to the number of pubblications"
   ]
  },
  {
   "cell_type": "code",
   "execution_count": 29,
   "metadata": {
    "collapsed": true
   },
   "outputs": [],
   "source": [
    "dict_labs_sorted = sorted(dict_labs.items(), key=lambda value: value[1], reverse = True)"
   ]
  },
  {
   "cell_type": "code",
   "execution_count": 30,
   "metadata": {
    "collapsed": false
   },
   "outputs": [
    {
     "data": {
      "text/plain": [
       "[('Swiss Plasma Center', 3344),\n",
       " ('Center for Research In Plasma Physics', 3221),\n",
       " ('Offered in consultation at the EPFL Library', 1622),\n",
       " (\"L'IDIAP Laboratory\", 1376),\n",
       " ('Transportation and Mobility Laboratory', 1186),\n",
       " ('Human and social sciences teaching program', 1146),\n",
       " ('Sensors, Actuators and Microsystems Laboratory', 1085),\n",
       " ('Urban Sociology Laboratory', 825),\n",
       " ('Electromagnetics and Acoustics Laboratory', 808),\n",
       " ('Laboratory of Photonics and Interfaces', 764)]"
      ]
     },
     "execution_count": 30,
     "metadata": {},
     "output_type": "execute_result"
    }
   ],
   "source": [
    "dict_labs_sorted[:10]"
   ]
  },
  {
   "cell_type": "markdown",
   "metadata": {},
   "source": [
    "* Connect lab to school. Function `school_lab` stored in [`MultiGraph.py`]() module."
   ]
  },
  {
   "cell_type": "code",
   "execution_count": 31,
   "metadata": {
    "collapsed": true
   },
   "outputs": [],
   "source": [
    "#lab_school = school_lab(dict_lab_site, 'IC')"
   ]
  },
  {
   "cell_type": "markdown",
   "metadata": {},
   "source": [
    "##### B. Get lab for each author\n",
    "We retrieve the labs of authors using this logic: whether only one lab is mentioned on InfoScience page, the EPFL authors are assumed to belong to that lab. Whether more than one lab is involved, we scrape the People page of the author. This procedure can lead to loosing some information since the pages of authors that are no more part of the EPLF have no longer the page on People."
   ]
  },
  {
   "cell_type": "code",
   "execution_count": 32,
   "metadata": {
    "collapsed": true
   },
   "outputs": [],
   "source": [
    "# Get the dictionary (author, list collaborators with info)\n",
    "dict_authors_epfl = get_collaborators(data)"
   ]
  },
  {
   "cell_type": "code",
   "execution_count": 33,
   "metadata": {
    "collapsed": true
   },
   "outputs": [],
   "source": [
    "# Get the dictionary (author, dict(collaborator,list of common works))\n",
    "dict_coautorship_papers = coauthorship_papers(dict_authors_epfl)"
   ]
  },
  {
   "cell_type": "code",
   "execution_count": 34,
   "metadata": {
    "collapsed": true
   },
   "outputs": [],
   "source": [
    "# Define the dictionary (authos, set of papers)\n",
    "list_paper = paper_per_author(dict_coautorship_papers)"
   ]
  },
  {
   "cell_type": "markdown",
   "metadata": {},
   "source": [
    "Apply the function ([`MultiGraph.py`]()) to have the correspondence. And store what obtained."
   ]
  },
  {
   "cell_type": "code",
   "execution_count": 35,
   "metadata": {
    "collapsed": true
   },
   "outputs": [],
   "source": [
    "#author_lab = get_authors_lab(list_paper, data)[0]\n",
    "#pickle.dump(author_lab, open('author_lab.p', 'wb')) # Store the variable in a file."
   ]
  },
  {
   "cell_type": "code",
   "execution_count": 36,
   "metadata": {
    "collapsed": true
   },
   "outputs": [],
   "source": [
    "lab = pickle.load(open('author_lab.p', 'rb'))"
   ]
  },
  {
   "cell_type": "markdown",
   "metadata": {},
   "source": [
    "* Little example of what we get"
   ]
  },
  {
   "cell_type": "code",
   "execution_count": 37,
   "metadata": {
    "collapsed": false
   },
   "outputs": [
    {
     "data": {
      "text/plain": [
       "'Distributed Information Systems Laboratory'"
      ]
     },
     "execution_count": 37,
     "metadata": {},
     "output_type": "execute_result"
    }
   ],
   "source": [
    "lab['catasta michele']"
   ]
  },
  {
   "cell_type": "markdown",
   "metadata": {},
   "source": [
    "### School growth over the years\n",
    "\n"
   ]
  },
  {
   "cell_type": "code",
   "execution_count": 38,
   "metadata": {
    "collapsed": false
   },
   "outputs": [],
   "source": [
    "# Get the list of paper lab and year. Dictionary (lab, dict(year, list of papers))\n",
    "dict_lab_years_pub = lab_year_pub(dict_labs_paper, data_cut)"
   ]
  },
  {
   "cell_type": "code",
   "execution_count": 39,
   "metadata": {
    "collapsed": true
   },
   "outputs": [],
   "source": [
    "# Dictionary (year, total number of papers)\n",
    "year_papers = year_papers_(dict_lab_years_pub)"
   ]
  },
  {
   "cell_type": "code",
   "execution_count": 40,
   "metadata": {
    "collapsed": true
   },
   "outputs": [],
   "source": [
    "dict_author_year = lab_author_year(dict_lab_years_pub, data_cut)"
   ]
  },
  {
   "cell_type": "code",
   "execution_count": 41,
   "metadata": {
    "collapsed": false
   },
   "outputs": [],
   "source": [
    "# Get dictionary (lab, dict(year,num of pubblication))\n",
    "dict_lab_years = lab_year(dict_labs_paper, data_cut)"
   ]
  },
  {
   "cell_type": "code",
   "execution_count": 42,
   "metadata": {
    "collapsed": false
   },
   "outputs": [],
   "source": [
    "# Dictionary (year, number of authors)\n",
    "year_authors = year_auth(dict_lab_years)"
   ]
  },
  {
   "cell_type": "markdown",
   "metadata": {},
   "source": [
    "We represent the distribution of publication between 1993-2016. The number are different from the previous plot since we filter them by lab and not every paper has the attribute labs."
   ]
  },
  {
   "cell_type": "code",
   "execution_count": 43,
   "metadata": {
    "collapsed": true
   },
   "outputs": [],
   "source": [
    "def getKey_0(item):\n",
    "    return item[0]"
   ]
  },
  {
   "cell_type": "code",
   "execution_count": 44,
   "metadata": {
    "collapsed": true
   },
   "outputs": [],
   "source": [
    "def get_sorted_array(dict_school_pub):\n",
    "    \n",
    "    tuples_pr = dict_school_pub.items()\n",
    "    sort = sorted(tuples_pr, key = getKey_0)\n",
    "    x = [int(i[0]) for i in sort[:-1]]\n",
    "    y = [i[1] for i in sort[:-1]]\n",
    "    \n",
    "    return y,x"
   ]
  },
  {
   "cell_type": "code",
   "execution_count": 45,
   "metadata": {
    "collapsed": true
   },
   "outputs": [],
   "source": [
    "y,x = get_sorted_array(year_papers)\n",
    "ind = np.arange(1993,2017)"
   ]
  },
  {
   "cell_type": "code",
   "execution_count": 46,
   "metadata": {
    "collapsed": false
   },
   "outputs": [
    {
     "data": {
      "image/png": "[encoded data removed]",
      "text/plain": [
       "<matplotlib.figure.Figure at 0x11e652e48>"
      ]
     },
     "metadata": {},
     "output_type": "display_data"
    }
   ],
   "source": [
    "plt.figure(figsize=(15,8), dpi=80)\n",
    "plt.bar(x, y, color = 'r', width=0.5)\n",
    "plt.ylabel('Number of pubblication')\n",
    "plt.title(\"EPFL paper 1993-2016\")\n",
    "plt.xticks(ind, np.arange(1993,2017), rotation = 45)\n",
    "plt.yticks(np.arange(0, 4300, 300))\n",
    "plt.savefig('epfl_activity.png', dpi=100)"
   ]
  },
  {
   "cell_type": "code",
   "execution_count": 47,
   "metadata": {
    "collapsed": true
   },
   "outputs": [],
   "source": [
    "list_schools = ['ENAC', 'SB', 'IC', 'STI', 'SV']\n",
    "dict_school_pub = {}\n",
    "dict_school_authors = {}"
   ]
  },
  {
   "cell_type": "code",
   "execution_count": 48,
   "metadata": {
    "collapsed": false
   },
   "outputs": [],
   "source": [
    "# Dictionary (School, dict(year, number of publication))\n",
    "for school in list_schools:\n",
    "    sc_labs = school_lab(dict_lab_site, school)\n",
    "    dict_school_pub = school_publication(sc_labs, school, dict_lab_years, dict_school_pub)"
   ]
  },
  {
   "cell_type": "code",
   "execution_count": 49,
   "metadata": {
    "collapsed": true
   },
   "outputs": [],
   "source": [
    "total_year = defaultdict(int)\n",
    "for school in list_schools:\n",
    "    for year in list(dict_school_pub['ENAC'].keys()):\n",
    "        total_year[year] += dict_school_pub[school][year]"
   ]
  },
  {
   "cell_type": "code",
   "execution_count": 50,
   "metadata": {
    "collapsed": true
   },
   "outputs": [],
   "source": [
    "def get_sorted_array_scaled(dict_school_pub, school, total_year):\n",
    "    \n",
    "    tuples_pr = dict_school_pub[school].items()\n",
    "    sort = sorted(tuples_pr, key = getKey_0)\n",
    "    x = [int(i[0]) for i in sort[:-1]]\n",
    "    y = [i[1]/total_year[i[0]] for i in sort[:-1]]\n",
    "    \n",
    "    return y,x"
   ]
  },
  {
   "cell_type": "code",
   "execution_count": 51,
   "metadata": {
    "collapsed": false
   },
   "outputs": [],
   "source": [
    "ENAC_scaled = get_sorted_array_scaled(dict_school_pub, 'ENAC', total_year)[0]\n",
    "IC_scaled = get_sorted_array_scaled(dict_school_pub, 'IC', total_year)[0]\n",
    "SV_scaled = get_sorted_array_scaled(dict_school_pub, 'SV', total_year)[0]\n",
    "SB_scaled = get_sorted_array_scaled(dict_school_pub, 'SB', total_year)[0]\n",
    "STI_scaled = get_sorted_array_scaled(dict_school_pub, 'STI', total_year)[0][:-1]"
   ]
  },
  {
   "cell_type": "code",
   "execution_count": 52,
   "metadata": {
    "collapsed": true
   },
   "outputs": [],
   "source": [
    "N = 23\n",
    "ind = np.arange(1993,2016)\n",
    "width = 0.5 \n",
    "colours = ['Red','Darkred','Pink','Blue','Lime']#,'Coral','Olive','SteelBlue','Yellow','Orange']"
   ]
  },
  {
   "cell_type": "code",
   "execution_count": 53,
   "metadata": {
    "collapsed": false
   },
   "outputs": [
    {
     "data": {
      "image/png": "[encoded data removed]",
      "text/plain": [
       "<matplotlib.figure.Figure at 0x135a886d8>"
      ]
     },
     "metadata": {},
     "output_type": "display_data"
    }
   ],
   "source": [
    "plt.figure(figsize=(15,8), dpi=80)\n",
    "p1 = plt.bar(ind, ENAC_scaled, width, color = 'red')\n",
    "p5 = plt.bar(ind, IC_scaled, width, bottom=ENAC_scaled, color = 'orange')\n",
    "p4 = plt.bar(ind, SB_scaled, width, bottom=[i+j for i,j in list(zip(ENAC_scaled, IC_scaled))], color = 'yellow')\n",
    "p2 = plt.bar(ind, SV_scaled, width, bottom=[i+j+k for i,j,k in list(zip(ENAC_scaled, IC_scaled, SB_scaled))], color = 'green')\n",
    "p3 = plt.bar(ind, STI_scaled, width, bottom=[i+j+k+l for i,j,k,l in list(zip(ENAC_scaled, IC_scaled, SB_scaled,SV_scaled))], color = 'blue')\n",
    "\n",
    "plt.legend((p1[0], p5[0], p4[0], p2[0], p3[0]), ('ENAC', 'IC', 'SB', 'SV', 'STI'))\n",
    "\n",
    "plt.ylabel('Proportion of published work')\n",
    "plt.title(\"Schools' activity\")\n",
    "plt.xticks(ind, np.arange(1993,2016), rotation = 45)\n",
    "plt.yticks(np.arange(0, 1, 0.1))\n",
    "plt.savefig('school_activity_scaled.png', dpi=100)"
   ]
  },
  {
   "cell_type": "code",
   "execution_count": 54,
   "metadata": {
    "collapsed": true
   },
   "outputs": [],
   "source": [
    "# Dictionary (School, dict(year, number of authors))\n",
    "for school in list_schools:\n",
    "    sc_labs = school_lab(dict_lab_site, school)\n",
    "    dict_school_authors = school_author(sc_labs, school, dict_author_year, dict_school_authors)"
   ]
  },
  {
   "cell_type": "code",
   "execution_count": 55,
   "metadata": {
    "collapsed": true
   },
   "outputs": [],
   "source": [
    "ratio_productivity = []\n",
    "for school in list_schools:\n",
    "    for year in list(dict_school_authors[school].keys()):\n",
    "        try:\n",
    "            ratio_productivity += [(dict_school_pub[school][year],dict_school_authors[school][year])]\n",
    "        except:\n",
    "            continue    "
   ]
  },
  {
   "cell_type": "code",
   "execution_count": 56,
   "metadata": {
    "collapsed": true
   },
   "outputs": [],
   "source": [
    "import pandas as pd\n",
    "df = pd.DataFrame(ratio_productivity, columns=['Publications', 'Authors'])"
   ]
  },
  {
   "cell_type": "code",
   "execution_count": 57,
   "metadata": {
    "collapsed": false
   },
   "outputs": [
    {
     "data": {
      "text/plain": [
       "<matplotlib.collections.PathCollection at 0x13fda6e48>"
      ]
     },
     "execution_count": 57,
     "metadata": {},
     "output_type": "execute_result"
    },
    {
     "data": {
      "image/png": "[encoded data removed]",
      "text/plain": [
       "<matplotlib.figure.Figure at 0x13fd54be0>"
      ]
     },
     "metadata": {},
     "output_type": "display_data"
    }
   ],
   "source": [
    "plt.scatter(df['Publications'], df['Authors'], marker='o', color='b')"
   ]
  },
  {
   "cell_type": "code",
   "execution_count": 58,
   "metadata": {
    "collapsed": true
   },
   "outputs": [],
   "source": [
    "import numpy as np\n",
    "from sklearn import datasets, linear_model\n",
    "import matplotlib.pyplot as plt"
   ]
  },
  {
   "cell_type": "code",
   "execution_count": 59,
   "metadata": {
    "collapsed": true
   },
   "outputs": [],
   "source": [
    "regr = linear_model.LinearRegression()"
   ]
  },
  {
   "cell_type": "code",
   "execution_count": 60,
   "metadata": {
    "collapsed": false
   },
   "outputs": [
    {
     "data": {
      "text/plain": [
       "LinearRegression(copy_X=True, fit_intercept=True, n_jobs=1, normalize=False)"
      ]
     },
     "execution_count": 60,
     "metadata": {},
     "output_type": "execute_result"
    }
   ],
   "source": [
    "regr.fit( df['Authors'].to_frame(), df['Publications'].to_frame())"
   ]
  },
  {
   "cell_type": "code",
   "execution_count": 61,
   "metadata": {
    "collapsed": false
   },
   "outputs": [
    {
     "data": {
      "image/png": "[encoded data removed]",
      "text/plain": [
       "<matplotlib.figure.Figure at 0x1432969b0>"
      ]
     },
     "metadata": {},
     "output_type": "display_data"
    }
   ],
   "source": [
    "plt.scatter(df['Authors'].to_frame(), df['Publications'].to_frame(),  color='black')\n",
    "plt.plot(df['Authors'].to_frame(), regr.predict(df['Authors'].to_frame()), color='red', linewidth=1)\n",
    "plt.xticks(())\n",
    "plt.yticks(())\n",
    "plt.show()"
   ]
  },
  {
   "cell_type": "code",
   "execution_count": 62,
   "metadata": {
    "collapsed": false
   },
   "outputs": [
    {
     "data": {
      "text/plain": [
       "0.54510605590358607"
      ]
     },
     "execution_count": 62,
     "metadata": {},
     "output_type": "execute_result"
    }
   ],
   "source": [
    "regr.score(df['Authors'].to_frame(), df['Publications'].to_frame())"
   ]
  },
  {
   "cell_type": "markdown",
   "metadata": {},
   "source": [
    "### Internationality"
   ]
  },
  {
   "cell_type": "code",
   "execution_count": 63,
   "metadata": {
    "collapsed": true
   },
   "outputs": [],
   "source": [
    "# Get the range of years\n",
    "dict_years = defaultdict(int)\n",
    "dict_year_authors = defaultdict(float)\n",
    "dict_year_epfl_authors = defaultdict(float)\n",
    "dict_authors = defaultdict(float)\n",
    "for paper in list(data.keys()):\n",
    "    try:\n",
    "        #print (paper['Publication date'])\n",
    "        dict_years[data[paper]['Publication date']] += 1\n",
    "        dict_year_authors[data[paper]['Publication date']] += len(data[paper]['Authors'])\n",
    "        dict_year_epfl_authors[data[paper]['Publication date']] += len(data[paper]['Epfl authors'])\n",
    "        \n",
    "    except:\n",
    "        pass\n",
    "    try:\n",
    "        for author in data[paper]['Epfl authors']:\n",
    "            dict_authors[author.keys()[0]] += 1\n",
    "    except:\n",
    "        continue"
   ]
  },
  {
   "cell_type": "code",
   "execution_count": 64,
   "metadata": {
    "collapsed": false
   },
   "outputs": [
    {
     "data": {
      "text/plain": [
       "12.0"
      ]
     },
     "execution_count": 64,
     "metadata": {},
     "output_type": "execute_result"
    }
   ],
   "source": [
    "dict_year_authors.pop('0', None)\n",
    "dict_year_authors.pop('August 31-September 2 2005', None)\n",
    "dict_year_authors.pop('2017', None)"
   ]
  },
  {
   "cell_type": "code",
   "execution_count": 65,
   "metadata": {
    "collapsed": true
   },
   "outputs": [],
   "source": [
    "def normalize_dict(d):\n",
    "    factor=1.0/sum(list(d.values()))\n",
    "    for k in d:\n",
    "        d[k] = d[k]*factor\n",
    "    return d"
   ]
  },
  {
   "cell_type": "code",
   "execution_count": 66,
   "metadata": {
    "collapsed": true
   },
   "outputs": [],
   "source": [
    "open_measure = defaultdict(float)\n",
    "open_measure_scaled = defaultdict(float)\n",
    "for year in list(dict_year_authors.keys()):\n",
    "    open_measure[year] = (dict_year_epfl_authors[year] / dict_year_authors[year])\n",
    "    open_measure_scaled[year] = (dict_year_epfl_authors[year] / dict_year_authors[year])*dict_years[year]"
   ]
  },
  {
   "cell_type": "code",
   "execution_count": 67,
   "metadata": {
    "collapsed": true
   },
   "outputs": [],
   "source": [
    "import numpy as np"
   ]
  },
  {
   "cell_type": "code",
   "execution_count": 68,
   "metadata": {
    "collapsed": true
   },
   "outputs": [],
   "source": [
    "def getKey(item):\n",
    "    return item[0]"
   ]
  },
  {
   "cell_type": "code",
   "execution_count": 69,
   "metadata": {
    "collapsed": false
   },
   "outputs": [
    {
     "data": {
      "image/png": "[encoded data removed]",
      "text/plain": [
       "<matplotlib.figure.Figure at 0x11e68e748>"
      ]
     },
     "metadata": {},
     "output_type": "display_data"
    }
   ],
   "source": [
    "plt.figure(figsize=(15,8), dpi=80)\n",
    "ind = np.arange(1993,2016)\n",
    "open_measure_scaled.pop('0', None)\n",
    "open_measure_scaled.pop('August 31-September 2 2005', None)\n",
    "open_measure_scaled.pop('2017', None)\n",
    "normalize_dict(open_measure_scaled)\n",
    "tuples_pr = open_measure_scaled.items()\n",
    "sort = sorted(tuples_pr, key = getKey)\n",
    "x = [int(i[0]) for i in sort[-24:-1]]\n",
    "y = [i[1] for i in sort[-24:-1]]\n",
    "plt.bar(x, y, 0.5, color='g')\n",
    "\n",
    "plt.ylabel('Index')\n",
    "plt.title(\"Internationality index\")\n",
    "plt.xticks(ind, np.arange(1993,2016), rotation = 45)\n",
    "#plt.yticks(np.arange(0, 2900, 300))\n",
    "plt.savefig('internationality.png', dpi=100)"
   ]
  },
  {
   "cell_type": "code",
   "execution_count": 70,
   "metadata": {
    "collapsed": false
   },
   "outputs": [],
   "source": [
    "lab = pickle.load(open('author_lab.p', 'rb'))"
   ]
  },
  {
   "cell_type": "markdown",
   "metadata": {},
   "source": [
    "### EPFL Map"
   ]
  },
  {
   "cell_type": "code",
   "execution_count": 71,
   "metadata": {
    "collapsed": true
   },
   "outputs": [],
   "source": [
    "data_cut = {}\n",
    "for paper in list(data.keys()):\n",
    "    try:\n",
    "        if int(data[paper]['Publication date']) == 2014:\n",
    "            data_cut[paper] = data[paper]\n",
    "    except:\n",
    "        continue"
   ]
  },
  {
   "cell_type": "code",
   "execution_count": 72,
   "metadata": {
    "collapsed": true
   },
   "outputs": [],
   "source": [
    "dict_lab_site, dict_labs, dict_labs_paper = lab_dictionaries(data_cut)"
   ]
  },
  {
   "cell_type": "code",
   "execution_count": 73,
   "metadata": {
    "collapsed": true
   },
   "outputs": [],
   "source": [
    "# Dictionary (lab, id)\n",
    "dict_lab_id = {}\n",
    "for  id_,lab in enumerate(list(dict_labs_paper.keys())):\n",
    "    dict_lab_id[lab] = id_\n",
    "    \n",
    "dict_id_lab = {v: k for k, v in dict_lab_id.items()}"
   ]
  },
  {
   "cell_type": "code",
   "execution_count": 77,
   "metadata": {
    "collapsed": false
   },
   "outputs": [],
   "source": [
    "# Define edges of the graph: labs that writes papers together\n",
    "# Dictionary (Lab, dict(lab, publication together))\n",
    "dict_edges = {}\n",
    "for lab in list(dict_labs_paper.keys()):\n",
    "    dict_edges[lab] = defaultdict(list) \n",
    "    for lab_2 in list(dict_labs_paper.keys()):\n",
    "        if lab_2 != lab:\n",
    "            list_intersection = [p for p in dict_labs_paper[lab] if p in dict_labs_paper[lab_2]]\n",
    "            if len(list_intersection) != 0:\n",
    "                dict_edges[lab][lab_2] += list_intersection\n",
    "            #dict_edges[lab_2][lab] += [p for p in dict_labs_paper[lab] if p in dict_labs_paper[lab_2]]"
   ]
  },
  {
   "cell_type": "code",
   "execution_count": 78,
   "metadata": {
    "collapsed": true
   },
   "outputs": [],
   "source": [
    "school_lab_dict = {}\n",
    "for school in list_schools:\n",
    "    school_lab_dict.update(school_lab(dict_lab_site, school))"
   ]
  },
  {
   "cell_type": "code",
   "execution_count": 79,
   "metadata": {
    "collapsed": false
   },
   "outputs": [],
   "source": [
    "# Get the list of edges and weigths for the edges\n",
    "edges = []\n",
    "weigths = {}\n",
    "for lab in dict_edges:\n",
    "    if len(dict_edges[lab]) != 0:\n",
    "        for lab_2 in dict_edges[lab]:\n",
    "            edges += sorted([(dict_lab_id[lab], dict_lab_id[lab_2])])\n",
    "            weigths[(dict_lab_id[lab], dict_lab_id[lab_2])] = len(dict_edges[lab][lab_2])"
   ]
  },
  {
   "cell_type": "code",
   "execution_count": 80,
   "metadata": {
    "collapsed": true
   },
   "outputs": [],
   "source": [
    "dict_school_pub_edges = defaultdict(int)\n",
    "for edge in list(weigths.keys()):\n",
    "    try:\n",
    "        dict_school_pub_edges[school_lab_dict[dict_id_lab[edge[0]]], school_lab_dict[dict_id_lab[edge[1]]]] += weigths[edge]\n",
    "    except:\n",
    "        continue"
   ]
  },
  {
   "cell_type": "markdown",
   "metadata": {},
   "source": [
    "* WHich is the school with the highest number of labs"
   ]
  },
  {
   "cell_type": "code",
   "execution_count": 81,
   "metadata": {
    "collapsed": true
   },
   "outputs": [],
   "source": [
    "counter=collections.Counter(list(school_lab_dict.values()))"
   ]
  },
  {
   "cell_type": "code",
   "execution_count": 82,
   "metadata": {
    "collapsed": false
   },
   "outputs": [
    {
     "data": {
      "text/plain": [
       "Counter({'ENAC': 51, 'IC': 31, 'SB': 44, 'STI': 52, 'SV': 13})"
      ]
     },
     "execution_count": 82,
     "metadata": {},
     "output_type": "execute_result"
    }
   ],
   "source": [
    "counter"
   ]
  },
  {
   "cell_type": "code",
   "execution_count": 83,
   "metadata": {
    "collapsed": true
   },
   "outputs": [],
   "source": [
    "# Exlude collaborations between same school\n",
    "for key in list(dict_school_pub_edges.keys()):\n",
    "    if key[0] == key[1]:\n",
    "        del dict_school_pub_edges[key]"
   ]
  },
  {
   "cell_type": "code",
   "execution_count": 84,
   "metadata": {
    "collapsed": true
   },
   "outputs": [],
   "source": [
    "total_paper = sum(list(dict_school_pub_edges.values()))"
   ]
  },
  {
   "cell_type": "code",
   "execution_count": 85,
   "metadata": {
    "collapsed": false
   },
   "outputs": [],
   "source": [
    "# Collaborations intra schools\n",
    "dict_inter_school_pub = defaultdict(int)\n",
    "for key in list(dict_school_pub_edges.keys()):\n",
    "    pair_school = tuple(sorted([key[0], key[1]]))\n",
    "    dict_inter_school_pub[pair_school] += dict_school_pub_edges[key]/total_paper"
   ]
  },
  {
   "cell_type": "code",
   "execution_count": 86,
   "metadata": {
    "collapsed": false
   },
   "outputs": [
    {
     "data": {
      "text/plain": [
       "defaultdict(int,\n",
       "            {('ENAC', 'IC'): 0.19298245614035087,\n",
       "             ('ENAC', 'SB'): 0.10526315789473684,\n",
       "             ('ENAC', 'STI'): 0.24561403508771928,\n",
       "             ('ENAC', 'SV'): 0.03508771929824561,\n",
       "             ('IC', 'SB'): 0.03508771929824561,\n",
       "             ('IC', 'STI'): 0.03508771929824561,\n",
       "             ('IC', 'SV'): 0.03508771929824561,\n",
       "             ('SB', 'STI'): 0.21052631578947367,\n",
       "             ('SB', 'SV'): 0.03508771929824561,\n",
       "             ('STI', 'SV'): 0.07017543859649122})"
      ]
     },
     "execution_count": 86,
     "metadata": {},
     "output_type": "execute_result"
    }
   ],
   "source": [
    "dict_inter_school_pub"
   ]
  },
  {
   "cell_type": "code",
   "execution_count": 87,
   "metadata": {
    "collapsed": true
   },
   "outputs": [],
   "source": [
    "X_1 = 532700\n",
    "X_2 = 533507\n",
    "Y_1 = 152693\n",
    "Y_2 = 152242"
   ]
  },
  {
   "cell_type": "code",
   "execution_count": 88,
   "metadata": {
    "collapsed": true
   },
   "outputs": [],
   "source": [
    "X_1_scaled = 0\n",
    "X_2_scaled = 807\n",
    "Y_1_scaled = 451\n",
    "Y_2_scaled = 0"
   ]
  },
  {
   "cell_type": "code",
   "execution_count": 89,
   "metadata": {
    "collapsed": true
   },
   "outputs": [],
   "source": [
    "# Scaled coordinates\n",
    "coordinate_ENAC = (152571-Y_2, 533078- X_1)\n",
    "coordinate_IC = (152292-Y_2, 532818- X_1, )\n",
    "coordinate_SV = (152457-Y_2, 532815- X_1)\n",
    "coordinate_SB = (152526-Y_2, 533263- X_1)\n",
    "coordinate_STI = (152399-Y_2, 532938- X_1)"
   ]
  },
  {
   "cell_type": "code",
   "execution_count": 90,
   "metadata": {
    "collapsed": true
   },
   "outputs": [],
   "source": [
    "dict_school = {list_schools[i]:i+1 for i in range(len(list_schools))}"
   ]
  },
  {
   "cell_type": "code",
   "execution_count": 91,
   "metadata": {
    "collapsed": true
   },
   "outputs": [],
   "source": [
    "# Create the grid 113 x 202 each patch is 4x4\n",
    "#empty_map = np.zeros((113,202))\n",
    "empty_map = np.zeros((451,807))"
   ]
  },
  {
   "cell_type": "code",
   "execution_count": 92,
   "metadata": {
    "collapsed": true
   },
   "outputs": [],
   "source": [
    "ranges_X = np.arange(X_1_scaled, X_2_scaled, 1)\n",
    "ranges_Y = np.arange(Y_2_scaled, Y_1_scaled, 1)"
   ]
  },
  {
   "cell_type": "code",
   "execution_count": 93,
   "metadata": {
    "collapsed": true
   },
   "outputs": [],
   "source": [
    "school_center_map = {'ENAC': coordinate_ENAC, 'IC':coordinate_IC, 'SV':coordinate_SV, 'SB':coordinate_SB, 'STI':coordinate_STI}"
   ]
  },
  {
   "cell_type": "code",
   "execution_count": 94,
   "metadata": {
    "collapsed": true
   },
   "outputs": [],
   "source": [
    "dict_coordinates = {'ENAC': coordinate_ENAC, 'IC':coordinate_IC, 'SV':coordinate_SV, 'SB':coordinate_SB, 'STI':coordinate_STI}"
   ]
  },
  {
   "cell_type": "code",
   "execution_count": 95,
   "metadata": {
    "collapsed": true
   },
   "outputs": [],
   "source": [
    "# Define distances between points\n",
    "import math\n",
    "dict_distances = defaultdict(int)\n",
    "for school in list(dict_coordinates.keys()):\n",
    "    for school_1 in list(dict_coordinates.keys()):\n",
    "        if school != school_1:\n",
    "            dict_distances[(school, school_1)] = math.sqrt( (school_center_map[school][0] - school_center_map[school_1][0])**2 + (school_center_map[school][1] - school_center_map[school_1][1])**2 )"
   ]
  },
  {
   "cell_type": "code",
   "execution_count": 96,
   "metadata": {
    "collapsed": true
   },
   "outputs": [],
   "source": [
    "dict_distance_inter_school = defaultdict(int)\n",
    "for key in list(dict_distances.keys()):\n",
    "    pair_school = tuple(sorted([key[0], key[1]]))\n",
    "    dict_distance_inter_school[pair_school] += dict_distances[key]"
   ]
  },
  {
   "cell_type": "markdown",
   "metadata": {},
   "source": [
    "#### Define the score function\n",
    "   $$QP_u = \\frac{\\sum_{v}[ (1-\\theta_{uv}) \\times||(u,v)||^2_2]}{\\sum_{\\text{all pairs }(u,v)}[ (1-\\theta_{uv}) \\times||(u,v)||^2_2]}$$\n",
    "   \n",
    "where:\n",
    "\n",
    "* $QP_u$: quality position of the school $u$\n",
    "* $\\theta_{uv}$: is the proportion of work produced by both u and v over the number of all publication between two schools\n",
    "\n",
    "Thus, the index varies between 0 and 1. Greater it is better is positioned the school according to its research contribution."
   ]
  },
  {
   "cell_type": "code",
   "execution_count": 97,
   "metadata": {
    "collapsed": true
   },
   "outputs": [],
   "source": [
    "# 2014\n",
    "dict_theta = {}\n",
    "for pairs in list(dict_distances.keys()):\n",
    "    dict_theta[(pairs[0],pairs[1])] = dict_inter_school_pub[pairs]\n",
    "    dict_theta[(pairs[1],pairs[0])] = dict_inter_school_pub[pairs]\n",
    "    #if pairs in list(dict_school_pub_edges.keys()):\n",
    "     #   dict_theta[pairs] = dict_inter_school_pub[pairs]\n",
    "    #else:\n",
    "     #   dict_theta[pairs] = 0"
   ]
  },
  {
   "cell_type": "code",
   "execution_count": 98,
   "metadata": {
    "collapsed": true
   },
   "outputs": [],
   "source": [
    "dict_index = {}\n",
    "list_index = []\n",
    "for pairs in list(dict_distances.keys()):\n",
    "    list_index += [dict_distances[pairs] * (1-dict_theta[pairs])]\n",
    "    dict_index[pairs] = dict_distances[pairs] * (1-dict_theta[pairs])"
   ]
  },
  {
   "cell_type": "code",
   "execution_count": 99,
   "metadata": {
    "collapsed": true
   },
   "outputs": [],
   "source": [
    "denominator = sum(list_index)"
   ]
  },
  {
   "cell_type": "code",
   "execution_count": 100,
   "metadata": {
    "collapsed": true
   },
   "outputs": [],
   "source": [
    "qp_dictionary = {}\n",
    "for school in list_schools:\n",
    "    list_school_score = [dict_index[key] for key in list(dict_distances.keys()) if key[0] == school]\n",
    "    qp_dictionary[school] = sum(list_school_score)/4#/denominator"
   ]
  },
  {
   "cell_type": "code",
   "execution_count": 101,
   "metadata": {
    "collapsed": false
   },
   "outputs": [
    {
     "data": {
      "text/plain": [
       "{'ENAC': 267.53073664281385,\n",
       " 'IC': 298.0757323934778,\n",
       " 'SB': 369.43539964332393,\n",
       " 'STI': 214.48236130313364,\n",
       " 'SV': 255.33557727459174}"
      ]
     },
     "execution_count": 101,
     "metadata": {},
     "output_type": "execute_result"
    }
   ],
   "source": [
    "qp_dictionary"
   ]
  },
  {
   "cell_type": "code",
   "execution_count": 102,
   "metadata": {
    "collapsed": true
   },
   "outputs": [],
   "source": [
    "def gauss(x,p):\n",
    "    \"\"\"Return the gauss function N(x), with mean p[0] and std p[1].\n",
    "    Normalized such that N(x=p[0]) = 1.\n",
    "    \"\"\"\n",
    "    return np.exp((-(x - p[0])**2) / (2 * p[1]**2))"
   ]
  },
  {
   "cell_type": "code",
   "execution_count": 103,
   "metadata": {
    "collapsed": true
   },
   "outputs": [],
   "source": [
    "epfl_map =np.zeros((451,807))\n",
    "#x,y center position\n",
    "size_x, size_y = 451,807\n",
    "#score ; score of the center\n",
    "sigma_school = dict_coordinates = {'ENAC': 60, 'IC':40, 'SV':40, 'SB':50, 'STI': 40}\n",
    "#Modify map according to the center score\n",
    "for school in list(school_center_map.keys()):\n",
    "    for i in range(size_x):\n",
    "        for j in range(size_y):\n",
    "            #calculate gaussian distr sigma is space factor\n",
    "            disc = gauss(np.sqrt(((size_x - school_center_map[school][0])-i)**2+((school_center_map[school][1])-j)**2),[0, 2*sigma_school[school]])\n",
    "            epfl_map[i][j] += disc*qp_dictionary[school]"
   ]
  },
  {
   "cell_type": "code",
   "execution_count": 104,
   "metadata": {
    "collapsed": false
   },
   "outputs": [
    {
     "data": {
      "image/png": "[encoded data removed]",
      "text/plain": [
       "<matplotlib.figure.Figure at 0x101b79780>"
      ]
     },
     "metadata": {},
     "output_type": "display_data"
    }
   ],
   "source": [
    "import matplotlib.pyplot as plt\n",
    "import matplotlib.image as mpimg\n",
    "from scipy.interpolate import griddata\n",
    "epfl_grey = mpimg.imread('map_school.png')\n",
    "plt.imshow(epfl_map)\n",
    "#plt.imshow(epfl_grey, alpha = 0.3)\n",
    "plt.colorbar()\n",
    "plt.show()\n",
    "#plt.imsave('plot_map.png')"
   ]
  },
  {
   "cell_type": "code",
   "execution_count": null,
   "metadata": {
    "collapsed": true
   },
   "outputs": [],
   "source": []
  }
 ],
 "metadata": {
  "anaconda-cloud": {},
  "kernelspec": {
   "display_name": "Python [Root]",
   "language": "python",
   "name": "Python [Root]"
  },
  "language_info": {
   "codemirror_mode": {
    "name": "ipython",
    "version": 3
   },
   "file_extension": ".py",
   "mimetype": "text/x-python",
   "name": "python",
   "nbconvert_exporter": "python",
   "pygments_lexer": "ipython3",
   "version": "3.5.2"
  }
 },
 "nbformat": 4,
 "nbformat_minor": 0
}
