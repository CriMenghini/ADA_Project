{
 "cells": [
  {
   "cell_type": "markdown",
   "metadata": {},
   "source": [
    "# EPFL MAP - YEAR 2016"
   ]
  },
  {
   "cell_type": "code",
   "execution_count": 72,
   "metadata": {
    "collapsed": true
   },
   "outputs": [],
   "source": [
    "import json\n",
    "import pickle\n",
    "import collections\n",
    "from collections import defaultdict\n",
    "from BuildGraphModule import *\n",
    "from UniformData import *\n",
    "from MultiGraph import *\n",
    "from AnalysisModule import *\n",
    "import matplotlib.pyplot as plt\n",
    "%matplotlib inline"
   ]
  },
  {
   "cell_type": "code",
   "execution_count": 73,
   "metadata": {
    "collapsed": true
   },
   "outputs": [],
   "source": [
    "with open('paper.json', 'r') as f:\n",
    "    data = json.load(f)"
   ]
  },
  {
   "cell_type": "code",
   "execution_count": 74,
   "metadata": {
    "collapsed": true
   },
   "outputs": [],
   "source": [
    "# Uniform strings - Authors\n",
    "data = uniform_authors(data)"
   ]
  },
  {
   "cell_type": "code",
   "execution_count": 75,
   "metadata": {
    "collapsed": true
   },
   "outputs": [],
   "source": [
    "# Uniform strings - EPFL Authors\n",
    "data = uniform_epfl_authors(data)"
   ]
  },
  {
   "cell_type": "code",
   "execution_count": 129,
   "metadata": {
    "collapsed": true
   },
   "outputs": [],
   "source": [
    "data_cut = {}\n",
    "for paper in list(data.keys()):\n",
    "    try:\n",
    "        if int(data[paper]['Publication date']) == 2014:\n",
    "            data_cut[paper] = data[paper]\n",
    "    except:\n",
    "        continue"
   ]
  },
  {
   "cell_type": "code",
   "execution_count": 130,
   "metadata": {
    "collapsed": false
   },
   "outputs": [],
   "source": [
    "dict_lab_site, dict_labs, dict_labs_paper = lab_dictionaries(data_cut)"
   ]
  },
  {
   "cell_type": "code",
   "execution_count": 131,
   "metadata": {
    "collapsed": false
   },
   "outputs": [],
   "source": [
    "# Dictionary (lab, id)\n",
    "dict_lab_id = {}\n",
    "for  id_,lab in enumerate(list(dict_labs_paper.keys())):\n",
    "    dict_lab_id[lab] = id_\n",
    "    \n",
    "dict_id_lab = {v: k for k, v in dict_lab_id.items()}"
   ]
  },
  {
   "cell_type": "code",
   "execution_count": 132,
   "metadata": {
    "collapsed": false
   },
   "outputs": [],
   "source": [
    "# Nodes: labs\n",
    "nodes = []\n",
    "for lab in list(dict_labs_paper.keys()):\n",
    "    nodes += [dict_lab_id[lab]]"
   ]
  },
  {
   "cell_type": "code",
   "execution_count": 133,
   "metadata": {
    "collapsed": false
   },
   "outputs": [],
   "source": [
    "# Define edges of the graph: labs that writes papers together\n",
    "# Dictionary (Lab, dict(lab, publication together))\n",
    "dict_edges = {}\n",
    "for lab in list(dict_labs_paper.keys()):\n",
    "    dict_edges[lab] = defaultdict(list) \n",
    "    for lab_2 in list(dict_labs_paper.keys()):\n",
    "        if lab_2 != lab:\n",
    "            list_intersection = [p for p in dict_labs_paper[lab] if p in dict_labs_paper[lab_2]]\n",
    "            if len(list_intersection) != 0:\n",
    "                dict_edges[lab][lab_2] += list_intersection\n",
    "            #dict_edges[lab_2][lab] += [p for p in dict_labs_paper[lab] if p in dict_labs_paper[lab_2]]"
   ]
  },
  {
   "cell_type": "code",
   "execution_count": 134,
   "metadata": {
    "collapsed": false
   },
   "outputs": [
    {
     "data": {
      "text/plain": [
       "{' IPESE (sci-sti-fm)': defaultdict(list,\n",
       "             {'Transportation and Mobility Laboratory': ['201852']}),\n",
       " ' Prof. Tang Group': defaultdict(list, {}),\n",
       " ' Programmable Biomaterials Laboratory': defaultdict(list, {}),\n",
       " 'Adaptive Micronano Wave Systems': defaultdict(list,\n",
       "             {'Electromagnetics and Acoustics Laboratory': ['198235',\n",
       "               '210401',\n",
       "               '210458',\n",
       "               '210459',\n",
       "               '198238',\n",
       "               '210470',\n",
       "               '210457',\n",
       "               '210456'],\n",
       "              'Microsystems for Space Technologies Laboratory': ['210401'],\n",
       "              'Nanoelectronic Devices Laboratory': ['210458',\n",
       "               '210459',\n",
       "               '198231',\n",
       "               '210457',\n",
       "               '210456'],\n",
       "              'Telecommunications Circuits Laboratory': ['198234']}),\n",
       " 'Advanced Oxidation Processes Group': defaultdict(list, {}),\n",
       " 'Applied Computing and Mechanics Laboratory': defaultdict(list,\n",
       "             {'Laboratory of Techniques and Preservation of Modern Architecture': ['215597'],\n",
       "              'Offered in consultation at the EPFL Library': ['215597']}),\n",
       " 'Applied Signal Processing Group': defaultdict(list,\n",
       "             {'Multimedia Signal Processing Laboratory': ['198474']}),\n",
       " 'Architecture, criticism, history and theory': defaultdict(list, {}),\n",
       " 'Archives of Modern Building': defaultdict(list,\n",
       "             {'Arts of sciences laboratory - Archives of imaginary': ['215594'],\n",
       "              'Design Studio on the Conception of Space': ['215558'],\n",
       "              'Offered in consultation at the EPFL Library': ['215558',\n",
       "               '215594']}),\n",
       " 'Artificial Intelligence Laboratory': defaultdict(list, {}),\n",
       " 'Arts of sciences laboratory - Archives of imaginary': defaultdict(list,\n",
       "             {'Archives of Modern Building': ['215594'],\n",
       "              'Offered in consultation at the EPFL Library': ['215594']}),\n",
       " 'Audio Visual Communications Laboratory': defaultdict(list,\n",
       "             {'Technology Transfer Office': ['211645']}),\n",
       " 'Automatic Control Laboratory': defaultdict(list,\n",
       "             {'Automatic Control Laboratory 3': ['197792',\n",
       "               '197950',\n",
       "               '201773',\n",
       "               '197448',\n",
       "               '201489',\n",
       "               '201993'],\n",
       "              'Real-Time Coordination and Distributed Interaction Systems Group': ['200122']}),\n",
       " 'Automatic Control Laboratory 3': defaultdict(list,\n",
       "             {'Automatic Control Laboratory': ['197792',\n",
       "               '197950',\n",
       "               '201773',\n",
       "               '197448',\n",
       "               '201489',\n",
       "               '201993']}),\n",
       " 'Behavioral Genetics Laboratory': defaultdict(list,\n",
       "             {'Prof. Constam Group': ['189901']}),\n",
       " 'Biomechanical Orthopedics Laboratory EPFL-HOSR': defaultdict(list, {}),\n",
       " 'Biomedical Imaging Research Center': defaultdict(list,\n",
       "             {'Comment Group': ['198965',\n",
       "               '198964',\n",
       "               '200112',\n",
       "               '200111',\n",
       "               '200110',\n",
       "               '198861',\n",
       "               '198842'],\n",
       "              'Laboratory of functional and metabolic imaging': ['203434',\n",
       "               '203436',\n",
       "               '197156',\n",
       "               '198965',\n",
       "               '198964',\n",
       "               '197157',\n",
       "               '200112',\n",
       "               '200111',\n",
       "               '200110',\n",
       "               '207095',\n",
       "               '203435',\n",
       "               '198861',\n",
       "               '198842',\n",
       "               '198862'],\n",
       "              'Medical Image Processing Lab': ['205004'],\n",
       "              'Psychophysics Laboratory': ['201020'],\n",
       "              'Signal Processing Laboratory 5': ['200493', '207095']}),\n",
       " 'Biomolecular Screening Facility': defaultdict(list, {}),\n",
       " 'Bionanophotonic Systems Laboratory': defaultdict(list, {}),\n",
       " 'Biorobotics Laboratory': defaultdict(list,\n",
       "             {'National Centre of Competence in Research (NCCR) Robotics': ['200520']}),\n",
       " 'CEL Group': defaultdict(list,\n",
       "             {'Laboratory for Environmental Biotechnology': ['199966',\n",
       "               '199965'],\n",
       "              'Laboratory of Nanostructures and Novel Electronic Materials': ['201577']}),\n",
       " 'Cellular Biotechnology Laboratory': defaultdict(list, {}),\n",
       " 'Center for Digital Education': defaultdict(list,\n",
       "             {'Computer-Human Interaction Lab for Learning & Instruction': ['202095',\n",
       "               '201916',\n",
       "               '208843',\n",
       "               '201918']}),\n",
       " 'Center for Neuroprosthetics': defaultdict(list,\n",
       "             {'Defitech Foundation Chair in Brain-Machine Interface': ['200203',\n",
       "               '198763',\n",
       "               '200253',\n",
       "               '197806',\n",
       "               '200117',\n",
       "               '199783',\n",
       "               '200118',\n",
       "               '197163',\n",
       "               '201757',\n",
       "               '200116',\n",
       "               '200115',\n",
       "               '200252',\n",
       "               '200202',\n",
       "               '200114'],\n",
       "              'Learning algorithms and systems Laboratory': ['199783'],\n",
       "              'National Centre of Competence in Research (NCCR) Robotics': ['200203',\n",
       "               '199783',\n",
       "               '200114'],\n",
       "              'Translational Neural Engineering Laboratory': ['202001',\n",
       "               '201999',\n",
       "               '202000',\n",
       "               '202006']}),\n",
       " 'Center for Research In Plasma Physics': defaultdict(list,\n",
       "             {'Swiss Plasma Center': ['207536',\n",
       "               '207754',\n",
       "               '203423',\n",
       "               '207766',\n",
       "               '205837',\n",
       "               '200340',\n",
       "               '207545',\n",
       "               '207538',\n",
       "               '206791',\n",
       "               '201887',\n",
       "               '198279',\n",
       "               '206935',\n",
       "               '201710',\n",
       "               '207756',\n",
       "               '205144',\n",
       "               '206213',\n",
       "               '203882',\n",
       "               '207757',\n",
       "               '205846',\n",
       "               '200131',\n",
       "               '195211',\n",
       "               '207753',\n",
       "               '206936',\n",
       "               '206266',\n",
       "               '199851',\n",
       "               '203409',\n",
       "               '205848',\n",
       "               '206265',\n",
       "               '206267',\n",
       "               '204630',\n",
       "               '200339',\n",
       "               '203714',\n",
       "               '207532',\n",
       "               '197165',\n",
       "               '207752',\n",
       "               '199958',\n",
       "               '207760',\n",
       "               '201634',\n",
       "               '204631',\n",
       "               '196178',\n",
       "               '202710',\n",
       "               '201708',\n",
       "               '206932',\n",
       "               '205847',\n",
       "               '203407',\n",
       "               '199850',\n",
       "               '199847',\n",
       "               '207548',\n",
       "               '206790',\n",
       "               '206268',\n",
       "               '207547',\n",
       "               '196175',\n",
       "               '200853',\n",
       "               '201635',\n",
       "               '207535',\n",
       "               '199849',\n",
       "               '207544',\n",
       "               '207765',\n",
       "               '207546',\n",
       "               '203634',\n",
       "               '206789',\n",
       "               '206104',\n",
       "               '196177',\n",
       "               '207764',\n",
       "               '206264',\n",
       "               '206105',\n",
       "               '207755',\n",
       "               '207758',\n",
       "               '196176',\n",
       "               '206845',\n",
       "               '207763']}),\n",
       " 'Center of MicroNanoTechnology': defaultdict(list,\n",
       "             {'Nanoelectronic Devices Laboratory': ['200325'],\n",
       "              'Solar Energy and Building Physics Laboratory': ['200325']}),\n",
       " 'Centre de recherches énergétiques et municipales': defaultdict(list, {}),\n",
       " 'Centre for Area and Cultural Studies': defaultdict(list,\n",
       "             {'Steel Structures Laboratory': ['199974'],\n",
       "              'Urban Sociology Laboratory': ['199974']}),\n",
       " 'Chair of Analysis and Applied Mathematics': defaultdict(list, {}),\n",
       " 'Chair of Applied Statistics': defaultdict(list,\n",
       "             {'Medical Image Processing Lab': ['198283']}),\n",
       " 'Chair of Combinatorial Geometry': defaultdict(list,\n",
       "             {'Chair of Discrete Optimization': ['201722']}),\n",
       " 'Chair of Computational Mathematics and Numerical Analysis': defaultdict(list,\n",
       "             {}),\n",
       " 'Chair of Computational Mathematics and Simulation Science': defaultdict(list,\n",
       "             {}),\n",
       " 'Chair of Discrete Optimization': defaultdict(list,\n",
       "             {'Chair of Combinatorial Geometry': ['201722'],\n",
       "              'Theory of Computation Laboratory 2': ['201737']}),\n",
       " 'Chair of Geometry': defaultdict(list, {}),\n",
       " 'Chair of Group Theory': defaultdict(list, {}),\n",
       " 'Chair of Innovation and IP Policy': defaultdict(list, {}),\n",
       " 'Chair of Mathematical Statistics': defaultdict(list, {}),\n",
       " 'Chair of Modelling and Scientific Computing': defaultdict(list, {}),\n",
       " 'Chair of Partial Differential Equations': defaultdict(list, {}),\n",
       " 'Chair of Representation and Expression': defaultdict(list,\n",
       "             {'Design Studio on the Conception of Space': ['215530'],\n",
       "              'Laboratory of Architecture and Urban Mobility': ['215580'],\n",
       "              'Laboratory of Theory and History of Architecture 2': ['215576'],\n",
       "              'Offered in consultation at the EPFL Library': ['215530',\n",
       "               '215553',\n",
       "               '215580',\n",
       "               '215576']}),\n",
       " 'Chair of Statistics': defaultdict(list, {}),\n",
       " 'Chair of Timber Construction': defaultdict(list,\n",
       "             {'Informatics and Visualization Laboratory': ['215583'],\n",
       "              'Offered in consultation at the EPFL Library': ['215583']}),\n",
       " 'Chôros Laboratory': defaultdict(list,\n",
       "             {'Construction and Conservation Laboratory': ['215535', '215539'],\n",
       "              'Design Studio on the Conception of Space': ['215541',\n",
       "               '215593',\n",
       "               '215554',\n",
       "               '215555'],\n",
       "              'Digital Humanities Laboratory': ['203688', '204870'],\n",
       "              'Interdisciplinary Laboratory of Performance-Integrated Design': ['215582'],\n",
       "              'Laboratory Basel': ['215541', '215555', '215570', '215584'],\n",
       "              'Laboratory of Architecture and Sustainable Technologies': ['215549',\n",
       "               '215528'],\n",
       "              'Laboratory of Architecture and Urban Mobility': ['215567',\n",
       "               '215533',\n",
       "               '215563'],\n",
       "              'Laboratory of Theory and History of Architecture 2': ['215533',\n",
       "               '215599',\n",
       "               '215585',\n",
       "               '215528'],\n",
       "              'Laboratory of Theory and History of Architecture 3': ['215579'],\n",
       "              'Media and Design Laboratory (IC/ENAC)': ['215534',\n",
       "               '215564',\n",
       "               '215532'],\n",
       "              'Offered in consultation at the EPFL Library': ['215541',\n",
       "               '215535',\n",
       "               '215593',\n",
       "               '215567',\n",
       "               '215533',\n",
       "               '215563',\n",
       "               '215554',\n",
       "               '215549',\n",
       "               '215560',\n",
       "               '215555',\n",
       "               '215570',\n",
       "               '215539',\n",
       "               '215534',\n",
       "               '215564',\n",
       "               '215599',\n",
       "               '215592',\n",
       "               '215579',\n",
       "               '215545',\n",
       "               '215585',\n",
       "               '215582',\n",
       "               '215575',\n",
       "               '215556',\n",
       "               '215532',\n",
       "               '215584',\n",
       "               '215528'],\n",
       "              'Urban Sociology Laboratory': ['215560',\n",
       "               '215592',\n",
       "               '215545',\n",
       "               '215585',\n",
       "               '215575',\n",
       "               '215556'],\n",
       "              'Urban and Regional Planning Community': ['203688',\n",
       "               '215535',\n",
       "               '198806']}),\n",
       " 'Comment Group': defaultdict(list,\n",
       "             {'Biomedical Imaging Research Center': ['198965',\n",
       "               '198964',\n",
       "               '200112',\n",
       "               '200111',\n",
       "               '200110',\n",
       "               '198861',\n",
       "               '198842'],\n",
       "              'Laboratory for Biological Geochemistry': ['198805'],\n",
       "              'Laboratory of functional and metabolic imaging': ['198965',\n",
       "               '198964',\n",
       "               '198929',\n",
       "               '200112',\n",
       "               '200111',\n",
       "               '200110',\n",
       "               '198861',\n",
       "               '198842']}),\n",
       " 'Communication Theories Laboratory': defaultdict(list, {}),\n",
       " 'Composite Construction Laboratory': defaultdict(list,\n",
       "             {'Solar Energy and Building Physics Laboratory': ['203650']}),\n",
       " 'Computational Neuroscience Laboratory': defaultdict(list, {}),\n",
       " 'Computational Solid Mechanics Laboratory': defaultdict(list, {}),\n",
       " 'Computer Communications and Applications Laboratory 1': defaultdict(list,\n",
       "             {'Computer Communications and Applications Laboratory 2': ['202758'],\n",
       "              'Fellay Group': ['201720']}),\n",
       " 'Computer Communications and Applications Laboratory 2': defaultdict(list,\n",
       "             {'Computer Communications and Applications Laboratory 1': ['202758'],\n",
       "              'Distributed Electrical Systems Laboratory - EOS Holding Chair': ['201935']}),\n",
       " 'Computer Communications and Applications Laboratory 3': defaultdict(list,\n",
       "             {'Computer Communications and Applications Laboratory 4': ['201674']}),\n",
       " 'Computer Communications and Applications Laboratory 4': defaultdict(list,\n",
       "             {'Computer Communications and Applications Laboratory 3': ['201674']}),\n",
       " 'Computer Graphics and Geometry Laboratory': defaultdict(list,\n",
       "             {'Image and Visual Representation Laboratory': ['199960']}),\n",
       " 'Computer Vision Laboratory': defaultdict(list,\n",
       "             {'Geographic Information Systems Laboratory': ['204822']}),\n",
       " 'Computer-Human Interaction Lab for Learning & Instruction': defaultdict(list,\n",
       "             {'Center for Digital Education': ['202095',\n",
       "               '201916',\n",
       "               '208843',\n",
       "               '201918'],\n",
       "              'Digital Humanities Laboratory': ['190624'],\n",
       "              'Laboratory of robotics systems': ['191243'],\n",
       "              'National Centre of Competence in Research (NCCR) Robotics': ['191243']}),\n",
       " 'Construction and Conservation Laboratory': defaultdict(list,\n",
       "             {'Chôros Laboratory': ['215535', '215539'],\n",
       "              'Design Studio on the Conception of Space': ['215566', '215559'],\n",
       "              'Laboratory of Architecture and Sustainable Technologies': ['215551',\n",
       "               '215572'],\n",
       "              'Laboratory of Architecture and Urban Mobility': ['215596'],\n",
       "              'Laboratory of Techniques and Preservation of Modern Architecture': ['215547',\n",
       "               '215550'],\n",
       "              'Laboratory of Theory and History of Architecture 2': ['215568',\n",
       "               '215562'],\n",
       "              'Laboratory of urban architecture': ['215542'],\n",
       "              'Offered in consultation at the EPFL Library': ['215547',\n",
       "               '215535',\n",
       "               '215595',\n",
       "               '215566',\n",
       "               '215539',\n",
       "               '215559',\n",
       "               '215543',\n",
       "               '215551',\n",
       "               '215572',\n",
       "               '215568',\n",
       "               '215550',\n",
       "               '215562',\n",
       "               '215596',\n",
       "               '215542'],\n",
       "              'Solar Energy and Building Physics Laboratory': ['215562'],\n",
       "              'Urban Sociology Laboratory': ['215543', '215542'],\n",
       "              'Urban and Regional Planning Community': ['215535']}),\n",
       " 'Corporate Strategy Innovation Chair': defaultdict(list, {}),\n",
       " 'Data Analysis Theory and Applications Laboratory': defaultdict(list,\n",
       "             {'Programming Methods Laboratory': ['198693']}),\n",
       " 'Data-Intensive Applications and Systems Laboratory': defaultdict(list,\n",
       "             {'The Blue Brain Project': ['190821']}),\n",
       " 'Defitech Foundation Chair in Brain-Machine Interface': defaultdict(list,\n",
       "             {'Center for Neuroprosthetics': ['200203',\n",
       "               '198763',\n",
       "               '200253',\n",
       "               '197806',\n",
       "               '200117',\n",
       "               '199783',\n",
       "               '200118',\n",
       "               '197163',\n",
       "               '201757',\n",
       "               '200116',\n",
       "               '200115',\n",
       "               '200252',\n",
       "               '200202',\n",
       "               '200114'],\n",
       "              'Learning algorithms and systems Laboratory': ['199783'],\n",
       "              'National Centre of Competence in Research (NCCR) Robotics': ['200203',\n",
       "               '199783',\n",
       "               '200114']}),\n",
       " 'Dependable Systems Laboratory': defaultdict(list, {}),\n",
       " 'Design Studio on the Conception of Space': defaultdict(list,\n",
       "             {'Archives of Modern Building': ['215558'],\n",
       "              'Chair of Representation and Expression': ['215530'],\n",
       "              'Chôros Laboratory': ['215541', '215593', '215554', '215555'],\n",
       "              'Construction and Conservation Laboratory': ['215566', '215559'],\n",
       "              'Laboratory Basel': ['215541', '215555', '215577'],\n",
       "              'Laboratory of Theory and History of Architecture 2': ['215591'],\n",
       "              'Laboratory of Theory and History of Architecture 3': ['215561',\n",
       "               '215544'],\n",
       "              'Offered in consultation at the EPFL Library': ['215541',\n",
       "               '215530',\n",
       "               '215527',\n",
       "               '215593',\n",
       "               '215558',\n",
       "               '215554',\n",
       "               '215561',\n",
       "               '215589',\n",
       "               '215566',\n",
       "               '215591',\n",
       "               '215555',\n",
       "               '215578',\n",
       "               '215552',\n",
       "               '215559',\n",
       "               '215544',\n",
       "               '215577',\n",
       "               '215531',\n",
       "               '215590'],\n",
       "              'Structural Concrete Laboratory': ['215531'],\n",
       "              'Urban Sociology Laboratory': ['215589', '215578', '215590']}),\n",
       " 'Digital Humanities Laboratory': defaultdict(list,\n",
       "             {'Chôros Laboratory': ['203688', '204870'],\n",
       "              'Computer-Human Interaction Lab for Learning & Instruction': ['190624'],\n",
       "              'Urban and Regional Planning Community': ['203688'],\n",
       "              'X-Ray Physics Laboratory': ['205826', '205825']}),\n",
       " 'Dil Group': defaultdict(list, {}),\n",
       " 'Distributed Electrical Systems Laboratory - EOS Holding Chair': defaultdict(list,\n",
       "             {'Computer Communications and Applications Laboratory 2': ['201935'],\n",
       "              'Electromagnetic Compatibility Laboratory': ['201751',\n",
       "               '201752',\n",
       "               '198254',\n",
       "               '202196',\n",
       "               '197519',\n",
       "               '200950',\n",
       "               '200088',\n",
       "               '203811']}),\n",
       " 'Distributed Information Systems Laboratory': defaultdict(list, {}),\n",
       " 'Distributed Intelligent Systems and Algorithms Laboratory': defaultdict(list,\n",
       "             {'Microsystems Laboratory 1': ['196679'],\n",
       "              'National Centre of Competence in Research (NCCR) Robotics': ['200044',\n",
       "               '200045',\n",
       "               '197260']}),\n",
       " 'Distributed Programming Laboratory': defaultdict(list,\n",
       "             {'Rigorous System Design Laboratory': ['199451']}),\n",
       " 'Distributed Systems Laboratory': defaultdict(list, {}),\n",
       " 'ENAC - Computer Services': defaultdict(list, {}),\n",
       " 'Earth and Planetary Science Laboratory': defaultdict(list, {}),\n",
       " 'Earthquake Engineering and Structural Dynamics Laboratory': defaultdict(list,\n",
       "             {'Structural Concrete Laboratory': ['201593',\n",
       "               '201585',\n",
       "               '201583']}),\n",
       " 'Ecological Engineering Laboratory': defaultdict(list,\n",
       "             {'Laboratory for Environmental Biotechnology': ['200518',\n",
       "               '200516',\n",
       "               '196447'],\n",
       "              'Physics of Aquatic Systems Laboratory - Margaretha Kamprad Chair': ['204663',\n",
       "               '204621']}),\n",
       " 'Ecological Systems Laboratory': defaultdict(list,\n",
       "             {'Perona Group': ['205108']}),\n",
       " 'Electromagnetic Compatibility Laboratory': defaultdict(list,\n",
       "             {'Distributed Electrical Systems Laboratory - EOS Holding Chair': ['201751',\n",
       "               '201752',\n",
       "               '198254',\n",
       "               '202196',\n",
       "               '197519',\n",
       "               '200950',\n",
       "               '200088',\n",
       "               '203811']}),\n",
       " 'Electromagnetics and Acoustics Laboratory': defaultdict(list,\n",
       "             {'Adaptive Micronano Wave Systems': ['198235',\n",
       "               '210401',\n",
       "               '210458',\n",
       "               '210459',\n",
       "               '198238',\n",
       "               '210470',\n",
       "               '210457',\n",
       "               '210456'],\n",
       "              'Microsystems for Space Technologies Laboratory': ['210401'],\n",
       "              'Nanoelectronic Devices Laboratory': ['210458',\n",
       "               '210459',\n",
       "               '210457',\n",
       "               '210456'],\n",
       "              'Signal Processing Laboratory 2': ['204541']}),\n",
       " 'Electronics and Signal Processing Laboratory': defaultdict(list, {}),\n",
       " 'Embedded Systems Laboratory': defaultdict(list,\n",
       "             {'Signal Processing Laboratory 2': ['198481', '198291'],\n",
       "              'Telecommunications Circuits Laboratory': ['201932']}),\n",
       " 'Emergent Complexity in Physical Systems': defaultdict(list, {}),\n",
       " 'Energy Center': defaultdict(list,\n",
       "             {'Network industry Management & e-governance': ['197514']}),\n",
       " 'Environmental Chemistry Laboratory': defaultdict(list, {}),\n",
       " 'Environmental Fluid Mechanics Laboratory': defaultdict(list,\n",
       "             {'Geodetic Engineering Laboratory': ['200867'],\n",
       "              'Laboratory of Cryospheric Sciences': ['205793',\n",
       "               '206717',\n",
       "               '206742',\n",
       "               '206467',\n",
       "               '206465',\n",
       "               '206745',\n",
       "               '206741',\n",
       "               '206739',\n",
       "               '206463',\n",
       "               '206746',\n",
       "               '206464',\n",
       "               '206451',\n",
       "               '205794',\n",
       "               '206727',\n",
       "               '206731',\n",
       "               '206743'],\n",
       "              'Laboratory of Ecohydrology': ['206467',\n",
       "               '206465',\n",
       "               '206463',\n",
       "               '206464'],\n",
       "              'Physics of Aquatic Systems Laboratory - Margaretha Kamprad Chair': ['200867'],\n",
       "              'Van den Bergh Group': ['206400'],\n",
       "              'Wind Engineering and Renewable Energy Laboratory': ['206720',\n",
       "               '206721']}),\n",
       " 'Environmental Hydraulics Laboratory': defaultdict(list, {}),\n",
       " 'Environmental Microbiology Laboratory': defaultdict(list, {}),\n",
       " 'Environmental Remote Sensing Laboratory': defaultdict(list,\n",
       "             {'Hydraulic Constructions Laboratory': ['201507']}),\n",
       " 'Fellay Group': defaultdict(list,\n",
       "             {'Computer Communications and Applications Laboratory 1': ['201720']}),\n",
       " 'Fondation Sandoz Chair in Biophysical Chemistry of Macromolecules': defaultdict(list,\n",
       "             {}),\n",
       " 'Foundation Bertarelli Chair in Neuroprosthetic Technology': defaultdict(list,\n",
       "             {'Learning algorithms and systems Laboratory': ['202617'],\n",
       "              'Microsystems Laboratory 4': ['201854']}),\n",
       " 'Fragouli Group': defaultdict(list, {}),\n",
       " 'Full Prof. Collin-Dufresne Chair': defaultdict(list,\n",
       "             {'Group in asset pricing': ['207518']}),\n",
       " 'Galatea Laboratory': defaultdict(list, {}),\n",
       " 'Geo-energy Laboratory': defaultdict(list, {}),\n",
       " 'Geodetic Engineering Laboratory': defaultdict(list,\n",
       "             {'Environmental Fluid Mechanics Laboratory': ['200867'],\n",
       "              'Network of Excellence for Advanced Road Cooperative traffic management in the Information Society': ['201922'],\n",
       "              'Physics of Aquatic Systems Laboratory - Margaretha Kamprad Chair': ['199120',\n",
       "               '200867']}),\n",
       " 'Geographic Information Systems Laboratory': defaultdict(list,\n",
       "             {'Computer Vision Laboratory': ['204822'],\n",
       "              'Signal Processing Laboratory 5': ['196390',\n",
       "               '196160',\n",
       "               '196389',\n",
       "               '197560']}),\n",
       " 'Group in asset pricing': defaultdict(list,\n",
       "             {'Full Prof. Collin-Dufresne Chair': ['207518']}),\n",
       " 'Group of Catalysis for Biofuels': defaultdict(list, {}),\n",
       " 'Group of Chemical and Physical Safety': defaultdict(list,\n",
       "             {'SB-SST': ['207815',\n",
       "               '207817',\n",
       "               '207827',\n",
       "               '207816',\n",
       "               '207814',\n",
       "               '207813']}),\n",
       " 'Group of Coordination Chemistry': defaultdict(list, {}),\n",
       " 'Hess Bellwald Group': defaultdict(list, {}),\n",
       " 'High Energy Physics Laboratory': defaultdict(list, {}),\n",
       " 'Human and social sciences teaching program': defaultdict(list,\n",
       "             {'Real-Time Coordination and Distributed Interaction Systems Group': ['200459'],\n",
       "              'Teaching Support Center': ['197538']}),\n",
       " 'Hydraulic Constructions Laboratory': defaultdict(list,\n",
       "             {'Environmental Remote Sensing Laboratory': ['201507'],\n",
       "              'Laboratory of Cryospheric Sciences': ['205102', '205103'],\n",
       "              'Laboratory of Ecohydrology': ['205101',\n",
       "               '205102',\n",
       "               '205100',\n",
       "               '205103']}),\n",
       " 'Image and Visual Representation Laboratory': defaultdict(list,\n",
       "             {'Computer Graphics and Geometry Laboratory': ['199960']}),\n",
       " 'Immersive Interaction Group': defaultdict(list, {}),\n",
       " 'Industrial Electronics laboratory': defaultdict(list,\n",
       "             {'Laboratory of Heat and Mass Transfer': ['201023']}),\n",
       " 'Informatics and Visualization Laboratory': defaultdict(list,\n",
       "             {'Chair of Timber Construction': ['215583'],\n",
       "              'Offered in consultation at the EPFL Library': ['215529',\n",
       "               '215586',\n",
       "               '215583'],\n",
       "              'Urban Sociology Laboratory': ['215529', '215586']}),\n",
       " 'Integrated Actuators Laboratory': defaultdict(list, {}),\n",
       " 'Integrated Circuits Laboratory': defaultdict(list,\n",
       "             {'Telecommunications Circuits Laboratory': ['200454']}),\n",
       " 'Integrated Systems Laboratory 1 (STI/IC)': defaultdict(list,\n",
       "             {'Laboratory of Nanostructures and Novel Electronic Materials': ['204268'],\n",
       "              'Microelectronic Systems Laboratory': ['201908', '197241'],\n",
       "              'Rigorous System Design Laboratory': ['199964'],\n",
       "              'Telecommunications Circuits Laboratory': ['188645', '204799']}),\n",
       " 'Integrated Systems Laboratory 2 (STI/IC)': defaultdict(list,\n",
       "             {'Microelectronic Systems Laboratory': ['198188']}),\n",
       " 'Interdisciplinary Center for Electron Microscopy': defaultdict(list,\n",
       "             {'Mechanical Metallurgy Laboratory': ['209993',\n",
       "               '211871',\n",
       "               '211870']}),\n",
       " 'Interdisciplinary Laboratory of Performance-Integrated Design': defaultdict(list,\n",
       "             {'Chôros Laboratory': ['215582'],\n",
       "              'Laboratory of Architecture and Sustainable Technologies': ['215536'],\n",
       "              'Offered in consultation at the EPFL Library': ['215536',\n",
       "               '215582']}),\n",
       " 'Joint Professorship on Solid Waste Treatment': defaultdict(list, {}),\n",
       " \"L'IDIAP Laboratory\": defaultdict(list,\n",
       "             {'Laboratory for Information and Inference Systems': ['181483',\n",
       "               '197357'],\n",
       "              'Signal Processing Laboratory 2': ['181483']}),\n",
       " \"Laboratoire d'optique biomédicale\": defaultdict(list,\n",
       "             {'Neva Chair of Bioorganic Chemistry and Molecular Imaging': ['203841'],\n",
       "              'Prof. van der Goot Group': ['203841']}),\n",
       " 'Laboratory Basel': defaultdict(list,\n",
       "             {'Chôros Laboratory': ['215541', '215555', '215570', '215584'],\n",
       "              'Design Studio on the Conception of Space': ['215541',\n",
       "               '215555',\n",
       "               '215577'],\n",
       "              'Offered in consultation at the EPFL Library': ['215541',\n",
       "               '215565',\n",
       "               '215555',\n",
       "               '215570',\n",
       "               '215577',\n",
       "               '215584']}),\n",
       " 'Laboratory for Applied Mechanical Design': defaultdict(list,\n",
       "             {'Laboratory for Industrial Energy Systems': ['200393']}),\n",
       " 'Laboratory for Automated Reasoning and Analysis': defaultdict(list, {}),\n",
       " 'Laboratory for Bio- and Nano-Instrumentation': defaultdict(list,\n",
       "             {'Microelectronic Systems Laboratory': ['202051']}),\n",
       " 'Laboratory for Biological Geochemistry': defaultdict(list,\n",
       "             {'Comment Group': ['198805']}),\n",
       " 'Laboratory for Computational Biology and Bioinformatics': defaultdict(list,\n",
       "             {}),\n",
       " 'Laboratory for Computer-aided Design and Production': defaultdict(list, {}),\n",
       " 'Laboratory for Environmental Biotechnology': defaultdict(list,\n",
       "             {'CEL Group': ['199966', '199965'],\n",
       "              'Ecological Engineering Laboratory': ['200518',\n",
       "               '200516',\n",
       "               '196447']}),\n",
       " 'Laboratory for Hydraulic Machines': defaultdict(list, {}),\n",
       " 'Laboratory for Industrial Energy Systems': defaultdict(list,\n",
       "             {'Laboratory for Applied Mechanical Design': ['200393']}),\n",
       " 'Laboratory for Information and Inference Systems': defaultdict(list,\n",
       "             {\"L'IDIAP Laboratory\": ['181483', '197357'],\n",
       "              'Signal Processing Laboratory 2': ['181483']}),\n",
       " 'Laboratory for Information in Networked Systems': defaultdict(list, {}),\n",
       " 'Laboratory for Probabilistic Machine Learning': defaultdict(list, {}),\n",
       " 'Laboratory for Production Management and Processes': defaultdict(list, {}),\n",
       " 'Laboratory for Quantum Magnetism': defaultdict(list,\n",
       "             {'Laboratory of Photoelectron Spectroscopy': ['206797']}),\n",
       " 'Laboratory for Water Quality and Treatment': defaultdict(list, {}),\n",
       " 'Laboratory for architecture as form': defaultdict(list, {}),\n",
       " 'Laboratory for cryptologic algorithms': defaultdict(list, {}),\n",
       " 'Laboratory for in situ nanomaterials characterisation with electrons': defaultdict(list,\n",
       "             {}),\n",
       " 'Laboratory of Advanced Semiconductors for Photonics and Electronics': defaultdict(list,\n",
       "             {'Laboratory of Quantum Optoelectronics': ['203528']}),\n",
       " 'Laboratory of Applied Mechanics and Reliability Analysis': defaultdict(list,\n",
       "             {'Laboratory of Composite and Polymer Technology': ['196663']}),\n",
       " 'Laboratory of Architecture and Sustainable Technologies': defaultdict(list,\n",
       "             {'Chôros Laboratory': ['215549', '215528'],\n",
       "              'Construction and Conservation Laboratory': ['215551', '215572'],\n",
       "              'Interdisciplinary Laboratory of Performance-Integrated Design': ['215536'],\n",
       "              'Laboratory of Techniques and Preservation of Modern Architecture': ['215598'],\n",
       "              'Laboratory of Theory and History of Architecture 2': ['215557',\n",
       "               '215538',\n",
       "               '215528'],\n",
       "              'Offered in consultation at the EPFL Library': ['215598',\n",
       "               '215549',\n",
       "               '215536',\n",
       "               '215551',\n",
       "               '215572',\n",
       "               '215557',\n",
       "               '215538',\n",
       "               '215528']}),\n",
       " 'Laboratory of Architecture and Urban Mobility': defaultdict(list,\n",
       "             {'Chair of Representation and Expression': ['215580'],\n",
       "              'Chôros Laboratory': ['215567', '215533', '215563'],\n",
       "              'Construction and Conservation Laboratory': ['215596'],\n",
       "              'Laboratory of Theory and History of Architecture 2': ['215533'],\n",
       "              'Offered in consultation at the EPFL Library': ['215537',\n",
       "               '215567',\n",
       "               '215533',\n",
       "               '215563',\n",
       "               '215581',\n",
       "               '215580',\n",
       "               '215596'],\n",
       "              'Urban Sociology Laboratory': ['215581']}),\n",
       " 'Laboratory of Astrophysics': defaultdict(list,\n",
       "             {'Real-Time Coordination and Distributed Interaction Systems Group': ['197280']}),\n",
       " 'Laboratory of Biomolecular Magnetic Resonance': defaultdict(list,\n",
       "             {'Technology Transfer Office': ['211665', '211589']}),\n",
       " 'Laboratory of Cognitive Neuroscience': defaultdict(list, {}),\n",
       " 'Laboratory of Composite and Polymer Technology': defaultdict(list,\n",
       "             {'Laboratory of Applied Mechanics and Reliability Analysis': ['196663']}),\n",
       " 'Laboratory of Computational Chemistry and Biochemistry': defaultdict(list,\n",
       "             {}),\n",
       " 'Laboratory of Computational Systems Biotechnology': defaultdict(list,\n",
       "             {'Prof. van der Goot Group': ['202723']}),\n",
       " 'Laboratory of Cryospheric Sciences': defaultdict(list,\n",
       "             {'Environmental Fluid Mechanics Laboratory': ['205793',\n",
       "               '206717',\n",
       "               '206742',\n",
       "               '206467',\n",
       "               '206465',\n",
       "               '206745',\n",
       "               '206741',\n",
       "               '206739',\n",
       "               '206463',\n",
       "               '206746',\n",
       "               '206464',\n",
       "               '206451',\n",
       "               '205794',\n",
       "               '206727',\n",
       "               '206731',\n",
       "               '206743'],\n",
       "              'Hydraulic Constructions Laboratory': ['205102', '205103'],\n",
       "              'Laboratory of Ecohydrology': ['206467',\n",
       "               '206465',\n",
       "               '206424',\n",
       "               '206463',\n",
       "               '206464',\n",
       "               '206425',\n",
       "               '205102',\n",
       "               '206428',\n",
       "               '205103']}),\n",
       " 'Laboratory of Ecohydrology': defaultdict(list,\n",
       "             {'Environmental Fluid Mechanics Laboratory': ['206467',\n",
       "               '206465',\n",
       "               '206463',\n",
       "               '206464'],\n",
       "              'Hydraulic Constructions Laboratory': ['205101',\n",
       "               '205102',\n",
       "               '205100',\n",
       "               '205103'],\n",
       "              'Laboratory of Cryospheric Sciences': ['206467',\n",
       "               '206465',\n",
       "               '206424',\n",
       "               '206463',\n",
       "               '206464',\n",
       "               '206425',\n",
       "               '205102',\n",
       "               '206428',\n",
       "               '205103'],\n",
       "              'Prof. Blokesch Group': ['203669']}),\n",
       " 'Laboratory of Environmental and Urban Economics': defaultdict(list, {}),\n",
       " 'Laboratory of Experimental Rock Mechanics': defaultdict(list, {}),\n",
       " 'Laboratory of Fluid Mechanics and Instabilities': defaultdict(list, {}),\n",
       " 'Laboratory of Heat and Mass Transfer': defaultdict(list,\n",
       "             {'Industrial Electronics laboratory': ['201023']}),\n",
       " 'Laboratory of Intelligent Systems': defaultdict(list,\n",
       "             {'Technology Transfer Office': ['211644']}),\n",
       " 'Laboratory of Macromolecular and Organic Materials': defaultdict(list,\n",
       "             {'Technology Transfer Office': ['211685']}),\n",
       " 'Laboratory of Materials for Renewable Energy': defaultdict(list, {}),\n",
       " 'Laboratory of Microengineering for Manufacturing': defaultdict(list, {}),\n",
       " 'Laboratory of Movement Analysis and Measurement': defaultdict(list, {}),\n",
       " 'Laboratory of Nanobiotechnology': defaultdict(list, {}),\n",
       " 'Laboratory of Nanoscale Magnetic Materials and Magnonics': defaultdict(list,\n",
       "             {}),\n",
       " 'Laboratory of Nanostructures and Novel Electronic Materials': defaultdict(list,\n",
       "             {'CEL Group': ['201577'],\n",
       "              'Integrated Systems Laboratory 1 (STI/IC)': ['204268'],\n",
       "              'Solar Energy and Building Physics Laboratory': ['202749']}),\n",
       " 'Laboratory of Nanostructures at Surfaces': defaultdict(list, {}),\n",
       " 'Laboratory of Organometallic and Medicinal Chemistry': defaultdict(list,\n",
       "             {'Medical photonics group': ['196289'],\n",
       "              'Van den Bergh Group': ['196289']}),\n",
       " 'Laboratory of Photoelectron Spectroscopy': defaultdict(list,\n",
       "             {'Laboratory for Quantum Magnetism': ['206797']}),\n",
       " 'Laboratory of Photomolecular Science': defaultdict(list, {}),\n",
       " 'Laboratory of Photonics and Interfaces': defaultdict(list,\n",
       "             {'Technology Transfer Office': ['211845']}),\n",
       " 'Laboratory of Prof. Marcel Salathé': defaultdict(list, {}),\n",
       " 'Laboratory of Quantum Optoelectronics': defaultdict(list,\n",
       "             {'Laboratory of Advanced Semiconductors for Photonics and Electronics': ['203528']}),\n",
       " 'Laboratory of Reactor Physics and Systems Behaviour': defaultdict(list, {}),\n",
       " 'Laboratory of Renewable Energy Science and Engineering': defaultdict(list,\n",
       "             {}),\n",
       " 'Laboratory of Statistical Biophysics': defaultdict(list, {}),\n",
       " 'Laboratory of Sustainable and Catalytic Processing': defaultdict(list, {}),\n",
       " 'Laboratory of Techniques and Preservation of Modern Architecture': defaultdict(list,\n",
       "             {'Applied Computing and Mechanics Laboratory': ['215597'],\n",
       "              'Construction and Conservation Laboratory': ['215547', '215550'],\n",
       "              'Laboratory of Architecture and Sustainable Technologies': ['215598'],\n",
       "              'Offered in consultation at the EPFL Library': ['215547',\n",
       "               '215598',\n",
       "               '215597',\n",
       "               '215550']}),\n",
       " 'Laboratory of Theory and History of Architecture 1': defaultdict(list,\n",
       "             {'Laboratory of Theory and History of Architecture 2': ['203655'],\n",
       "              'Laboratory of Theory and History of Architecture 3': ['203655']}),\n",
       " 'Laboratory of Theory and History of Architecture 2': defaultdict(list,\n",
       "             {'Chair of Representation and Expression': ['215576'],\n",
       "              'Chôros Laboratory': ['215533', '215599', '215585', '215528'],\n",
       "              'Construction and Conservation Laboratory': ['215568', '215562'],\n",
       "              'Design Studio on the Conception of Space': ['215591'],\n",
       "              'Laboratory of Architecture and Sustainable Technologies': ['215557',\n",
       "               '215538',\n",
       "               '215528'],\n",
       "              'Laboratory of Architecture and Urban Mobility': ['215533'],\n",
       "              'Laboratory of Theory and History of Architecture 1': ['203655'],\n",
       "              'Laboratory of Theory and History of Architecture 3': ['203655'],\n",
       "              'Laboratory of urban architecture': ['215588'],\n",
       "              'Offered in consultation at the EPFL Library': ['215533',\n",
       "               '215591',\n",
       "               '215573',\n",
       "               '215576',\n",
       "               '215599',\n",
       "               '215568',\n",
       "               '215548',\n",
       "               '215585',\n",
       "               '215526',\n",
       "               '215562',\n",
       "               '215557',\n",
       "               '215571',\n",
       "               '215538',\n",
       "               '215588',\n",
       "               '215528'],\n",
       "              'Solar Energy and Building Physics Laboratory': ['215562'],\n",
       "              'Urban Sociology Laboratory': ['215585', '215526']}),\n",
       " 'Laboratory of Theory and History of Architecture 3': defaultdict(list,\n",
       "             {'Chôros Laboratory': ['215579'],\n",
       "              'Design Studio on the Conception of Space': ['215561', '215544'],\n",
       "              'Laboratory of Theory and History of Architecture 1': ['203655'],\n",
       "              'Laboratory of Theory and History of Architecture 2': ['203655'],\n",
       "              'Offered in consultation at the EPFL Library': ['215561',\n",
       "               '215544',\n",
       "               '215579']}),\n",
       " 'Laboratory of Thermomechanical Metallurgy': defaultdict(list, {}),\n",
       " 'Laboratory of Urbanism': defaultdict(list, {}),\n",
       " 'Laboratory of functional and metabolic imaging': defaultdict(list,\n",
       "             {'Biomedical Imaging Research Center': ['203434',\n",
       "               '203436',\n",
       "               '197156',\n",
       "               '198965',\n",
       "               '198964',\n",
       "               '197157',\n",
       "               '200112',\n",
       "               '200111',\n",
       "               '200110',\n",
       "               '207095',\n",
       "               '203435',\n",
       "               '198861',\n",
       "               '198842',\n",
       "               '198862'],\n",
       "              'Comment Group': ['198965',\n",
       "               '198964',\n",
       "               '198929',\n",
       "               '200112',\n",
       "               '200111',\n",
       "               '200110',\n",
       "               '198861',\n",
       "               '198842'],\n",
       "              'Signal Processing Laboratory 5': ['207095']}),\n",
       " 'Laboratory of molecular simulation': defaultdict(list, {}),\n",
       " 'Laboratory of robotics systems': defaultdict(list,\n",
       "             {'Computer-Human Interaction Lab for Learning & Instruction': ['191243'],\n",
       "              'National Centre of Competence in Research (NCCR) Robotics': ['200396',\n",
       "               '191243'],\n",
       "              'Transportation and Mobility Laboratory': ['201805']}),\n",
       " 'Laboratory of synthesis and natural products': defaultdict(list, {}),\n",
       " 'Laboratory of the Physics of Nanostructured Materials': defaultdict(list,\n",
       "             {'Technology Transfer Office': ['211816']}),\n",
       " 'Laboratory of theory and simulation of materials': defaultdict(list, {}),\n",
       " 'Laboratory of urban architecture': defaultdict(list,\n",
       "             {'Construction and Conservation Laboratory': ['215542'],\n",
       "              'Laboratory of Theory and History of Architecture 2': ['215588'],\n",
       "              'Offered in consultation at the EPFL Library': ['215540',\n",
       "               '215569',\n",
       "               '215587',\n",
       "               '215588',\n",
       "               '215542'],\n",
       "              'Urban Sociology Laboratory': ['215540',\n",
       "               '215569',\n",
       "               '215587',\n",
       "               '215542']}),\n",
       " 'Learning algorithms and systems Laboratory': defaultdict(list,\n",
       "             {'Center for Neuroprosthetics': ['199783'],\n",
       "              'Defitech Foundation Chair in Brain-Machine Interface': ['199783'],\n",
       "              'Foundation Bertarelli Chair in Neuroprosthetic Technology': ['202617'],\n",
       "              'National Centre of Competence in Research (NCCR) Robotics': ['199783',\n",
       "               '196659',\n",
       "               '198301']}),\n",
       " 'Master degree projects in Chemistry and Chemical Engineering': defaultdict(list,\n",
       "             {}),\n",
       " 'Mechanical Metallurgy Laboratory': defaultdict(list,\n",
       "             {'Interdisciplinary Center for Electron Microscopy': ['209993',\n",
       "               '211871',\n",
       "               '211870']}),\n",
       " 'Media and Design Laboratory (IC/ENAC)': defaultdict(list,\n",
       "             {'Chôros Laboratory': ['215534',\n",
       "               '215534',\n",
       "               '215564',\n",
       "               '215564',\n",
       "               '215532',\n",
       "               '215532'],\n",
       "              'Offered in consultation at the EPFL Library': ['215534',\n",
       "               '215534',\n",
       "               '215564',\n",
       "               '215564',\n",
       "               '215532',\n",
       "               '215532']}),\n",
       " 'Medical Image Processing Lab': defaultdict(list,\n",
       "             {'Biomedical Imaging Research Center': ['205004'],\n",
       "              'Chair of Applied Statistics': ['198283']}),\n",
       " 'Medical photonics group': defaultdict(list,\n",
       "             {'Laboratory of Organometallic and Medicinal Chemistry': ['196289'],\n",
       "              'Van den Bergh Group': ['196289', '202124', '202577']}),\n",
       " 'Microbiorobotic Systems Laboratory': defaultdict(list, {}),\n",
       " 'Microelectronic Systems Laboratory': defaultdict(list,\n",
       "             {'Integrated Systems Laboratory 1 (STI/IC)': ['201908', '197241'],\n",
       "              'Integrated Systems Laboratory 2 (STI/IC)': ['198188'],\n",
       "              'Laboratory for Bio- and Nano-Instrumentation': ['202051'],\n",
       "              'RFIC Group': ['200968']}),\n",
       " 'Microsystems Laboratory 1': defaultdict(list,\n",
       "             {'Distributed Intelligent Systems and Algorithms Laboratory': ['196679']}),\n",
       " 'Microsystems Laboratory 2': defaultdict(list,\n",
       "             {'Nestlé Chair in Energy Metabolism': ['207501']}),\n",
       " 'Microsystems Laboratory 4': defaultdict(list,\n",
       "             {'Foundation Bertarelli Chair in Neuroprosthetic Technology': ['201854']}),\n",
       " 'Microsystems for Space Technologies Laboratory': defaultdict(list,\n",
       "             {'Adaptive Micronano Wave Systems': ['210401'],\n",
       "              'Electromagnetics and Acoustics Laboratory': ['210401']}),\n",
       " 'Mobile Communications Laboratory': defaultdict(list, {}),\n",
       " 'Molecular Mechanisms of Lung Cancer Development Laboratory': defaultdict(list,\n",
       "             {}),\n",
       " 'Multimedia Signal Processing Laboratory': defaultdict(list,\n",
       "             {'Applied Signal Processing Group': ['198474']}),\n",
       " 'Nanoelectronic Devices Laboratory': defaultdict(list,\n",
       "             {'Adaptive Micronano Wave Systems': ['210458',\n",
       "               '210459',\n",
       "               '198231',\n",
       "               '210457',\n",
       "               '210456'],\n",
       "              'Center of MicroNanoTechnology': ['200325'],\n",
       "              'Electromagnetics and Acoustics Laboratory': ['210458',\n",
       "               '210459',\n",
       "               '210457',\n",
       "               '210456'],\n",
       "              'Solar Energy and Building Physics Laboratory': ['200325'],\n",
       "              'Technology Transfer Office': ['211737']}),\n",
       " 'Nanophotonics and Metrology Laboratory': defaultdict(list, {}),\n",
       " 'National Centre of Competence in Research (NCCR) Robotics': defaultdict(list,\n",
       "             {'Biorobotics Laboratory': ['200520'],\n",
       "              'Center for Neuroprosthetics': ['200203', '199783', '200114'],\n",
       "              'Computer-Human Interaction Lab for Learning & Instruction': ['191243'],\n",
       "              'Defitech Foundation Chair in Brain-Machine Interface': ['200203',\n",
       "               '199783',\n",
       "               '200114'],\n",
       "              'Distributed Intelligent Systems and Algorithms Laboratory': ['200044',\n",
       "               '200045',\n",
       "               '197260'],\n",
       "              'Laboratory of robotics systems': ['200396', '191243'],\n",
       "              'Learning algorithms and systems Laboratory': ['199783',\n",
       "               '196659',\n",
       "               '198301']}),\n",
       " 'Nestlé Chair - Prof. Gräff Group': defaultdict(list, {}),\n",
       " 'Nestlé Chair in Energy Metabolism': defaultdict(list,\n",
       "             {'Microsystems Laboratory 2': ['207501']}),\n",
       " 'Network Architecture Laboratory': defaultdict(list, {}),\n",
       " 'Network industry Management & e-governance': defaultdict(list,\n",
       "             {'Energy Center': ['197514']}),\n",
       " 'Network of Excellence for Advanced Road Cooperative traffic management in the Information Society': defaultdict(list,\n",
       "             {'Geodetic Engineering Laboratory': ['201922']}),\n",
       " 'Networked Systems Laboratory': defaultdict(list,\n",
       "             {'Operating Systems Laboratory': ['199955', '202136', '196578']}),\n",
       " 'Neural Microcircuitry Laboratory': defaultdict(list, {}),\n",
       " 'Neuro Engineering Laboratory - Medtronic Chair in Neuro Engineering': defaultdict(list,\n",
       "             {}),\n",
       " 'Neva Chair of Bioorganic Chemistry and Molecular Imaging': defaultdict(list,\n",
       "             {\"Laboratoire d'optique biomédicale\": ['203841'],\n",
       "              'Prof. van der Goot Group': ['203841']}),\n",
       " 'Offered in consultation at the EPFL Library': defaultdict(list,\n",
       "             {'Applied Computing and Mechanics Laboratory': ['215597'],\n",
       "              'Archives of Modern Building': ['215558', '215594'],\n",
       "              'Arts of sciences laboratory - Archives of imaginary': ['215594'],\n",
       "              'Chair of Representation and Expression': ['215530',\n",
       "               '215553',\n",
       "               '215580',\n",
       "               '215576'],\n",
       "              'Chair of Timber Construction': ['215583'],\n",
       "              'Chôros Laboratory': ['215541',\n",
       "               '215535',\n",
       "               '215593',\n",
       "               '215567',\n",
       "               '215533',\n",
       "               '215563',\n",
       "               '215554',\n",
       "               '215549',\n",
       "               '215560',\n",
       "               '215555',\n",
       "               '215570',\n",
       "               '215539',\n",
       "               '215534',\n",
       "               '215564',\n",
       "               '215599',\n",
       "               '215592',\n",
       "               '215579',\n",
       "               '215545',\n",
       "               '215585',\n",
       "               '215582',\n",
       "               '215575',\n",
       "               '215556',\n",
       "               '215532',\n",
       "               '215584',\n",
       "               '215528'],\n",
       "              'Construction and Conservation Laboratory': ['215547',\n",
       "               '215535',\n",
       "               '215595',\n",
       "               '215566',\n",
       "               '215539',\n",
       "               '215559',\n",
       "               '215543',\n",
       "               '215551',\n",
       "               '215572',\n",
       "               '215568',\n",
       "               '215550',\n",
       "               '215562',\n",
       "               '215596',\n",
       "               '215542'],\n",
       "              'Design Studio on the Conception of Space': ['215541',\n",
       "               '215530',\n",
       "               '215527',\n",
       "               '215593',\n",
       "               '215558',\n",
       "               '215554',\n",
       "               '215561',\n",
       "               '215589',\n",
       "               '215566',\n",
       "               '215591',\n",
       "               '215555',\n",
       "               '215578',\n",
       "               '215552',\n",
       "               '215559',\n",
       "               '215544',\n",
       "               '215577',\n",
       "               '215531',\n",
       "               '215590'],\n",
       "              'Informatics and Visualization Laboratory': ['215529',\n",
       "               '215586',\n",
       "               '215583'],\n",
       "              'Interdisciplinary Laboratory of Performance-Integrated Design': ['215536',\n",
       "               '215582'],\n",
       "              'Laboratory Basel': ['215541',\n",
       "               '215565',\n",
       "               '215555',\n",
       "               '215570',\n",
       "               '215577',\n",
       "               '215584'],\n",
       "              'Laboratory of Architecture and Sustainable Technologies': ['215598',\n",
       "               '215549',\n",
       "               '215536',\n",
       "               '215551',\n",
       "               '215572',\n",
       "               '215557',\n",
       "               '215538',\n",
       "               '215528'],\n",
       "              'Laboratory of Architecture and Urban Mobility': ['215537',\n",
       "               '215567',\n",
       "               '215533',\n",
       "               '215563',\n",
       "               '215581',\n",
       "               '215580',\n",
       "               '215596'],\n",
       "              'Laboratory of Techniques and Preservation of Modern Architecture': ['215547',\n",
       "               '215598',\n",
       "               '215597',\n",
       "               '215550'],\n",
       "              'Laboratory of Theory and History of Architecture 2': ['215533',\n",
       "               '215591',\n",
       "               '215573',\n",
       "               '215576',\n",
       "               '215599',\n",
       "               '215568',\n",
       "               '215548',\n",
       "               '215585',\n",
       "               '215526',\n",
       "               '215562',\n",
       "               '215557',\n",
       "               '215571',\n",
       "               '215538',\n",
       "               '215588',\n",
       "               '215528'],\n",
       "              'Laboratory of Theory and History of Architecture 3': ['215561',\n",
       "               '215544',\n",
       "               '215579'],\n",
       "              'Laboratory of urban architecture': ['215540',\n",
       "               '215569',\n",
       "               '215587',\n",
       "               '215588',\n",
       "               '215542'],\n",
       "              'Media and Design Laboratory (IC/ENAC)': ['215534',\n",
       "               '215564',\n",
       "               '215532'],\n",
       "              'Solar Energy and Building Physics Laboratory': ['215562'],\n",
       "              'Structural Concrete Laboratory': ['215531'],\n",
       "              'Urban Sociology Laboratory': ['215529',\n",
       "               '215586',\n",
       "               '215581',\n",
       "               '215540',\n",
       "               '215560',\n",
       "               '215589',\n",
       "               '215546',\n",
       "               '215578',\n",
       "               '215543',\n",
       "               '215592',\n",
       "               '215569',\n",
       "               '215545',\n",
       "               '215585',\n",
       "               '215526',\n",
       "               '215575',\n",
       "               '215556',\n",
       "               '215590',\n",
       "               '215587',\n",
       "               '215542'],\n",
       "              'Urban and Regional Planning Community': ['215535']}),\n",
       " 'Operating Systems Laboratory': defaultdict(list,\n",
       "             {'Networked Systems Laboratory': ['199955', '202136', '196578']}),\n",
       " 'Optics and Photonics Technology Laboratory': defaultdict(list, {}),\n",
       " 'Osterwalder Group': defaultdict(list, {}),\n",
       " 'Parallel Systems Architecture Laboratory': defaultdict(list, {}),\n",
       " 'Particle Accelerator Physics Laboratory': defaultdict(list, {}),\n",
       " 'Patek Philippe Chair in Micromechanical and Horological Design': defaultdict(list,\n",
       "             {}),\n",
       " 'Peripheral Systems Laboratory': defaultdict(list, {}),\n",
       " 'Perona Group': defaultdict(list,\n",
       "             {'Ecological Systems Laboratory': ['205108']}),\n",
       " 'Photonic Systems Laboratory': defaultdict(list, {}),\n",
       " 'Photovoltaics and Thin Film Electronics Laboratory': defaultdict(list, {}),\n",
       " 'Physics of Aquatic Systems Laboratory - Margaretha Kamprad Chair': defaultdict(list,\n",
       "             {'Ecological Engineering Laboratory': ['204663', '204621'],\n",
       "              'Environmental Fluid Mechanics Laboratory': ['200867'],\n",
       "              'Geodetic Engineering Laboratory': ['199120', '200867']}),\n",
       " 'Physics of complex systems laboratory': defaultdict(list, {}),\n",
       " 'Power Systems Group': defaultdict(list, {}),\n",
       " 'Processor Architecture Laboratory': defaultdict(list,\n",
       "             {'Technology Transfer Office': ['211853']}),\n",
       " 'Prof. Blokesch Group': defaultdict(list,\n",
       "             {'Laboratory of Ecohydrology': ['203669']}),\n",
       " 'Prof. Constam Group': defaultdict(list,\n",
       "             {'Behavioral Genetics Laboratory': ['189901']}),\n",
       " 'Prof. De Palma Group': defaultdict(list, {}),\n",
       " 'Prof. Jensen Group': defaultdict(list, {}),\n",
       " 'Prof. van der Goot Group': defaultdict(list,\n",
       "             {\"Laboratoire d'optique biomédicale\": ['203841'],\n",
       "              'Laboratory of Computational Systems Biotechnology': ['202723'],\n",
       "              'Neva Chair of Bioorganic Chemistry and Molecular Imaging': ['203841']}),\n",
       " 'Programming Methods Laboratory': defaultdict(list,\n",
       "             {'Data Analysis Theory and Applications Laboratory': ['198693']}),\n",
       " 'Psychophysics Laboratory': defaultdict(list,\n",
       "             {'Biomedical Imaging Research Center': ['201020']}),\n",
       " 'Pu Group': defaultdict(list, {}),\n",
       " 'Quack Group': defaultdict(list, {}),\n",
       " 'Quantum Architecture Group': defaultdict(list, {}),\n",
       " 'RFIC Group': defaultdict(list,\n",
       "             {'Microelectronic Systems Laboratory': ['200968']}),\n",
       " 'Real-Time Coordination and Distributed Interaction Systems Group': defaultdict(list,\n",
       "             {'Automatic Control Laboratory': ['200122'],\n",
       "              'Human and social sciences teaching program': ['200459'],\n",
       "              'Laboratory of Astrophysics': ['197280']}),\n",
       " 'Realistic Graphics Lab': defaultdict(list, {}),\n",
       " 'Reconfigurable Robotics Lab': defaultdict(list, {}),\n",
       " 'Resilient Steel Structures Laboratory': defaultdict(list, {}),\n",
       " 'Rigorous System Design Laboratory': defaultdict(list,\n",
       "             {'Distributed Programming Laboratory': ['199451'],\n",
       "              'Integrated Systems Laboratory 1 (STI/IC)': ['199964']}),\n",
       " 'Risk Analytics and Optimization Chair': defaultdict(list, {}),\n",
       " 'Rock Mechanics Laboratory': defaultdict(list, {}),\n",
       " 'SB-SST': defaultdict(list,\n",
       "             {'Group of Chemical and Physical Safety': ['207815',\n",
       "               '207817',\n",
       "               '207827',\n",
       "               '207816',\n",
       "               '207814',\n",
       "               '207813']}),\n",
       " 'SCI STI MM Group': defaultdict(list, {}),\n",
       " 'Scientific Information and Libraries': defaultdict(list, {}),\n",
       " 'Scientific computing and uncertainty quantification ': defaultdict(list, {}),\n",
       " 'Security and Cryptography Laboratory': defaultdict(list, {}),\n",
       " 'Sensors, Actuators and Microsystems Laboratory': defaultdict(list,\n",
       "             {'Technology Transfer Office': ['211806']}),\n",
       " 'Signal Processing Laboratory 2': defaultdict(list,\n",
       "             {'Electromagnetics and Acoustics Laboratory': ['204541'],\n",
       "              'Embedded Systems Laboratory': ['198481', '198291'],\n",
       "              \"L'IDIAP Laboratory\": ['181483'],\n",
       "              'Laboratory for Information and Inference Systems': ['181483'],\n",
       "              'Technology Transfer Office': ['211599']}),\n",
       " 'Signal Processing Laboratory 4': defaultdict(list, {}),\n",
       " 'Signal Processing Laboratory 5': defaultdict(list,\n",
       "             {'Biomedical Imaging Research Center': ['200493', '207095'],\n",
       "              'Geographic Information Systems Laboratory': ['196390',\n",
       "               '196160',\n",
       "               '196389',\n",
       "               '197560'],\n",
       "              'Laboratory of functional and metabolic imaging': ['207095']}),\n",
       " 'Soft Materials Laboratory': defaultdict(list, {}),\n",
       " 'Soil Mechanics Laboratory': defaultdict(list, {}),\n",
       " 'Solar Energy and Building Physics Laboratory': defaultdict(list,\n",
       "             {'Center of MicroNanoTechnology': ['200325'],\n",
       "              'Composite Construction Laboratory': ['203650'],\n",
       "              'Construction and Conservation Laboratory': ['215562'],\n",
       "              'Laboratory of Nanostructures and Novel Electronic Materials': ['202749'],\n",
       "              'Laboratory of Theory and History of Architecture 2': ['215562'],\n",
       "              'Nanoelectronic Devices Laboratory': ['200325'],\n",
       "              'Offered in consultation at the EPFL Library': ['215562']}),\n",
       " 'Steel Structures Laboratory': defaultdict(list,\n",
       "             {'Centre for Area and Cultural Studies': ['199974'],\n",
       "              'Urban Sociology Laboratory': ['199974']}),\n",
       " 'Structural Concrete Laboratory': defaultdict(list,\n",
       "             {'Design Studio on the Conception of Space': ['215531'],\n",
       "              'Earthquake Engineering and Structural Dynamics Laboratory': ['201593',\n",
       "               '201585',\n",
       "               '201583'],\n",
       "              'Offered in consultation at the EPFL Library': ['215531']}),\n",
       " 'Structural Exploration Lab': defaultdict(list, {}),\n",
       " 'Structural Maintenance and Safety Laboratory': defaultdict(list, {}),\n",
       " 'Swiss Plasma Center': defaultdict(list,\n",
       "             {'Center for Research In Plasma Physics': ['207536',\n",
       "               '207754',\n",
       "               '203423',\n",
       "               '207766',\n",
       "               '205837',\n",
       "               '200340',\n",
       "               '207545',\n",
       "               '207538',\n",
       "               '206791',\n",
       "               '201887',\n",
       "               '198279',\n",
       "               '206935',\n",
       "               '201710',\n",
       "               '207756',\n",
       "               '205144',\n",
       "               '206213',\n",
       "               '203882',\n",
       "               '207757',\n",
       "               '205846',\n",
       "               '200131',\n",
       "               '195211',\n",
       "               '207753',\n",
       "               '206936',\n",
       "               '206266',\n",
       "               '199851',\n",
       "               '203409',\n",
       "               '205848',\n",
       "               '206265',\n",
       "               '206267',\n",
       "               '204630',\n",
       "               '200339',\n",
       "               '203714',\n",
       "               '207532',\n",
       "               '197165',\n",
       "               '207752',\n",
       "               '199958',\n",
       "               '207760',\n",
       "               '201634',\n",
       "               '204631',\n",
       "               '196178',\n",
       "               '202710',\n",
       "               '201708',\n",
       "               '206932',\n",
       "               '205847',\n",
       "               '203407',\n",
       "               '199850',\n",
       "               '199847',\n",
       "               '207548',\n",
       "               '206790',\n",
       "               '206268',\n",
       "               '207547',\n",
       "               '196175',\n",
       "               '200853',\n",
       "               '201635',\n",
       "               '207535',\n",
       "               '199849',\n",
       "               '207544',\n",
       "               '207765',\n",
       "               '207546',\n",
       "               '203634',\n",
       "               '206789',\n",
       "               '206104',\n",
       "               '196177',\n",
       "               '207764',\n",
       "               '206264',\n",
       "               '206105',\n",
       "               '207755',\n",
       "               '207758',\n",
       "               '196176',\n",
       "               '206845',\n",
       "               '207763']}),\n",
       " 'Systemic Enterprise Architecture Methodology Laboratory': defaultdict(list,\n",
       "             {}),\n",
       " 'Teaching Support Center': defaultdict(list,\n",
       "             {'Human and social sciences teaching program': ['197538']}),\n",
       " 'Technology Transfer Office': defaultdict(list,\n",
       "             {'Audio Visual Communications Laboratory': ['211645'],\n",
       "              'Laboratory of Biomolecular Magnetic Resonance': ['211665',\n",
       "               '211589'],\n",
       "              'Laboratory of Intelligent Systems': ['211644'],\n",
       "              'Laboratory of Macromolecular and Organic Materials': ['211685'],\n",
       "              'Laboratory of Photonics and Interfaces': ['211845'],\n",
       "              'Laboratory of the Physics of Nanostructured Materials': ['211816'],\n",
       "              'Nanoelectronic Devices Laboratory': ['211737'],\n",
       "              'Processor Architecture Laboratory': ['211853'],\n",
       "              'Sensors, Actuators and Microsystems Laboratory': ['211806'],\n",
       "              'Signal Processing Laboratory 2': ['211599']}),\n",
       " 'Telecommunications Circuits Laboratory': defaultdict(list,\n",
       "             {'Adaptive Micronano Wave Systems': ['198234'],\n",
       "              'Embedded Systems Laboratory': ['201932'],\n",
       "              'Integrated Circuits Laboratory': ['200454'],\n",
       "              'Integrated Systems Laboratory 1 (STI/IC)': ['188645',\n",
       "               '204799']}),\n",
       " 'The Blue Brain Project': defaultdict(list,\n",
       "             {'Data-Intensive Applications and Systems Laboratory': ['190821']}),\n",
       " 'Theory of Computation Laboratory 2': defaultdict(list,\n",
       "             {'Chair of Discrete Optimization': ['201737']}),\n",
       " 'Traffic Facilities Laboratory': defaultdict(list,\n",
       "             {'Transportation and Mobility Laboratory': ['197655'],\n",
       "              'Urban Transport Systems Laboratory': ['198464']}),\n",
       " 'Translational Neural Engineering Laboratory': defaultdict(list,\n",
       "             {'Center for Neuroprosthetics': ['202001',\n",
       "               '201999',\n",
       "               '202000',\n",
       "               '202006']}),\n",
       " 'Transportation and Mobility Laboratory': defaultdict(list,\n",
       "             {' IPESE (sci-sti-fm)': ['201852'],\n",
       "              'Laboratory of robotics systems': ['201805'],\n",
       "              'Traffic Facilities Laboratory': ['197655'],\n",
       "              'Urban Sociology Laboratory': ['199716'],\n",
       "              'Urban and Regional Planning Community': ['199716']}),\n",
       " 'Tzieropoulos Group': defaultdict(list, {}),\n",
       " 'Unsteady Flow Diagnostics Laboratory': defaultdict(list, {}),\n",
       " 'Urban Sociology Laboratory': defaultdict(list,\n",
       "             {'Centre for Area and Cultural Studies': ['199974'],\n",
       "              'Chôros Laboratory': ['215560',\n",
       "               '215592',\n",
       "               '215545',\n",
       "               '215585',\n",
       "               '215575',\n",
       "               '215556'],\n",
       "              'Construction and Conservation Laboratory': ['215543', '215542'],\n",
       "              'Design Studio on the Conception of Space': ['215589',\n",
       "               '215578',\n",
       "               '215590'],\n",
       "              'Informatics and Visualization Laboratory': ['215529', '215586'],\n",
       "              'Laboratory of Architecture and Urban Mobility': ['215581'],\n",
       "              'Laboratory of Theory and History of Architecture 2': ['215585',\n",
       "               '215526'],\n",
       "              'Laboratory of urban architecture': ['215540',\n",
       "               '215569',\n",
       "               '215587',\n",
       "               '215542'],\n",
       "              'Offered in consultation at the EPFL Library': ['215529',\n",
       "               '215586',\n",
       "               '215581',\n",
       "               '215540',\n",
       "               '215560',\n",
       "               '215589',\n",
       "               '215546',\n",
       "               '215578',\n",
       "               '215543',\n",
       "               '215592',\n",
       "               '215569',\n",
       "               '215545',\n",
       "               '215585',\n",
       "               '215526',\n",
       "               '215575',\n",
       "               '215556',\n",
       "               '215590',\n",
       "               '215587',\n",
       "               '215542'],\n",
       "              'Steel Structures Laboratory': ['199974'],\n",
       "              'Transportation and Mobility Laboratory': ['199716'],\n",
       "              'Urban and Regional Planning Community': ['199716',\n",
       "               '196994',\n",
       "               '199392',\n",
       "               '199397',\n",
       "               '199398',\n",
       "               '199393'],\n",
       "              'cooperation@epfl': ['217322']}),\n",
       " 'Urban Transport Systems Laboratory': defaultdict(list,\n",
       "             {'Traffic Facilities Laboratory': ['198464']}),\n",
       " 'Urban and Regional Planning Community': defaultdict(list,\n",
       "             {'Chôros Laboratory': ['203688', '215535', '198806'],\n",
       "              'Construction and Conservation Laboratory': ['215535'],\n",
       "              'Digital Humanities Laboratory': ['203688'],\n",
       "              'Offered in consultation at the EPFL Library': ['215535'],\n",
       "              'Transportation and Mobility Laboratory': ['199716'],\n",
       "              'Urban Sociology Laboratory': ['199716',\n",
       "               '196994',\n",
       "               '199392',\n",
       "               '199397',\n",
       "               '199398',\n",
       "               '199393']}),\n",
       " 'Van den Bergh Group': defaultdict(list,\n",
       "             {'Environmental Fluid Mechanics Laboratory': ['206400'],\n",
       "              'Laboratory of Organometallic and Medicinal Chemistry': ['196289'],\n",
       "              'Medical photonics group': ['196289', '202124', '202577']}),\n",
       " 'Villanueva Group': defaultdict(list, {}),\n",
       " 'Wind Engineering and Renewable Energy Laboratory': defaultdict(list,\n",
       "             {'Environmental Fluid Mechanics Laboratory': ['206720',\n",
       "               '206721']}),\n",
       " 'X-Ray Physics Laboratory': defaultdict(list,\n",
       "             {'Digital Humanities Laboratory': ['205826', '205825']}),\n",
       " 'cooperation@epfl': defaultdict(list,\n",
       "             {'Urban Sociology Laboratory': ['217322']})}"
      ]
     },
     "execution_count": 134,
     "metadata": {},
     "output_type": "execute_result"
    }
   ],
   "source": [
    "dict_edges"
   ]
  },
  {
   "cell_type": "code",
   "execution_count": 135,
   "metadata": {
    "collapsed": true
   },
   "outputs": [],
   "source": [
    "list_schools = ['ENAC', 'SB', 'IC', 'STI', 'SV']"
   ]
  },
  {
   "cell_type": "code",
   "execution_count": 136,
   "metadata": {
    "collapsed": true
   },
   "outputs": [],
   "source": [
    "school_lab_dict = {}\n",
    "for school in list_schools:\n",
    "    school_lab_dict.update(school_lab(dict_lab_site, school))"
   ]
  },
  {
   "cell_type": "code",
   "execution_count": 137,
   "metadata": {
    "collapsed": false
   },
   "outputs": [
    {
     "data": {
      "text/plain": [
       "191"
      ]
     },
     "execution_count": 137,
     "metadata": {},
     "output_type": "execute_result"
    }
   ],
   "source": [
    "len(school_lab_dict)"
   ]
  },
  {
   "cell_type": "code",
   "execution_count": 138,
   "metadata": {
    "collapsed": false
   },
   "outputs": [],
   "source": [
    "# Get the list of edges and weigths for the edges\n",
    "edges = []\n",
    "weigths = {}\n",
    "for lab in dict_edges:\n",
    "    if len(dict_edges[lab]) != 0:\n",
    "        for lab_2 in dict_edges[lab]:\n",
    "            edges += sorted([(dict_lab_id[lab], dict_lab_id[lab_2])])\n",
    "            weigths[(dict_lab_id[lab], dict_lab_id[lab_2])] = len(dict_edges[lab][lab_2])"
   ]
  },
  {
   "cell_type": "code",
   "execution_count": 226,
   "metadata": {
    "collapsed": false
   },
   "outputs": [],
   "source": [
    "dict_school_pub_edges = defaultdict(int)\n",
    "for edge in list(weigths.keys()):\n",
    "    try:\n",
    "        dict_school_pub_edges[school_lab_dict[dict_id_lab[edge[0]]], school_lab_dict[dict_id_lab[edge[1]]]] += weigths[edge]\n",
    "    except:\n",
    "        continue"
   ]
  },
  {
   "cell_type": "markdown",
   "metadata": {},
   "source": [
    "# Whe has more labs"
   ]
  },
  {
   "cell_type": "code",
   "execution_count": 140,
   "metadata": {
    "collapsed": false
   },
   "outputs": [],
   "source": [
    "import collections\n",
    "counter=collections.Counter(list(school_lab_dict.values()))"
   ]
  },
  {
   "cell_type": "code",
   "execution_count": 141,
   "metadata": {
    "collapsed": false
   },
   "outputs": [
    {
     "data": {
      "text/plain": [
       "Counter({'ENAC': 51, 'IC': 31, 'SB': 44, 'STI': 52, 'SV': 13})"
      ]
     },
     "execution_count": 141,
     "metadata": {},
     "output_type": "execute_result"
    }
   ],
   "source": [
    "counter"
   ]
  },
  {
   "cell_type": "code",
   "execution_count": 229,
   "metadata": {
    "collapsed": false
   },
   "outputs": [],
   "source": [
    "for key in list(dict_school_pub_edges.keys()):\n",
    "    if key[0] == key[1]:\n",
    "        del dict_school_pub_edges[key]"
   ]
  },
  {
   "cell_type": "code",
   "execution_count": 231,
   "metadata": {
    "collapsed": false
   },
   "outputs": [],
   "source": [
    "total_paper = sum(list(dict_school_pub_edges.values()))"
   ]
  },
  {
   "cell_type": "code",
   "execution_count": 254,
   "metadata": {
    "collapsed": false
   },
   "outputs": [],
   "source": [
    "dict_inter_school_pub = defaultdict(int)\n",
    "for key in list(dict_school_pub_edges.keys()):\n",
    "    pair_school = tuple(sorted([key[0], key[1]]))\n",
    "    dict_inter_school_pub[pair_school] += dict_school_pub_edges[key]/total_paper"
   ]
  },
  {
   "cell_type": "code",
   "execution_count": 255,
   "metadata": {
    "collapsed": false
   },
   "outputs": [
    {
     "data": {
      "text/plain": [
       "defaultdict(int,\n",
       "            {('ENAC', 'IC'): 0.19298245614035087,\n",
       "             ('ENAC', 'SB'): 0.10526315789473684,\n",
       "             ('ENAC', 'STI'): 0.24561403508771928,\n",
       "             ('ENAC', 'SV'): 0.03508771929824561,\n",
       "             ('IC', 'SB'): 0.03508771929824561,\n",
       "             ('IC', 'STI'): 0.03508771929824561,\n",
       "             ('IC', 'SV'): 0.03508771929824561,\n",
       "             ('SB', 'STI'): 0.21052631578947367,\n",
       "             ('SB', 'SV'): 0.03508771929824561,\n",
       "             ('STI', 'SV'): 0.07017543859649122})"
      ]
     },
     "execution_count": 255,
     "metadata": {},
     "output_type": "execute_result"
    }
   ],
   "source": [
    "# 2014\n",
    "dict_inter_school_pub"
   ]
  },
  {
   "cell_type": "code",
   "execution_count": 256,
   "metadata": {
    "collapsed": false
   },
   "outputs": [
    {
     "data": {
      "text/plain": [
       "defaultdict(int,\n",
       "            {('ENAC', 'IC'): 0.19298245614035087,\n",
       "             ('ENAC', 'SB'): 0.10526315789473684,\n",
       "             ('ENAC', 'STI'): 0.24561403508771928,\n",
       "             ('ENAC', 'SV'): 0.03508771929824561,\n",
       "             ('IC', 'SB'): 0.03508771929824561,\n",
       "             ('IC', 'STI'): 0.03508771929824561,\n",
       "             ('IC', 'SV'): 0.03508771929824561,\n",
       "             ('SB', 'STI'): 0.21052631578947367,\n",
       "             ('SB', 'SV'): 0.03508771929824561,\n",
       "             ('STI', 'SV'): 0.07017543859649122})"
      ]
     },
     "execution_count": 256,
     "metadata": {},
     "output_type": "execute_result"
    }
   ],
   "source": [
    "# 2015\n",
    "dict_inter_school_pub"
   ]
  },
  {
   "cell_type": "code",
   "execution_count": 11,
   "metadata": {
    "collapsed": true
   },
   "outputs": [],
   "source": [
    "# Which are the schools which collaborated most in 2016?"
   ]
  },
  {
   "cell_type": "markdown",
   "metadata": {},
   "source": [
    "# Create map"
   ]
  },
  {
   "cell_type": "code",
   "execution_count": 314,
   "metadata": {
    "collapsed": true
   },
   "outputs": [],
   "source": [
    "import numpy as np"
   ]
  },
  {
   "cell_type": "code",
   "execution_count": 315,
   "metadata": {
    "collapsed": true
   },
   "outputs": [],
   "source": [
    "X_1 = 532700\n",
    "X_2 = 533507\n",
    "Y_1 = 152693\n",
    "Y_2 = 152242"
   ]
  },
  {
   "cell_type": "code",
   "execution_count": 316,
   "metadata": {
    "collapsed": true
   },
   "outputs": [],
   "source": [
    "X_1_scaled = 0\n",
    "X_2_scaled = 807\n",
    "Y_1_scaled = 451\n",
    "Y_2_scaled = 0"
   ]
  },
  {
   "cell_type": "code",
   "execution_count": 501,
   "metadata": {
    "collapsed": true
   },
   "outputs": [],
   "source": [
    "# Scaled coordinates\n",
    "coordinate_ENAC = (533078- X_1,152571-Y_2)\n",
    "coordinate_IC = (532818- X_1, 152292-Y_2)\n",
    "coordinate_SV = (532815- X_1,152457-Y_2)\n",
    "coordinate_SB = (533263- X_1,152526-Y_2)\n",
    "coordinate_STI = (532938- X_1, 152399-Y_2)"
   ]
  },
  {
   "cell_type": "code",
   "execution_count": 565,
   "metadata": {
    "collapsed": true
   },
   "outputs": [],
   "source": [
    "# Scaled coordinates\n",
    "coordinate_ENAC = (152571-Y_2, 533078- X_1)\n",
    "coordinate_IC = (152292-Y_2, 532818- X_1, )\n",
    "coordinate_SV = (152457-Y_2, 532815- X_1)\n",
    "coordinate_SB = (152526-Y_2, 533263- X_1)\n",
    "coordinate_STI = (152399-Y_2, 532938- X_1)"
   ]
  },
  {
   "cell_type": "code",
   "execution_count": 566,
   "metadata": {
    "collapsed": true
   },
   "outputs": [],
   "source": [
    "dict_school = {list_schools[i]:i+1 for i in range(len(list_schools))}"
   ]
  },
  {
   "cell_type": "code",
   "execution_count": 567,
   "metadata": {
    "collapsed": true
   },
   "outputs": [],
   "source": [
    "# Create the grid 113 x 202 each patch is 4x4\n",
    "#empty_map = np.zeros((113,202))\n",
    "empty_map = np.zeros((451,807))"
   ]
  },
  {
   "cell_type": "code",
   "execution_count": 568,
   "metadata": {
    "collapsed": true
   },
   "outputs": [],
   "source": [
    "ranges_X = np.arange(X_1_scaled, X_2_scaled, 1)\n",
    "ranges_Y = np.arange(Y_2_scaled, Y_1_scaled, 1)"
   ]
  },
  {
   "cell_type": "code",
   "execution_count": 569,
   "metadata": {
    "collapsed": false
   },
   "outputs": [],
   "source": [
    "school_center_map = {'ENAC': coordinate_ENAC, 'IC':coordinate_IC, 'SV':coordinate_SV, 'SB':coordinate_SB, 'STI':coordinate_STI}"
   ]
  },
  {
   "cell_type": "code",
   "execution_count": 570,
   "metadata": {
    "collapsed": false
   },
   "outputs": [],
   "source": [
    "dict_coordinates = {'ENAC': coordinate_ENAC, 'IC':coordinate_IC, 'SV':coordinate_SV, 'SB':coordinate_SB, 'STI':coordinate_STI}"
   ]
  },
  {
   "cell_type": "code",
   "execution_count": 571,
   "metadata": {
    "collapsed": false
   },
   "outputs": [],
   "source": [
    "#school_center_map = {}\n",
    "#for school in list_schools:\n",
    "#    list_ranges_x = [i for i in ranges_X if i >= dict_coordinates[school][0]-4]\n",
    "#    x_1 = list(ranges_X).index(list_ranges_x[0])\n",
    "    \n",
    "#    list_ranges_y = [i for i in ranges_Y if i >= dict_coordinates[school][1]-4]\n",
    "#    y_1 = list(ranges_Y).index(list_ranges_y[0])\n",
    "    \n",
    "#    school_center_map[school] = (x_1, y_1)"
   ]
  },
  {
   "cell_type": "code",
   "execution_count": 572,
   "metadata": {
    "collapsed": false
   },
   "outputs": [
    {
     "data": {
      "text/plain": [
       "{'ENAC': (329, 378),\n",
       " 'IC': (50, 118),\n",
       " 'SB': (284, 563),\n",
       " 'STI': (157, 238),\n",
       " 'SV': (215, 115)}"
      ]
     },
     "execution_count": 572,
     "metadata": {},
     "output_type": "execute_result"
    }
   ],
   "source": [
    "dict_coordinates\n"
   ]
  },
  {
   "cell_type": "code",
   "execution_count": 573,
   "metadata": {
    "collapsed": false
   },
   "outputs": [
    {
     "data": {
      "text/plain": [
       "{'ENAC': (329, 378),\n",
       " 'IC': (50, 118),\n",
       " 'SB': (284, 563),\n",
       " 'STI': (157, 238),\n",
       " 'SV': (215, 115)}"
      ]
     },
     "execution_count": 573,
     "metadata": {},
     "output_type": "execute_result"
    }
   ],
   "source": [
    "school_center_map"
   ]
  },
  {
   "cell_type": "code",
   "execution_count": 574,
   "metadata": {
    "collapsed": false
   },
   "outputs": [],
   "source": [
    "# Define distances between points\n",
    "import math\n",
    "dict_distances = defaultdict(int)\n",
    "for school in list(dict_coordinates.keys()):\n",
    "    for school_1 in list(dict_coordinates.keys()):\n",
    "        if school != school_1:\n",
    "            dict_distances[(school, school_1)] = math.sqrt( (school_center_map[school][0] - school_center_map[school_1][0])**2 + (school_center_map[school][1] - school_center_map[school_1][1])**2 )"
   ]
  },
  {
   "cell_type": "code",
   "execution_count": 575,
   "metadata": {
    "collapsed": false
   },
   "outputs": [
    {
     "data": {
      "text/plain": [
       "defaultdict(int,\n",
       "            {('ENAC', 'IC'): 381.36727704405894,\n",
       "             ('ENAC', 'SB'): 190.3943276465977,\n",
       "             ('ENAC', 'STI'): 221.7746604100658,\n",
       "             ('ENAC', 'SV'): 286.6443789785524,\n",
       "             ('IC', 'ENAC'): 381.36727704405894,\n",
       "             ('IC', 'SB'): 502.7733087585299,\n",
       "             ('IC', 'STI'): 160.77624202599088,\n",
       "             ('IC', 'SV'): 165.0272704737008,\n",
       "             ('SB', 'ENAC'): 190.3943276465977,\n",
       "             ('SB', 'IC'): 502.7733087585299,\n",
       "             ('SB', 'STI'): 348.9326582594412,\n",
       "             ('SB', 'SV'): 453.28247263709636,\n",
       "             ('STI', 'ENAC'): 221.7746604100658,\n",
       "             ('STI', 'IC'): 160.77624202599088,\n",
       "             ('STI', 'SB'): 348.9326582594412,\n",
       "             ('STI', 'SV'): 135.988970140964,\n",
       "             ('SV', 'ENAC'): 286.6443789785524,\n",
       "             ('SV', 'IC'): 165.0272704737008,\n",
       "             ('SV', 'SB'): 453.28247263709636,\n",
       "             ('SV', 'STI'): 135.988970140964})"
      ]
     },
     "execution_count": 575,
     "metadata": {},
     "output_type": "execute_result"
    }
   ],
   "source": [
    "dict_distances"
   ]
  },
  {
   "cell_type": "code",
   "execution_count": 576,
   "metadata": {
    "collapsed": true
   },
   "outputs": [],
   "source": [
    "dict_distance_inter_school = defaultdict(int)\n",
    "for key in list(dict_distances.keys()):\n",
    "    pair_school = tuple(sorted([key[0], key[1]]))\n",
    "    dict_distance_inter_school[pair_school] += dict_distances[key]"
   ]
  },
  {
   "cell_type": "code",
   "execution_count": 577,
   "metadata": {
    "collapsed": false
   },
   "outputs": [
    {
     "data": {
      "text/plain": [
       "defaultdict(int,\n",
       "            {('ENAC', 'IC'): 762.7345540881179,\n",
       "             ('ENAC', 'SB'): 380.7886552931954,\n",
       "             ('ENAC', 'STI'): 443.5493208201316,\n",
       "             ('ENAC', 'SV'): 573.2887579571048,\n",
       "             ('IC', 'SB'): 1005.5466175170598,\n",
       "             ('IC', 'STI'): 321.55248405198176,\n",
       "             ('IC', 'SV'): 330.0545409474016,\n",
       "             ('SB', 'STI'): 697.8653165188824,\n",
       "             ('SB', 'SV'): 906.5649452741927,\n",
       "             ('STI', 'SV'): 271.977940281928})"
      ]
     },
     "execution_count": 577,
     "metadata": {},
     "output_type": "execute_result"
    }
   ],
   "source": [
    "dict_distance_inter_school"
   ]
  },
  {
   "cell_type": "markdown",
   "metadata": {},
   "source": [
    "#### Define the score function\n",
    "   $$QP_u = \\frac{\\sum_{v}[ (1-\\theta_{uv}) \\times||(u,v)||^2_2]}{\\sum_{\\text{all pairs }(u,v)}[ (1-\\theta_{uv}) \\times||(u,v)||^2_2]}$$\n",
    "   \n",
    "where:\n",
    "\n",
    "* $QP_u$: quality position of the school $u$\n",
    "* $\\theta_{uv}$: is the proportion of work produced by both u and v over the number of all publication between two schools\n",
    "\n",
    "Thus, the index varies between 0 and 1. Greater it is better is positioned the school according to its research contribution."
   ]
  },
  {
   "cell_type": "code",
   "execution_count": 578,
   "metadata": {
    "collapsed": false
   },
   "outputs": [
    {
     "data": {
      "text/plain": [
       "defaultdict(int,\n",
       "            {('ENAC', 'IC'): 0.19298245614035087,\n",
       "             ('ENAC', 'SB'): 0.10526315789473684,\n",
       "             ('ENAC', 'STI'): 0.24561403508771928,\n",
       "             ('ENAC', 'SV'): 0.03508771929824561,\n",
       "             ('IC', 'ENAC'): 0,\n",
       "             ('IC', 'SB'): 0.03508771929824561,\n",
       "             ('IC', 'STI'): 0.03508771929824561,\n",
       "             ('IC', 'SV'): 0.03508771929824561,\n",
       "             ('SB', 'ENAC'): 0,\n",
       "             ('SB', 'IC'): 0,\n",
       "             ('SB', 'STI'): 0.21052631578947367,\n",
       "             ('SB', 'SV'): 0.03508771929824561,\n",
       "             ('STI', 'ENAC'): 0,\n",
       "             ('STI', 'IC'): 0,\n",
       "             ('STI', 'SB'): 0,\n",
       "             ('STI', 'SV'): 0.07017543859649122,\n",
       "             ('SV', 'ENAC'): 0,\n",
       "             ('SV', 'IC'): 0,\n",
       "             ('SV', 'SB'): 0,\n",
       "             ('SV', 'STI'): 0})"
      ]
     },
     "execution_count": 578,
     "metadata": {},
     "output_type": "execute_result"
    }
   ],
   "source": [
    "dict_inter_school_pub"
   ]
  },
  {
   "cell_type": "code",
   "execution_count": 579,
   "metadata": {
    "collapsed": true
   },
   "outputs": [],
   "source": [
    "# 2014\n",
    "dict_theta = {}\n",
    "for pairs in list(dict_distances.keys()):\n",
    "    dict_theta[(pairs[0],pairs[1])] = dict_inter_school_pub[pairs]\n",
    "    dict_theta[(pairs[1],pairs[0])] = dict_inter_school_pub[pairs]\n",
    "    #if pairs in list(dict_school_pub_edges.keys()):\n",
    "     #   dict_theta[pairs] = dict_inter_school_pub[pairs]\n",
    "    #else:\n",
    "     #   dict_theta[pairs] = 0"
   ]
  },
  {
   "cell_type": "code",
   "execution_count": 580,
   "metadata": {
    "collapsed": false
   },
   "outputs": [],
   "source": [
    "dict_index = {}\n",
    "list_index = []\n",
    "for pairs in list(dict_distances.keys()):\n",
    "    list_index += [dict_distances[pairs] * (1-dict_theta[pairs])]\n",
    "    dict_index[pairs] = dict_distances[pairs] * (1-dict_theta[pairs])"
   ]
  },
  {
   "cell_type": "code",
   "execution_count": 581,
   "metadata": {
    "collapsed": false
   },
   "outputs": [],
   "source": [
    "denominator = sum(list_index)"
   ]
  },
  {
   "cell_type": "code",
   "execution_count": 582,
   "metadata": {
    "collapsed": false
   },
   "outputs": [
    {
     "data": {
      "text/plain": [
       "{('ENAC', 'IC'): 0.19298245614035087,\n",
       " ('ENAC', 'SB'): 0.10526315789473684,\n",
       " ('ENAC', 'STI'): 0.24561403508771928,\n",
       " ('ENAC', 'SV'): 0,\n",
       " ('IC', 'ENAC'): 0.19298245614035087,\n",
       " ('IC', 'SB'): 0,\n",
       " ('IC', 'STI'): 0.03508771929824561,\n",
       " ('IC', 'SV'): 0,\n",
       " ('SB', 'ENAC'): 0.10526315789473684,\n",
       " ('SB', 'IC'): 0,\n",
       " ('SB', 'STI'): 0,\n",
       " ('SB', 'SV'): 0,\n",
       " ('STI', 'ENAC'): 0.24561403508771928,\n",
       " ('STI', 'IC'): 0.03508771929824561,\n",
       " ('STI', 'SB'): 0,\n",
       " ('STI', 'SV'): 0.07017543859649122,\n",
       " ('SV', 'ENAC'): 0,\n",
       " ('SV', 'IC'): 0,\n",
       " ('SV', 'SB'): 0,\n",
       " ('SV', 'STI'): 0.07017543859649122}"
      ]
     },
     "execution_count": 582,
     "metadata": {},
     "output_type": "execute_result"
    }
   ],
   "source": [
    "dict_theta"
   ]
  },
  {
   "cell_type": "code",
   "execution_count": 583,
   "metadata": {
    "collapsed": false
   },
   "outputs": [
    {
     "data": {
      "text/plain": [
       "{('ENAC', 'IC'): 307.7700832285388,\n",
       " ('ENAC', 'SB'): 170.35281947327164,\n",
       " ('ENAC', 'STI'): 167.30369118654087,\n",
       " ('ENAC', 'SV'): 286.6443789785524,\n",
       " ('IC', 'ENAC'): 307.7700832285388,\n",
       " ('IC', 'SB'): 502.7733087585299,\n",
       " ('IC', 'STI'): 155.1349703759561,\n",
       " ('IC', 'SV'): 165.0272704737008,\n",
       " ('SB', 'ENAC'): 170.35281947327164,\n",
       " ('SB', 'IC'): 502.7733087585299,\n",
       " ('SB', 'STI'): 348.9326582594412,\n",
       " ('SB', 'SV'): 453.28247263709636,\n",
       " ('STI', 'ENAC'): 167.30369118654087,\n",
       " ('STI', 'IC'): 155.1349703759561,\n",
       " ('STI', 'SB'): 348.9326582594412,\n",
       " ('STI', 'SV'): 126.4458845170367,\n",
       " ('SV', 'ENAC'): 286.6443789785524,\n",
       " ('SV', 'IC'): 165.0272704737008,\n",
       " ('SV', 'SB'): 453.28247263709636,\n",
       " ('SV', 'STI'): 126.4458845170367}"
      ]
     },
     "execution_count": 583,
     "metadata": {},
     "output_type": "execute_result"
    }
   ],
   "source": [
    "dict_index"
   ]
  },
  {
   "cell_type": "code",
   "execution_count": 584,
   "metadata": {
    "collapsed": true
   },
   "outputs": [],
   "source": [
    "qp_dictionary = {}\n",
    "for school in list_schools:\n",
    "    list_school_score = [dict_index[key] for key in list(dict_distances.keys()) if key[0] == school]\n",
    "    qp_dictionary[school] = sum(list_school_score)/4#/denominator"
   ]
  },
  {
   "cell_type": "code",
   "execution_count": 585,
   "metadata": {
    "collapsed": false
   },
   "outputs": [
    {
     "data": {
      "text/plain": [
       "{'ENAC': 233.01774321672593,\n",
       " 'IC': 282.67640820918143,\n",
       " 'SB': 368.83531478208477,\n",
       " 'STI': 199.45430108474372,\n",
       " 'SV': 257.8500016515966}"
      ]
     },
     "execution_count": 585,
     "metadata": {},
     "output_type": "execute_result"
    }
   ],
   "source": [
    "qp_dictionary"
   ]
  },
  {
   "cell_type": "code",
   "execution_count": 586,
   "metadata": {
    "collapsed": false
   },
   "outputs": [
    {
     "data": {
      "text/plain": [
       "{('ENAC', 'IC'): 0.19298245614035087,\n",
       " ('ENAC', 'SB'): 0.10526315789473684,\n",
       " ('ENAC', 'STI'): 0.24561403508771928,\n",
       " ('ENAC', 'SV'): 0,\n",
       " ('IC', 'ENAC'): 0.19298245614035087,\n",
       " ('IC', 'SB'): 0,\n",
       " ('IC', 'STI'): 0.03508771929824561,\n",
       " ('IC', 'SV'): 0,\n",
       " ('SB', 'ENAC'): 0.10526315789473684,\n",
       " ('SB', 'IC'): 0,\n",
       " ('SB', 'STI'): 0,\n",
       " ('SB', 'SV'): 0,\n",
       " ('STI', 'ENAC'): 0.24561403508771928,\n",
       " ('STI', 'IC'): 0.03508771929824561,\n",
       " ('STI', 'SB'): 0,\n",
       " ('STI', 'SV'): 0.07017543859649122,\n",
       " ('SV', 'ENAC'): 0,\n",
       " ('SV', 'IC'): 0,\n",
       " ('SV', 'SB'): 0,\n",
       " ('SV', 'STI'): 0.07017543859649122}"
      ]
     },
     "execution_count": 586,
     "metadata": {},
     "output_type": "execute_result"
    }
   ],
   "source": [
    "dict_theta"
   ]
  },
  {
   "cell_type": "code",
   "execution_count": 587,
   "metadata": {
    "collapsed": true
   },
   "outputs": [],
   "source": [
    "def gauss(x,p):\n",
    "    \"\"\"Return the gauss function N(x), with mean p[0] and std p[1].\n",
    "    Normalized such that N(x=p[0]) = 1.\n",
    "    \"\"\"\n",
    "    return np.exp((-(x - p[0])**2) / (2 * p[1]**2))\n",
    "\n"
   ]
  },
  {
   "cell_type": "code",
   "execution_count": 588,
   "metadata": {
    "collapsed": false
   },
   "outputs": [
    {
     "data": {
      "text/plain": [
       "{'ENAC': (329, 378),\n",
       " 'IC': (50, 118),\n",
       " 'SB': (284, 563),\n",
       " 'STI': (157, 238),\n",
       " 'SV': (215, 115)}"
      ]
     },
     "execution_count": 588,
     "metadata": {},
     "output_type": "execute_result"
    }
   ],
   "source": [
    "school_center_map"
   ]
  },
  {
   "cell_type": "code",
   "execution_count": 589,
   "metadata": {
    "collapsed": false
   },
   "outputs": [
    {
     "data": {
      "text/plain": [
       "{'ENAC': 233.01774321672593,\n",
       " 'IC': 282.67640820918143,\n",
       " 'SB': 368.83531478208477,\n",
       " 'STI': 199.45430108474372,\n",
       " 'SV': 257.8500016515966}"
      ]
     },
     "execution_count": 589,
     "metadata": {},
     "output_type": "execute_result"
    }
   ],
   "source": [
    "qp_dictionary"
   ]
  },
  {
   "cell_type": "code",
   "execution_count": 608,
   "metadata": {
    "collapsed": false
   },
   "outputs": [],
   "source": [
    "# Create the grid 113 x 202 each patch is 4x4\n",
    "epfl_map =np.zeros((451,807))\n",
    "#x,y center position\n",
    "size_x, size_y = 451,807\n",
    "#score ; score of the center\n",
    "sigma_school = dict_coordinates = {'ENAC': 60, 'IC':40, 'SV':40, 'SB':50, 'STI': 40}\n",
    "#Modify map according to the center score\n",
    "for school in list(school_center_map.keys()):\n",
    "    for i in range(size_x):\n",
    "        for j in range(size_y):\n",
    "            #calculate gaussian distr sigma is space factor\n",
    "            disc = gauss(np.sqrt(((size_x - school_center_map[school][0])-i)**2+((school_center_map[school][1])-j)**2),[0, sigma_school[school]])\n",
    "            epfl_map[i][j] += disc*qp_dictionary[school]"
   ]
  },
  {
   "cell_type": "code",
   "execution_count": 609,
   "metadata": {
    "collapsed": false
   },
   "outputs": [],
   "source": [
    "import matplotlib.pyplot as plt\n",
    "from scipy.interpolate import griddata"
   ]
  },
  {
   "cell_type": "code",
   "execution_count": 610,
   "metadata": {
    "collapsed": false
   },
   "outputs": [
    {
     "data": {
      "image/png": "[encoded data removed]",
      "text/plain": [
       "<matplotlib.figure.Figure at 0x131841438>"
      ]
     },
     "metadata": {},
     "output_type": "display_data"
    }
   ],
   "source": [
    "plt.imshow(epfl_map, interpolation='nearest')\n",
    "plt.colorbar()\n",
    "plt.show()"
   ]
  },
  {
   "cell_type": "markdown",
   "metadata": {},
   "source": [
    "# Create the graph"
   ]
  },
  {
   "cell_type": "code",
   "execution_count": 12,
   "metadata": {
    "collapsed": true
   },
   "outputs": [],
   "source": [
    "import networkx as nx\n",
    "import matplotlib.pyplot as plt\n",
    "%matplotlib inline"
   ]
  },
  {
   "cell_type": "code",
   "execution_count": 13,
   "metadata": {
    "collapsed": true
   },
   "outputs": [],
   "source": [
    "G=nx.Graph()"
   ]
  },
  {
   "cell_type": "code",
   "execution_count": 14,
   "metadata": {
    "collapsed": true
   },
   "outputs": [],
   "source": [
    "G.add_nodes_from(nodes)"
   ]
  },
  {
   "cell_type": "code",
   "execution_count": 15,
   "metadata": {
    "collapsed": true
   },
   "outputs": [],
   "source": [
    "G.add_edges_from(edges)"
   ]
  },
  {
   "cell_type": "code",
   "execution_count": 16,
   "metadata": {
    "collapsed": true
   },
   "outputs": [],
   "source": [
    "# Add weights\n",
    "for i,j in edges:\n",
    "    G[i][j]['weight'] = weigths[(i,j)]"
   ]
  },
  {
   "cell_type": "code",
   "execution_count": 17,
   "metadata": {
    "collapsed": false
   },
   "outputs": [
    {
     "name": "stdout",
     "output_type": "stream",
     "text": [
      "Name: \n",
      "Type: Graph\n",
      "Number of nodes: 209\n",
      "Number of edges: 152\n",
      "Average degree:   1.4545\n"
     ]
    }
   ],
   "source": [
    "print (nx.info(G))"
   ]
  },
  {
   "cell_type": "code",
   "execution_count": 18,
   "metadata": {
    "collapsed": true
   },
   "outputs": [],
   "source": [
    "spring_pos = nx.spring_layout(G)"
   ]
  },
  {
   "cell_type": "code",
   "execution_count": 19,
   "metadata": {
    "collapsed": false
   },
   "outputs": [
    {
     "data": {
      "image/png": "[encoded data removed]",
      "text/plain": [
       "<matplotlib.figure.Figure at 0x11bab2390>"
      ]
     },
     "metadata": {},
     "output_type": "display_data"
    }
   ],
   "source": [
    "plt.axis('off')\n",
    "nx.draw_networkx(G, pos = spring_pos, with_labels=False, node_size=20)"
   ]
  },
  {
   "cell_type": "code",
   "execution_count": 20,
   "metadata": {
    "collapsed": false
   },
   "outputs": [
    {
     "data": {
      "image/png": "[encoded data removed]",
      "text/plain": [
       "<matplotlib.figure.Figure at 0x11bcc9c18>"
      ]
     },
     "metadata": {},
     "output_type": "display_data"
    }
   ],
   "source": [
    "import networkx as nx\n",
    "import matplotlib.pyplot as plt\n",
    "\n",
    "degree_sequence=sorted(nx.degree(G).values(),reverse=True) # degree sequence\n",
    "#print \"Degree sequence\", degree_sequence\n",
    "dmax=max(degree_sequence)\n",
    "\n",
    "plt.loglog(degree_sequence,'b-',marker='o')\n",
    "plt.title(\"Degree rank plot\")\n",
    "plt.ylabel(\"degree\")\n",
    "plt.xlabel(\"rank\")\n",
    "\n",
    "# draw graph in inset\n",
    "plt.axes([0.45,0.45,0.45,0.45])\n",
    "Gcc=sorted(nx.connected_component_subgraphs(G), key = len, reverse=True)[0]\n",
    "pos=nx.spring_layout(Gcc)\n",
    "plt.axis('off')\n",
    "nx.draw_networkx_nodes(Gcc,pos,node_size=20)\n",
    "nx.draw_networkx_edges(Gcc,pos,alpha=0.4)\n",
    "\n",
    "plt.savefig(\"degree_histogram.png\")\n",
    "plt.show()"
   ]
  },
  {
   "cell_type": "code",
   "execution_count": 104,
   "metadata": {
    "collapsed": false
   },
   "outputs": [],
   "source": [
    "betweeness_sequence=nx.degree_centrality(G)"
   ]
  },
  {
   "cell_type": "code",
   "execution_count": 105,
   "metadata": {
    "collapsed": false
   },
   "outputs": [],
   "source": [
    "import operator\n",
    "sorted_x = sorted(betweeness_sequence.items(), key=operator.itemgetter(1), reverse = True)"
   ]
  },
  {
   "cell_type": "code",
   "execution_count": 106,
   "metadata": {
    "collapsed": false
   },
   "outputs": [
    {
     "data": {
      "text/plain": [
       "[(47, 0.13461538461538464),\n",
       " (120, 0.0625),\n",
       " (22, 0.057692307692307696),\n",
       " (71, 0.057692307692307696),\n",
       " (193, 0.05288461538461539),\n",
       " (86, 0.04326923076923077),\n",
       " (140, 0.04326923076923077),\n",
       " (166, 0.04326923076923077),\n",
       " (90, 0.038461538461538464),\n",
       " (94, 0.038461538461538464),\n",
       " (113, 0.03365384615384616),\n",
       " (144, 0.03365384615384616),\n",
       " (146, 0.03365384615384616),\n",
       " (50, 0.028846153846153848),\n",
       " (43, 0.02403846153846154),\n",
       " (54, 0.02403846153846154),\n",
       " (98, 0.02403846153846154),\n",
       " (165, 0.02403846153846154),\n",
       " (177, 0.02403846153846154),\n",
       " (2, 0.019230769230769232)]"
      ]
     },
     "execution_count": 106,
     "metadata": {},
     "output_type": "execute_result"
    }
   ],
   "source": [
    "sorted_x[:20]"
   ]
  },
  {
   "cell_type": "code",
   "execution_count": 107,
   "metadata": {
    "collapsed": false
   },
   "outputs": [],
   "source": [
    "dict_id_lab = {v: k for k, v in dict_lab_id.items()}"
   ]
  },
  {
   "cell_type": "code",
   "execution_count": 109,
   "metadata": {
    "collapsed": false
   },
   "outputs": [
    {
     "data": {
      "text/plain": [
       "'Laboratory of Theory and History of Architecture 3'"
      ]
     },
     "execution_count": 109,
     "metadata": {},
     "output_type": "execute_result"
    }
   ],
   "source": [
    "dict_id_lab[22]"
   ]
  },
  {
   "cell_type": "code",
   "execution_count": null,
   "metadata": {
    "collapsed": true
   },
   "outputs": [],
   "source": [
    "# Number of papers two labs pubilsh together"
   ]
  },
  {
   "cell_type": "markdown",
   "metadata": {},
   "source": []
  },
  {
   "cell_type": "code",
   "execution_count": null,
   "metadata": {
    "collapsed": true
   },
   "outputs": [],
   "source": []
  },
  {
   "cell_type": "code",
   "execution_count": null,
   "metadata": {
    "collapsed": true
   },
   "outputs": [],
   "source": []
  }
 ],
 "metadata": {
  "anaconda-cloud": {},
  "kernelspec": {
   "display_name": "Python [Root]",
   "language": "python",
   "name": "Python [Root]"
  },
  "language_info": {
   "codemirror_mode": {
    "name": "ipython",
    "version": 3
   },
   "file_extension": ".py",
   "mimetype": "text/x-python",
   "name": "python",
   "nbconvert_exporter": "python",
   "pygments_lexer": "ipython3",
   "version": "3.5.2"
  }
 },
 "nbformat": 4,
 "nbformat_minor": 0
}
