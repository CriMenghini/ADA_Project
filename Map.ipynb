{
 "cells": [
  {
   "cell_type": "markdown",
   "metadata": {},
   "source": [
    "# EPFL MAP - YEAR 2016"
   ]
  },
  {
   "cell_type": "code",
   "execution_count": 1,
   "metadata": {
    "collapsed": true
   },
   "outputs": [],
   "source": [
    "import json\n",
    "import pickle\n",
    "import collections\n",
    "from collections import defaultdict\n",
    "from BuildGraphModule import *\n",
    "from UniformData import *\n",
    "from MultiGraph import *\n",
    "from AnalysisModule import *\n",
    "import matplotlib.pyplot as plt\n",
    "%matplotlib inline"
   ]
  },
  {
   "cell_type": "code",
   "execution_count": 2,
   "metadata": {
    "collapsed": true
   },
   "outputs": [],
   "source": [
    "with open('paper.json', 'r') as f:\n",
    "    data = json.load(f)"
   ]
  },
  {
   "cell_type": "code",
   "execution_count": 3,
   "metadata": {
    "collapsed": true
   },
   "outputs": [],
   "source": [
    "# Uniform strings - Authors\n",
    "data = uniform_authors(data)"
   ]
  },
  {
   "cell_type": "code",
   "execution_count": 4,
   "metadata": {
    "collapsed": true
   },
   "outputs": [],
   "source": [
    "# Uniform strings - EPFL Authors\n",
    "data = uniform_epfl_authors(data)"
   ]
  },
  {
   "cell_type": "code",
   "execution_count": 5,
   "metadata": {
    "collapsed": true
   },
   "outputs": [],
   "source": [
    "data_cut = {}\n",
    "for paper in list(data.keys()):\n",
    "    try:\n",
    "        if int(data[paper]['Publication date']) == 2016:\n",
    "            data_cut[paper] = data[paper]\n",
    "    except:\n",
    "        continue"
   ]
  },
  {
   "cell_type": "code",
   "execution_count": 6,
   "metadata": {
    "collapsed": false
   },
   "outputs": [],
   "source": [
    "dict_lab_site, dict_labs, dict_labs_paper = lab_dictionaries(data_cut)"
   ]
  },
  {
   "cell_type": "code",
   "execution_count": 7,
   "metadata": {
    "collapsed": false
   },
   "outputs": [],
   "source": [
    "# Dictionary (lab, id)\n",
    "dict_lab_id = {}\n",
    "for  id_,lab in enumerate(list(dict_labs_paper.keys())):\n",
    "    dict_lab_id[lab] = id_"
   ]
  },
  {
   "cell_type": "code",
   "execution_count": 8,
   "metadata": {
    "collapsed": false
   },
   "outputs": [],
   "source": [
    "# Nodes: labs\n",
    "nodes = []\n",
    "for lab in list(dict_labs_paper.keys()):\n",
    "    nodes += [dict_lab_id[lab]]"
   ]
  },
  {
   "cell_type": "code",
   "execution_count": 9,
   "metadata": {
    "collapsed": false
   },
   "outputs": [],
   "source": [
    "# Define edges of the graph: labs that writes papers together\n",
    "# Dictionary (Lab, dict(lab, publication together))\n",
    "dict_edges = {}\n",
    "for lab in list(dict_labs_paper.keys()):\n",
    "    dict_edges[lab] = defaultdict(list) \n",
    "    for lab_2 in list(dict_labs_paper.keys()):\n",
    "        if lab_2 != lab:\n",
    "            list_intersection = [p for p in dict_labs_paper[lab] if p in dict_labs_paper[lab_2]]\n",
    "            if len(list_intersection) != 0:\n",
    "                dict_edges[lab][lab_2] += list_intersection\n",
    "            #dict_edges[lab_2][lab] += [p for p in dict_labs_paper[lab] if p in dict_labs_paper[lab_2]]"
   ]
  },
  {
   "cell_type": "code",
   "execution_count": 11,
   "metadata": {
    "collapsed": false
   },
   "outputs": [],
   "source": [
    "# Get the list of edges and weigths for the edges\n",
    "edges = []\n",
    "weigths = {}\n",
    "for lab in dict_edges:\n",
    "    if len(dict_edges[lab]) != 0:\n",
    "        for lab_2 in dict_edges[lab]:\n",
    "            edges += sorted([(dict_lab_id[lab], dict_lab_id[lab_2])])\n",
    "            weigths[(dict_lab_id[lab], dict_lab_id[lab_2])] = len(dict_edges[lab][lab_2])"
   ]
  },
  {
   "cell_type": "code",
   "execution_count": null,
   "metadata": {
    "collapsed": true
   },
   "outputs": [],
   "source": [
    "# Which are the laboratories which collaborated most in 2016?"
   ]
  },
  {
   "cell_type": "markdown",
   "metadata": {},
   "source": [
    "# Create the graph"
   ]
  },
  {
   "cell_type": "code",
   "execution_count": 12,
   "metadata": {
    "collapsed": true
   },
   "outputs": [],
   "source": [
    "import networkx as nx\n",
    "import matplotlib.pyplot as plt\n",
    "%matplotlib inline"
   ]
  },
  {
   "cell_type": "code",
   "execution_count": 13,
   "metadata": {
    "collapsed": true
   },
   "outputs": [],
   "source": [
    "G=nx.Graph()"
   ]
  },
  {
   "cell_type": "code",
   "execution_count": 14,
   "metadata": {
    "collapsed": true
   },
   "outputs": [],
   "source": [
    "G.add_nodes_from(nodes)"
   ]
  },
  {
   "cell_type": "code",
   "execution_count": 15,
   "metadata": {
    "collapsed": true
   },
   "outputs": [],
   "source": [
    "G.add_edges_from(edges)"
   ]
  },
  {
   "cell_type": "code",
   "execution_count": 16,
   "metadata": {
    "collapsed": true
   },
   "outputs": [],
   "source": [
    "# Add weights\n",
    "for i,j in edges:\n",
    "    G[i][j]['weight'] = weigths[(i,j)]"
   ]
  },
  {
   "cell_type": "code",
   "execution_count": 17,
   "metadata": {
    "collapsed": false
   },
   "outputs": [
    {
     "name": "stdout",
     "output_type": "stream",
     "text": [
      "Name: \n",
      "Type: Graph\n",
      "Number of nodes: 209\n",
      "Number of edges: 152\n",
      "Average degree:   1.4545\n"
     ]
    }
   ],
   "source": [
    "print (nx.info(G))"
   ]
  },
  {
   "cell_type": "code",
   "execution_count": 18,
   "metadata": {
    "collapsed": true
   },
   "outputs": [],
   "source": [
    "spring_pos = nx.spring_layout(G)"
   ]
  },
  {
   "cell_type": "code",
   "execution_count": 19,
   "metadata": {
    "collapsed": false
   },
   "outputs": [
    {
     "data": {
      "image/png": "[encoded data removed]",
      "text/plain": [
       "<matplotlib.figure.Figure at 0x11bab2390>"
      ]
     },
     "metadata": {},
     "output_type": "display_data"
    }
   ],
   "source": [
    "plt.axis('off')\n",
    "nx.draw_networkx(G, pos = spring_pos, with_labels=False, node_size=20)"
   ]
  },
  {
   "cell_type": "code",
   "execution_count": 20,
   "metadata": {
    "collapsed": false
   },
   "outputs": [
    {
     "data": {
      "image/png": "[encoded data removed]",
      "text/plain": [
       "<matplotlib.figure.Figure at 0x11bcc9c18>"
      ]
     },
     "metadata": {},
     "output_type": "display_data"
    }
   ],
   "source": [
    "import networkx as nx\n",
    "import matplotlib.pyplot as plt\n",
    "\n",
    "degree_sequence=sorted(nx.degree(G).values(),reverse=True) # degree sequence\n",
    "#print \"Degree sequence\", degree_sequence\n",
    "dmax=max(degree_sequence)\n",
    "\n",
    "plt.loglog(degree_sequence,'b-',marker='o')\n",
    "plt.title(\"Degree rank plot\")\n",
    "plt.ylabel(\"degree\")\n",
    "plt.xlabel(\"rank\")\n",
    "\n",
    "# draw graph in inset\n",
    "plt.axes([0.45,0.45,0.45,0.45])\n",
    "Gcc=sorted(nx.connected_component_subgraphs(G), key = len, reverse=True)[0]\n",
    "pos=nx.spring_layout(Gcc)\n",
    "plt.axis('off')\n",
    "nx.draw_networkx_nodes(Gcc,pos,node_size=20)\n",
    "nx.draw_networkx_edges(Gcc,pos,alpha=0.4)\n",
    "\n",
    "plt.savefig(\"degree_histogram.png\")\n",
    "plt.show()"
   ]
  },
  {
   "cell_type": "code",
   "execution_count": 104,
   "metadata": {
    "collapsed": false
   },
   "outputs": [],
   "source": [
    "betweeness_sequence=nx.degree_centrality(G)"
   ]
  },
  {
   "cell_type": "code",
   "execution_count": 105,
   "metadata": {
    "collapsed": false
   },
   "outputs": [],
   "source": [
    "import operator\n",
    "sorted_x = sorted(betweeness_sequence.items(), key=operator.itemgetter(1), reverse = True)"
   ]
  },
  {
   "cell_type": "code",
   "execution_count": 106,
   "metadata": {
    "collapsed": false
   },
   "outputs": [
    {
     "data": {
      "text/plain": [
       "[(47, 0.13461538461538464),\n",
       " (120, 0.0625),\n",
       " (22, 0.057692307692307696),\n",
       " (71, 0.057692307692307696),\n",
       " (193, 0.05288461538461539),\n",
       " (86, 0.04326923076923077),\n",
       " (140, 0.04326923076923077),\n",
       " (166, 0.04326923076923077),\n",
       " (90, 0.038461538461538464),\n",
       " (94, 0.038461538461538464),\n",
       " (113, 0.03365384615384616),\n",
       " (144, 0.03365384615384616),\n",
       " (146, 0.03365384615384616),\n",
       " (50, 0.028846153846153848),\n",
       " (43, 0.02403846153846154),\n",
       " (54, 0.02403846153846154),\n",
       " (98, 0.02403846153846154),\n",
       " (165, 0.02403846153846154),\n",
       " (177, 0.02403846153846154),\n",
       " (2, 0.019230769230769232)]"
      ]
     },
     "execution_count": 106,
     "metadata": {},
     "output_type": "execute_result"
    }
   ],
   "source": [
    "sorted_x[:20]"
   ]
  },
  {
   "cell_type": "code",
   "execution_count": 107,
   "metadata": {
    "collapsed": false
   },
   "outputs": [],
   "source": [
    "dict_id_lab = {v: k for k, v in dict_lab_id.items()}"
   ]
  },
  {
   "cell_type": "code",
   "execution_count": 109,
   "metadata": {
    "collapsed": false
   },
   "outputs": [
    {
     "data": {
      "text/plain": [
       "'Laboratory of Theory and History of Architecture 3'"
      ]
     },
     "execution_count": 109,
     "metadata": {},
     "output_type": "execute_result"
    }
   ],
   "source": [
    "dict_id_lab[22]"
   ]
  },
  {
   "cell_type": "code",
   "execution_count": null,
   "metadata": {
    "collapsed": true
   },
   "outputs": [],
   "source": [
    "# Number of papers two labs pubilsh together"
   ]
  }
 ],
 "metadata": {
  "anaconda-cloud": {},
  "kernelspec": {
   "display_name": "Python [Root]",
   "language": "python",
   "name": "Python [Root]"
  },
  "language_info": {
   "codemirror_mode": {
    "name": "ipython",
    "version": 3
   },
   "file_extension": ".py",
   "mimetype": "text/x-python",
   "name": "python",
   "nbconvert_exporter": "python",
   "pygments_lexer": "ipython3",
   "version": "3.5.2"
  }
 },
 "nbformat": 4,
 "nbformat_minor": 0
}
