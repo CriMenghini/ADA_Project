{
 "cells": [
  {
   "cell_type": "markdown",
   "metadata": {},
   "source": [
    "# EPFL network - School growth over the years "
   ]
  },
  {
   "cell_type": "code",
   "execution_count": 1,
   "metadata": {
    "collapsed": true
   },
   "outputs": [],
   "source": [
    "import json\n",
    "import pickle\n",
    "import collections\n",
    "from collections import defaultdict\n",
    "from BuildGraphModule import *\n",
    "from UniformData import *\n",
    "from MultiGraph import *\n",
    "from AnalysisModule import *\n",
    "import matplotlib.pyplot as plt\n",
    "%matplotlib inline"
   ]
  },
  {
   "cell_type": "code",
   "execution_count": 2,
   "metadata": {
    "collapsed": true
   },
   "outputs": [],
   "source": [
    "with open('paper.json', 'r') as f:\n",
    "    data = json.load(f)"
   ]
  },
  {
   "cell_type": "code",
   "execution_count": 3,
   "metadata": {
    "collapsed": true
   },
   "outputs": [],
   "source": [
    "# Uniform strings - Authors\n",
    "data = uniform_authors(data)"
   ]
  },
  {
   "cell_type": "code",
   "execution_count": 4,
   "metadata": {
    "collapsed": true
   },
   "outputs": [],
   "source": [
    "# Uniform strings - EPFL Authors\n",
    "data = uniform_epfl_authors(data)"
   ]
  },
  {
   "cell_type": "code",
   "execution_count": 5,
   "metadata": {
    "collapsed": true
   },
   "outputs": [],
   "source": [
    "data_cut = {}\n",
    "for paper in list(data.keys()):\n",
    "    try:\n",
    "        if int(data[paper]['Publication date']) >= 1993:\n",
    "            data_cut[paper] = data[paper]\n",
    "    except:\n",
    "        continue"
   ]
  },
  {
   "cell_type": "code",
   "execution_count": 6,
   "metadata": {
    "collapsed": false
   },
   "outputs": [],
   "source": [
    "dict_lab_site, dict_labs, dict_labs_paper = lab_dictionaries(data_cut)"
   ]
  },
  {
   "cell_type": "code",
   "execution_count": 7,
   "metadata": {
    "collapsed": false
   },
   "outputs": [],
   "source": [
    "# Get the list of paper lab and year. Dictionary (lab, dict(year, list of papers))\n",
    "dict_lab_years_pub = {}#defaultdict(list)\n",
    "for lab in dict_labs_paper:\n",
    "    dict_lab_years_pub[lab] = defaultdict(list)\n",
    "    for pub in dict_labs_paper[lab]:\n",
    "        dict_lab_years_pub[lab][data_cut[pub]['Publication date']] += [pub]"
   ]
  },
  {
   "cell_type": "code",
   "execution_count": 8,
   "metadata": {
    "collapsed": true
   },
   "outputs": [],
   "source": [
    "# Dictionary (year, total number of papers)\n",
    "year_papers = defaultdict(list)\n",
    "for lab in list(dict_lab_years_pub.keys()):\n",
    "    for year in list(dict_lab_years_pub[lab].keys()):\n",
    "        year_papers[year] += dict_lab_years_pub[lab][year]\n",
    "for year in list(year_papers.keys()):\n",
    "    year_papers[year] = len(set(year_papers[year]))"
   ]
  },
  {
   "cell_type": "code",
   "execution_count": 9,
   "metadata": {
    "collapsed": false
   },
   "outputs": [],
   "source": [
    "# Get dictionary (lab, dict(year,num of pubblication))\n",
    "dict_author_year = {}\n",
    "#dict_author_num_year = {}\n",
    "for lab in dict_lab_years_pub:\n",
    "    dict_author_year[lab] = defaultdict(list)\n",
    "    for year in list(dict_lab_years_pub[lab].keys()):\n",
    "        try:\n",
    "            dict_author_year[lab][year] += [list(a.keys()) for p in dict_lab_years_pub[lab][year] for a in data_cut[p]['Epfl authors']]\n",
    "        except:\n",
    "            dict_author_year[lab][year] += []\n",
    "            continue\n",
    "    for year in list(dict_lab_years_pub[lab].keys()):\n",
    "        list_authors = [i[0] for i in dict_author_year[lab][year]]\n",
    "        dict_author_year[lab][year] = len(set(list_authors))"
   ]
  },
  {
   "cell_type": "code",
   "execution_count": 10,
   "metadata": {
    "collapsed": false
   },
   "outputs": [],
   "source": [
    "# Dictionary (year, number of authors)\n",
    "year_authors = defaultdict(int)\n",
    "for lab in list(dict_author_year.keys()):\n",
    "    for year in list(dict_author_year[lab].keys()):\n",
    "        year_authors[year] += dict_author_year[lab][year]"
   ]
  },
  {
   "cell_type": "code",
   "execution_count": 11,
   "metadata": {
    "collapsed": false
   },
   "outputs": [],
   "source": [
    "# Get the dictionary (lab, dict(year, number of papers))\n",
    "dict_lab_years = defaultdict(list)\n",
    "for lab in dict_labs_paper:\n",
    "    for pub in dict_labs_paper[lab]:\n",
    "        dict_lab_years[lab] += [data_cut[pub]['Publication date']]\n",
    "    dict_lab_years[lab] = collections.Counter(dict_lab_years[lab])\n",
    "    #dict_lab_years[lab]['Total'] = sum(list(dict_lab_years[lab].values()))"
   ]
  },
  {
   "cell_type": "code",
   "execution_count": 12,
   "metadata": {
    "collapsed": true
   },
   "outputs": [],
   "source": [
    "list_schools = ['ENAC', 'SB', 'IC', 'STI', 'SV']\n",
    "dict_school_pub = {}\n",
    "dict_school_authors = {}"
   ]
  },
  {
   "cell_type": "code",
   "execution_count": 13,
   "metadata": {
    "collapsed": false
   },
   "outputs": [],
   "source": [
    "# Dictionary (School, dict(year, number of publication))\n",
    "for school in list_schools:\n",
    "    sc_labs = school_lab(dict_lab_site, school)\n",
    "    dict_school_pub = school_publication(sc_labs, school, dict_lab_years, dict_school_pub)"
   ]
  },
  {
   "cell_type": "code",
   "execution_count": 14,
   "metadata": {
    "collapsed": false
   },
   "outputs": [],
   "source": [
    "# Dictionary (School, dict(year, number of authors))\n",
    "for school in list_schools:\n",
    "    sc_labs = school_lab(dict_lab_site, school)\n",
    "    dict_school_authors = school_author(sc_labs, school, dict_author_year, dict_school_authors)"
   ]
  },
  {
   "cell_type": "code",
   "execution_count": 15,
   "metadata": {
    "collapsed": true
   },
   "outputs": [],
   "source": [
    "# Compute the ratio between number of total paper each year/number of authors @TODO: SHOULD BE NORMALIZED TO MAKE VALUES\n",
    "# COMPARABLE\n",
    "ratio_productivity = {}\n",
    "for school in list_schools:\n",
    "    ratio_productivity[school] = {}\n",
    "    for year in list(dict_school_authors[school].keys()):\n",
    "        try:\n",
    "            ratio_productivity[school][year] = (dict_school_pub[school][year]/year_papers[year])/(dict_school_authors[school][year]/year_authors[year])\n",
    "        except:\n",
    "            continue            "
   ]
  },
  {
   "cell_type": "code",
   "execution_count": 16,
   "metadata": {
    "collapsed": false
   },
   "outputs": [
    {
     "data": {
      "text/plain": [
       "{'ENAC': {'1993': 0.9074406901509704,\n",
       "  '1994': 1.2202844894777862,\n",
       "  '1995': 1.1372172721041809,\n",
       "  '1996': 0.9318921993884662,\n",
       "  '1997': 1.4297742614502431,\n",
       "  '1998': 1.179125230080644,\n",
       "  '1999': 1.27884915245712,\n",
       "  '2000': 1.7356942839594849,\n",
       "  '2001': 1.710595025422564,\n",
       "  '2002': 1.926621999830379,\n",
       "  '2003': 1.8654206894177983,\n",
       "  '2004': 2.126692319187089,\n",
       "  '2005': 2.902125455016428,\n",
       "  '2006': 3.2510113519091846,\n",
       "  '2007': 3.2290865384615386,\n",
       "  '2008': 2.9635456372582993,\n",
       "  '2009': 3.4509256522840497,\n",
       "  '2010': 2.3904087282201596,\n",
       "  '2011': 1.971170622528744,\n",
       "  '2012': 2.397078049618836,\n",
       "  '2013': 2.6743665449461185,\n",
       "  '2014': 2.279559520938831,\n",
       "  '2015': 3.2763583564023238,\n",
       "  '2016': 5.010766129032258},\n",
       " 'IC': {'1993': 0.8172897196261681,\n",
       "  '1994': 1.0933749025720967,\n",
       "  '1995': 0.9787525702535983,\n",
       "  '1996': 1.246594222104426,\n",
       "  '1997': 1.6218697829716193,\n",
       "  '1998': 1.7331657542125554,\n",
       "  '1999': 1.8180360645842764,\n",
       "  '2000': 1.2020855682827514,\n",
       "  '2001': 0.907943666429306,\n",
       "  '2002': 1.4191725936975306,\n",
       "  '2003': 1.7364654860860138,\n",
       "  '2004': 1.9695812163777644,\n",
       "  '2005': 1.8038233650083846,\n",
       "  '2006': 1.2926951999437768,\n",
       "  '2007': 1.2164634146341464,\n",
       "  '2008': 0.8952787449923246,\n",
       "  '2009': 0.7758332501746333,\n",
       "  '2010': 1.0080256821829854,\n",
       "  '2011': 0.6602724150800379,\n",
       "  '2012': 0.8899901334839526,\n",
       "  '2013': 0.6817395874392328,\n",
       "  '2014': 0.7434140424856605,\n",
       "  '2015': 0.5969580450803956,\n",
       "  '2016': 0.6570060483870968},\n",
       " 'SB': {'1993': 0.9173030707610147,\n",
       "  '1994': 0.9675884093558377,\n",
       "  '1995': 1.1366994136014013,\n",
       "  '1996': 0.8451689730218043,\n",
       "  '1997': 1.0471763283633642,\n",
       "  '1998': 0.9183623823506234,\n",
       "  '1999': 0.9149972456598688,\n",
       "  '2000': 0.9271107609135778,\n",
       "  '2001': 0.9028140411952422,\n",
       "  '2002': 0.856577482896308,\n",
       "  '2003': 0.8966734880380463,\n",
       "  '2004': 0.6532884463123899,\n",
       "  '2005': 0.7096293064663458,\n",
       "  '2006': 0.754764572495665,\n",
       "  '2007': 0.8699384973404256,\n",
       "  '2008': 0.7700130780540505,\n",
       "  '2009': 0.9073140919375434,\n",
       "  '2010': 0.850667912622155,\n",
       "  '2011': 0.9991414320368504,\n",
       "  '2012': 1.1568177432602968,\n",
       "  '2013': 1.0891409293001215,\n",
       "  '2014': 1.0397015375989302,\n",
       "  '2015': 0.7880005066131104,\n",
       "  '2016': 0.5034920137801441},\n",
       " 'STI': {'1993': 1.0045393858477971,\n",
       "  '1994': 1.610775526110678,\n",
       "  '1995': 1.222974640164496,\n",
       "  '1996': 1.5138483965014577,\n",
       "  '1997': 1.238988057018107,\n",
       "  '1998': 1.0611628286787522,\n",
       "  '1999': 1.050995528658677,\n",
       "  '2000': 0.9287878787878789,\n",
       "  '2001': 1.122577985433558,\n",
       "  '2002': 0.9023080955049072,\n",
       "  '2003': 0.9053001507919693,\n",
       "  '2004': 1.206010264443391,\n",
       "  '2005': 0.9198058181641432,\n",
       "  '2006': 0.9084799143829072,\n",
       "  '2007': 0.797164351851852,\n",
       "  '2008': 0.7885464808909051,\n",
       "  '2009': 0.8050681309634383,\n",
       "  '2010': 0.772353011117056,\n",
       "  '2011': 0.9460353758270846,\n",
       "  '2012': 0.9144721042036915,\n",
       "  '2013': 0.7344552792582818,\n",
       "  '2014': 0.8209128036714244,\n",
       "  '2015': 0.8400409083423402,\n",
       "  '2016': 0.794247311827957,\n",
       "  '2017': 1.0},\n",
       " 'SV': {'1993': 0.7844372206420155,\n",
       "  '1994': 0.7609568918999939,\n",
       "  '1995': 0.6325271712523255,\n",
       "  '1996': 0.9214436513521664,\n",
       "  '1997': 0.8351697273233167,\n",
       "  '1998': 0.7543483586477217,\n",
       "  '1999': 0.6003539240297955,\n",
       "  '2000': 0.6367984924987317,\n",
       "  '2001': 0.7574456786299066,\n",
       "  '2002': 0.7102302776059735,\n",
       "  '2003': 1.0122253654524382,\n",
       "  '2004': 0.7570194300618689,\n",
       "  '2005': 0.76913778647289,\n",
       "  '2006': 0.6325986026594547,\n",
       "  '2007': 0.5804418103448277,\n",
       "  '2008': 0.5694005542320969,\n",
       "  '2009': 0.6198802826564215,\n",
       "  '2010': 0.5727418648766963,\n",
       "  '2011': 0.7523488939853517,\n",
       "  '2012': 0.4844111214164094,\n",
       "  '2013': 0.6202535803442386,\n",
       "  '2014': 0.41791924550545234,\n",
       "  '2015': 0.6030265504822713,\n",
       "  '2016': 0.4765483870967742}}"
      ]
     },
     "execution_count": 16,
     "metadata": {},
     "output_type": "execute_result"
    }
   ],
   "source": [
    "ratio_productivity"
   ]
  },
  {
   "cell_type": "code",
   "execution_count": 17,
   "metadata": {
    "collapsed": false
   },
   "outputs": [
    {
     "data": {
      "text/plain": [
       "<Container object of 24 artists>"
      ]
     },
     "execution_count": 17,
     "metadata": {},
     "output_type": "execute_result"
    },
    {
     "data": {
      "image/png": "[encoded data removed]",
      "text/plain": [
       "<matplotlib.figure.Figure at 0x11b8a2048>"
      ]
     },
     "metadata": {},
     "output_type": "display_data"
    }
   ],
   "source": [
    "plt.bar(dict_school_pub['IC'].keys(), dict_school_pub['IC'].values(), 0.5, color='violet')"
   ]
  },
  {
   "cell_type": "code",
   "execution_count": 18,
   "metadata": {
    "collapsed": false
   },
   "outputs": [
    {
     "data": {
      "text/plain": [
       "dict_keys(['2012', '2003', '2005', '2013', '2007', '2010', '2016', '2004', '2014', '1994', '2009', '2015', '1998', '2000', '2001', '1995', '2008', '2011', '2006', '2002', '1997', '1993', '1999', '1996'])"
      ]
     },
     "execution_count": 18,
     "metadata": {},
     "output_type": "execute_result"
    }
   ],
   "source": [
    "dict_school_pub['SB'].keys()"
   ]
  },
  {
   "cell_type": "code",
   "execution_count": 19,
   "metadata": {
    "collapsed": false
   },
   "outputs": [
    {
     "data": {
      "text/plain": [
       "<Container object of 24 artists>"
      ]
     },
     "execution_count": 19,
     "metadata": {},
     "output_type": "execute_result"
    },
    {
     "data": {
      "image/png": "[encoded data removed]",
      "text/plain": [
       "<matplotlib.figure.Figure at 0x11ba5b208>"
      ]
     },
     "metadata": {},
     "output_type": "display_data"
    }
   ],
   "source": [
    "plt.bar(ratio_productivity['IC'].keys(), ratio_productivity['IC'].values(), 0.5, color='violet')\n"
   ]
  },
  {
   "cell_type": "code",
   "execution_count": 20,
   "metadata": {
    "collapsed": false
   },
   "outputs": [
    {
     "data": {
      "text/plain": [
       "<Container object of 25 artists>"
      ]
     },
     "execution_count": 20,
     "metadata": {},
     "output_type": "execute_result"
    },
    {
     "data": {
      "image/png": "[encoded data removed]",
      "text/plain": [
       "<matplotlib.figure.Figure at 0x11baf8f98>"
      ]
     },
     "metadata": {},
     "output_type": "display_data"
    }
   ],
   "source": [
    "plt.bar(ratio_productivity['STI'].keys(), ratio_productivity['STI'].values(), 0.5, color='r')\n",
    "\n"
   ]
  },
  {
   "cell_type": "code",
   "execution_count": null,
   "metadata": {
    "collapsed": true
   },
   "outputs": [],
   "source": []
  },
  {
   "cell_type": "code",
   "execution_count": null,
   "metadata": {
    "collapsed": true
   },
   "outputs": [],
   "source": []
  },
  {
   "cell_type": "code",
   "execution_count": null,
   "metadata": {
    "collapsed": true
   },
   "outputs": [],
   "source": []
  },
  {
   "cell_type": "code",
   "execution_count": null,
   "metadata": {
    "collapsed": true
   },
   "outputs": [],
   "source": []
  },
  {
   "cell_type": "code",
   "execution_count": null,
   "metadata": {
    "collapsed": true
   },
   "outputs": [],
   "source": []
  }
 ],
 "metadata": {
  "kernelspec": {
   "display_name": "Python [Root]",
   "language": "python",
   "name": "Python [Root]"
  },
  "language_info": {
   "codemirror_mode": {
    "name": "ipython",
    "version": 3
   },
   "file_extension": ".py",
   "mimetype": "text/x-python",
   "name": "python",
   "nbconvert_exporter": "python",
   "pygments_lexer": "ipython3",
   "version": "3.5.2"
  }
 },
 "nbformat": 4,
 "nbformat_minor": 0
}
