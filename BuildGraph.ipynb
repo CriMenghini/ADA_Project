{
 "cells": [
  {
   "cell_type": "code",
   "execution_count": 1,
   "metadata": {
    "collapsed": true
   },
   "outputs": [],
   "source": [
    "import json\n",
    "from BuildGraphModule import *\n",
    "from unidecode import unidecode"
   ]
  },
  {
   "cell_type": "code",
   "execution_count": 2,
   "metadata": {
    "collapsed": false
   },
   "outputs": [],
   "source": [
    "with open('paper.json', 'r') as f:\n",
    "    data = json.load(f)"
   ]
  },
  {
   "cell_type": "code",
   "execution_count": 3,
   "metadata": {
    "collapsed": true
   },
   "outputs": [],
   "source": [
    "# Uniform strings - Authors\n",
    "for i in list(data.keys()):\n",
    "    try:\n",
    "        for j in range(len(data[i]['Authors'])):\n",
    "            t = unidecode(data[i]['Authors'][j])\n",
    "            t.encode(\"ascii\")\n",
    "            data[i]['Authors'][j] = t.lower().replace('.','')\n",
    "            \n",
    "    except:\n",
    "        continue"
   ]
  },
  {
   "cell_type": "code",
   "execution_count": 4,
   "metadata": {
    "collapsed": false
   },
   "outputs": [],
   "source": [
    "# Uniform strings - EPFL Authors\n",
    "for i in list(data.keys()):\n",
    "    dic = []\n",
    "    try:\n",
    "        for j in range(len(data[i]['Epfl authors'])):\n",
    "            string = list(data[i]['Epfl authors'][j].keys())[0]\n",
    "            t = unidecode(string)\n",
    "            t.encode(\"ascii\")\n",
    "            dic += [{t.lower().replace('.','') : list(data[i]['Epfl authors'][j].values())[0]}]\n",
    "        data[i]['Epfl authors'] = dic\n",
    "    except:\n",
    "        continue"
   ]
  },
  {
   "cell_type": "code",
   "execution_count": 5,
   "metadata": {
    "collapsed": true
   },
   "outputs": [],
   "source": [
    "authors = get_authors(data, 'Authors')"
   ]
  },
  {
   "cell_type": "code",
   "execution_count": 4,
   "metadata": {
    "collapsed": false
   },
   "outputs": [],
   "source": [
    "# All\n",
    "dictionary_a_id, dictionary_id_a = create_authors_id(authors, 'all')"
   ]
  },
  {
   "cell_type": "code",
   "execution_count": 5,
   "metadata": {
    "collapsed": false
   },
   "outputs": [],
   "source": [
    "# All\n",
    "dict_authors = list_coauthors(data)"
   ]
  },
  {
   "cell_type": "code",
   "execution_count": null,
   "metadata": {
    "collapsed": false
   },
   "outputs": [],
   "source": [
    "# All\n",
    "dict_numb_coll = number_collaborations(dict_authors)"
   ]
  },
  {
   "cell_type": "code",
   "execution_count": null,
   "metadata": {
    "collapsed": true
   },
   "outputs": [],
   "source": [
    "# All\n",
    "dict_authors_set = set_coauthors(dict_authors)"
   ]
  },
  {
   "cell_type": "code",
   "execution_count": null,
   "metadata": {
    "collapsed": false
   },
   "outputs": [],
   "source": [
    "# All\n",
    "edges = create_edges(dict_authors_set, dictionary_a_id)"
   ]
  },
  {
   "cell_type": "markdown",
   "metadata": {},
   "source": [
    "## EPFL graph: Multiplegraph"
   ]
  },
  {
   "cell_type": "code",
   "execution_count": 5,
   "metadata": {
    "collapsed": false
   },
   "outputs": [],
   "source": [
    "authors_epfl = get_authors(data, 'Epfl authors')\n",
    "# Due to the format which the authors have been saved\n",
    "\n",
    "# We initialize a new list\n",
    "epfl_authors = []\n",
    "\n",
    "# Then for each element in the previous list\n",
    "for i in authors_epfl:\n",
    "    # We unpack the content\n",
    "    epfl_authors += list(i.keys())"
   ]
  },
  {
   "cell_type": "code",
   "execution_count": 6,
   "metadata": {
    "collapsed": true
   },
   "outputs": [],
   "source": [
    "# Id-Author / Author-ID\n",
    "dictionary_a_id_epfl, dictionary_id_a_epfl = create_authors_id(epfl_authors, 'epfl')"
   ]
  },
  {
   "cell_type": "code",
   "execution_count": 7,
   "metadata": {
    "collapsed": true
   },
   "outputs": [],
   "source": [
    "# EPFL - COAUTORI NELLA LISTA DI EPFL AUTHORS\n",
    "dict_authors_epfl = list_coauthors_epfl(data)"
   ]
  },
  {
   "cell_type": "code",
   "execution_count": 8,
   "metadata": {
    "collapsed": true
   },
   "outputs": [],
   "source": [
    "# Number of collaborations\n",
    "dict_numb_coll_epfl = number_collaborations(dict_authors_epfl)"
   ]
  },
  {
   "cell_type": "code",
   "execution_count": 9,
   "metadata": {
    "collapsed": true
   },
   "outputs": [],
   "source": [
    "# Coauthors set\n",
    "dict_authors_set_epfl = set_coauthors(dict_authors_epfl)"
   ]
  },
  {
   "cell_type": "code",
   "execution_count": 10,
   "metadata": {
    "collapsed": true
   },
   "outputs": [],
   "source": [
    "# Set of edges\n",
    "edges_epfl = create_edges(dict_authors_set_epfl, dictionary_a_id_epfl)"
   ]
  },
  {
   "cell_type": "code",
   "execution_count": 11,
   "metadata": {
    "collapsed": false
   },
   "outputs": [
    {
     "name": "stdout",
     "output_type": "stream",
     "text": [
      "Name: \n",
      "Type: Graph\n",
      "Number of nodes: 13451\n",
      "Number of edges: 45417\n",
      "Average degree:   6.7530\n"
     ]
    }
   ],
   "source": [
    "G = create_simple_graph(dictionary_id_a_epfl, edges_epfl)"
   ]
  },
  {
   "cell_type": "code",
   "execution_count": 15,
   "metadata": {
    "collapsed": true
   },
   "outputs": [],
   "source": [
    "# Initialize the dictionary\n",
    "dict_authors_epfl = defaultdict(list)\n",
    "\n",
    "# For each pubblication\n",
    "for p in list(data.keys()):\n",
    "    # If present\n",
    "    try:\n",
    "        # Extracte the list of epfl authors\n",
    "        list_authors_raw = data[p]['Epfl authors']\n",
    "        # Unpack the list\n",
    "        list_authors_list = [list(i.keys()) for i in list_authors_raw]\n",
    "\n",
    "        # Whether the list of authors contains more than one element\n",
    "        if len(list_authors_list) > 1:\n",
    "            # Get the final list unpacking elements\n",
    "            list_authors = [i[0] for i in list_authors_list]\n",
    "        else:\n",
    "            # Just get the element as the list\n",
    "            list_authors = list_authors_list[0]\n",
    "\n",
    "        # For each author create an instance in the dictionary\n",
    "        for a in list_authors:\n",
    "            dict_authors_epfl[a] += [{j:p} for j in list_authors if j != a]\n",
    "\n",
    "    # If there re not epfl authors continue the loop\n",
    "    except:\n",
    "        continue"
   ]
  },
  {
   "cell_type": "code",
   "execution_count": 55,
   "metadata": {
    "collapsed": false
   },
   "outputs": [
    {
     "data": {
      "text/plain": [
       "[{'sae-tang abson': '182133'},\n",
       " {'mcdowell lucas kelsey': '182133'},\n",
       " {'aberer karl': '182133'},\n",
       " {'tran le hung': '182131'},\n",
       " {'mcdowell lucas kelsey': '182131'},\n",
       " {'aberer karl': '182131'},\n",
       " {'bonvin nicolas': '146811'},\n",
       " {'aberer karl': '205653'},\n",
       " {'cudre-mauroux philippe': '205653'},\n",
       " {'aberer karl': '202024'},\n",
       " {'christodoulou georgios': '202024'},\n",
       " {'gavrilovic ivan': '202024'},\n",
       " {'hrisafov filip': '202024'},\n",
       " {'monney mathieu': '202024'},\n",
       " {'ouaazki abdessalam': '202024'},\n",
       " {'perovic boris': '202024'},\n",
       " {'ranvier jean-eudes marie': '202024'},\n",
       " {'vasirani matteo': '202024'},\n",
       " {'yan zhixian': '202024'},\n",
       " {'jeung ho young': '169190'},\n",
       " {'miklos zoltan': '169190'},\n",
       " {'aberer karl': '169190'},\n",
       " {'yerva surender reddy': '188836'},\n",
       " {'aberer karl': '188836'},\n",
       " {'vasirani matteo': '208793'},\n",
       " {'aberer karl': '208793'},\n",
       " {'aberer karl': '196181'},\n",
       " {'radu horia': '196181'},\n",
       " {'ranvier jean-eudes marie': '196181'},\n",
       " {'vasirani matteo': '196181'},\n",
       " {'yan zhixian': '196181'},\n",
       " {'aberer karl': '208930'},\n",
       " {'cudre-mauroux philippe': '208930'},\n",
       " {'aberer karl': '219430'},\n",
       " {'cudre-mauroux philippe': '219430'},\n",
       " {'cudre-mauroux philippe': '196256'},\n",
       " {'aberer karl': '196256'},\n",
       " {'aberer karl': '200388'},\n",
       " {'cudre-mauroux philippe': '200388'}]"
      ]
     },
     "execution_count": 55,
     "metadata": {},
     "output_type": "execute_result"
    }
   ],
   "source": [
    "dict_authors_epfl['catasta michele']"
   ]
  },
  {
   "cell_type": "code",
   "execution_count": 17,
   "metadata": {
    "collapsed": false
   },
   "outputs": [],
   "source": [
    "dict_coautorship_papers = {}\n",
    "for author in list(dict_authors_epfl.keys()):\n",
    "    \n",
    "    dict_papers = defaultdict(list)\n",
    "    for i in range(len(dict_authors_epfl[author])):\n",
    "\n",
    "        coauthor = list(dict_authors_epfl[author][i].keys())[0]\n",
    "\n",
    "        dict_papers[coauthor] += [(dict_authors_epfl[author][i])[coauthor]]\n",
    "\n",
    "    dict_coautorship_papers[author] = dict_papers"
   ]
  },
  {
   "cell_type": "code",
   "execution_count": 88,
   "metadata": {
    "collapsed": false
   },
   "outputs": [],
   "source": [
    "dictionary = {}\n",
    "dictionary_occ = {}\n",
    "for i in list(dict_coautorship_papers.keys()):\n",
    "    dictionary[i] = {}\n",
    "    dictionary_occ[i] = {}\n",
    "    for j in list(dict_coautorship_papers[i].keys()):\n",
    "        dates = defaultdict(list)\n",
    "        for l in range(len(dict_coautorship_papers[i][j])):\n",
    "            try:\n",
    "                dates[data[sorted(dict_coautorship_papers[i][j])[l]]['Publication date']] += [sorted(dict_coautorship_papers[i][j])[l]]\n",
    "            except:\n",
    "                continue\n",
    "        if len(dates) != 0:\n",
    "            dictionary[i][j] = dates\n",
    "            dictionary_occurences = {}\n",
    "            for k,m in dictionary[i][j].items():\n",
    "                dictionary_occurences[k] = len(m)\n",
    "            dictionary_occ[i][j] = dictionary_occurences"
   ]
  },
  {
   "cell_type": "code",
   "execution_count": null,
   "metadata": {
    "collapsed": true
   },
   "outputs": [],
   "source": [
    "# Define an epty set of edges\n",
    "edges = set()\n",
    "\n",
    "# For each author\n",
    "for key in list(dict_authors_set.keys()):       \n",
    "    # If the list of co-authors is not empty\n",
    "    if len(dict_authors_set[key]) != 0:\n",
    "        # Create sorted tuples between the author and his coauthors\n",
    "        new_edges = [tuple(sorted((dictionary_a_id[key], dictionary_a_id[co]))) for co in dict_authors_set[key]]\n",
    "\n",
    "        # Update the set in order to not have the double arches\n",
    "        edges.update(new_edges)"
   ]
  },
  {
   "cell_type": "code",
   "execution_count": 90,
   "metadata": {
    "collapsed": false
   },
   "outputs": [
    {
     "data": {
      "text/plain": [
       "{'aberer karl': defaultdict(list,\n",
       "             {'2012': ['182131', '182133'],\n",
       "              '2013': ['188836', '196256'],\n",
       "              '2014': ['202024'],\n",
       "              '2015': ['208793']}),\n",
       " 'christodoulou georgios': defaultdict(list, {'2014': ['202024']}),\n",
       " 'cudre-mauroux philippe': defaultdict(list, {'2013': ['196256']}),\n",
       " 'gavrilovic ivan': defaultdict(list, {'2014': ['202024']}),\n",
       " 'hrisafov filip': defaultdict(list, {'2014': ['202024']}),\n",
       " 'mcdowell lucas kelsey': defaultdict(list, {'2012': ['182131', '182133']}),\n",
       " 'monney mathieu': defaultdict(list, {'2014': ['202024']}),\n",
       " 'ouaazki abdessalam': defaultdict(list, {'2014': ['202024']}),\n",
       " 'perovic boris': defaultdict(list, {'2014': ['202024']}),\n",
       " 'ranvier jean-eudes marie': defaultdict(list, {'2014': ['202024']}),\n",
       " 'sae-tang abson': defaultdict(list, {'2012': ['182133']}),\n",
       " 'tran le hung': defaultdict(list, {'2012': ['182131']}),\n",
       " 'vasirani matteo': defaultdict(list,\n",
       "             {'2014': ['202024'], '2015': ['208793']}),\n",
       " 'yan zhixian': defaultdict(list, {'2014': ['202024']}),\n",
       " 'yerva surender reddy': defaultdict(list, {'2013': ['188836']})}"
      ]
     },
     "execution_count": 90,
     "metadata": {},
     "output_type": "execute_result"
    }
   ],
   "source": [
    "dictionary['catasta michele']"
   ]
  },
  {
   "cell_type": "code",
   "execution_count": 108,
   "metadata": {
    "collapsed": false
   },
   "outputs": [
    {
     "data": {
      "text/plain": [
       "{'aberer karl': {'2012': 2, '2013': 2, '2014': 1, '2015': 1},\n",
       " 'christodoulou georgios': {'2014': 1},\n",
       " 'cudre-mauroux philippe': {'2013': 1},\n",
       " 'gavrilovic ivan': {'2014': 1},\n",
       " 'hrisafov filip': {'2014': 1},\n",
       " 'mcdowell lucas kelsey': {'2012': 2},\n",
       " 'monney mathieu': {'2014': 1},\n",
       " 'ouaazki abdessalam': {'2014': 1},\n",
       " 'perovic boris': {'2014': 1},\n",
       " 'ranvier jean-eudes marie': {'2014': 1},\n",
       " 'sae-tang abson': {'2012': 1},\n",
       " 'tran le hung': {'2012': 1},\n",
       " 'vasirani matteo': {'2014': 1, '2015': 1},\n",
       " 'yan zhixian': {'2014': 1},\n",
       " 'yerva surender reddy': {'2013': 1}}"
      ]
     },
     "execution_count": 108,
     "metadata": {},
     "output_type": "execute_result"
    }
   ],
   "source": [
    "dictionary_occ['catasta michele']"
   ]
  },
  {
   "cell_type": "code",
   "execution_count": 233,
   "metadata": {
    "collapsed": true
   },
   "outputs": [],
   "source": [
    "G_epfl = nx.MultiGraph()"
   ]
  },
  {
   "cell_type": "code",
   "execution_count": 234,
   "metadata": {
    "collapsed": true
   },
   "outputs": [],
   "source": [
    "G_epfl.add_nodes_from(list(dictionary_id_a_epfl.keys()))"
   ]
  },
  {
   "cell_type": "code",
   "execution_count": 235,
   "metadata": {
    "collapsed": true
   },
   "outputs": [],
   "source": [
    "G_epfl.add_edges_from(list(edges_epfl))"
   ]
  },
  {
   "cell_type": "code",
   "execution_count": 236,
   "metadata": {
    "collapsed": false
   },
   "outputs": [],
   "source": [
    "new_edges = []\n",
    "to_remove = []\n",
    "for i,j in list(edges_epfl):\n",
    "    \n",
    "    try:    \n",
    "        for k in list(dictionary_occ[dictionary_id_a_epfl[i]][dictionary_id_a_epfl[j]].keys()):\n",
    "        #print (list(dictionary_occ[dictionary_id_a_epfl[i]][dictionary_id_a_epfl[j]].keys()))\n",
    "        #print (i,j)\n",
    "            new_edges += [(i, j, dict(year = k))]\n",
    "            to_remove += [(i,j)]\n",
    "    except:\n",
    "        continue"
   ]
  },
  {
   "cell_type": "code",
   "execution_count": 237,
   "metadata": {
    "collapsed": true
   },
   "outputs": [],
   "source": [
    "G_epfl.add_edges_from(new_edges)\n",
    "#G_epfl.remove_edges_from(set(to_remove))"
   ]
  },
  {
   "cell_type": "code",
   "execution_count": 238,
   "metadata": {
    "collapsed": false
   },
   "outputs": [
    {
     "data": {
      "text/plain": [
       "{'2012': 1, '2014': 1, '2016': 1}"
      ]
     },
     "execution_count": 238,
     "metadata": {},
     "output_type": "execute_result"
    }
   ],
   "source": [
    "dictionary_occ[dictionary_id_a_epfl[7884]]['agir berker']"
   ]
  },
  {
   "cell_type": "code",
   "execution_count": 239,
   "metadata": {
    "collapsed": false
   },
   "outputs": [
    {
     "data": {
      "text/plain": [
       "9818"
      ]
     },
     "execution_count": 239,
     "metadata": {},
     "output_type": "execute_result"
    }
   ],
   "source": [
    "dictionary_a_id_epfl['agir berker']"
   ]
  },
  {
   "cell_type": "code",
   "execution_count": 240,
   "metadata": {
    "collapsed": false
   },
   "outputs": [],
   "source": [
    "for i,j in G_epfl.edges():\n",
    "    for k in G_epfl[i][j]:\n",
    "        #print (k)\n",
    "        if k == 0:\n",
    "            G_epfl[i][j][k]['weight'] = dict_numb_coll_epfl[dictionary_id_a_epfl[i]][dictionary_id_a_epfl[j]]\n",
    "        else:\n",
    "            #print (G_epfl[i][j][k]['year'])\n",
    "            G_epfl[i][j][k]['weight'] = dictionary_occ[dictionary_id_a_epfl[i]][dictionary_id_a_epfl[j]][G_epfl[i][j][k]['year']]\n",
    "    "
   ]
  },
  {
   "cell_type": "code",
   "execution_count": 241,
   "metadata": {
    "collapsed": false
   },
   "outputs": [
    {
     "data": {
      "text/plain": [
       "{195: {0: {'weight': 1}, 1: {'weight': 1, 'year': '2007'}},\n",
       " 213: {0: {'weight': 12},\n",
       "  1: {'weight': 2, 'year': '2012'},\n",
       "  2: {'weight': 2, 'year': '2013'},\n",
       "  3: {'weight': 1, 'year': '2014'},\n",
       "  4: {'weight': 1, 'year': '2015'}},\n",
       " 660: {0: {'weight': 1}, 1: {'weight': 1, 'year': '2013'}},\n",
       " 710: {0: {'weight': 53},\n",
       "  1: {'weight': 1, 'year': '2008'},\n",
       "  2: {'weight': 11, 'year': '2003'},\n",
       "  3: {'weight': 6, 'year': '2002'},\n",
       "  4: {'weight': 1, 'year': '2001'},\n",
       "  5: {'weight': 7, 'year': '2006'},\n",
       "  6: {'weight': 5, 'year': '2004'},\n",
       "  7: {'weight': 12, 'year': '2005'},\n",
       "  8: {'weight': 1, 'year': '2007'}},\n",
       " 739: {0: {'weight': 1}, 1: {'weight': 1, 'year': '2013'}},\n",
       " 974: {0: {'weight': 1}},\n",
       " 1182: {0: {'weight': 1}, 1: {'weight': 1, 'year': '2014'}},\n",
       " 1227: {0: {'weight': 4}, 1: {'weight': 2, 'year': '2007'}},\n",
       " 1264: {0: {'weight': 13},\n",
       "  1: {'weight': 2, 'year': '2005'},\n",
       "  2: {'weight': 5, 'year': '2003'},\n",
       "  3: {'weight': 5, 'year': '2004'}},\n",
       " 1286: {0: {'weight': 1}, 1: {'weight': 1, 'year': '2014'}},\n",
       " 1603: {0: {'weight': 1}, 1: {'weight': 1, 'year': '2014'}},\n",
       " 1736: {0: {'weight': 14},\n",
       "  1: {'weight': 1, 'year': '2011'},\n",
       "  2: {'weight': 1, 'year': '2010'},\n",
       "  3: {'weight': 2, 'year': '2013'},\n",
       "  4: {'weight': 4, 'year': '2012'}},\n",
       " 1756: {0: {'weight': 9},\n",
       "  1: {'weight': 1, 'year': '2006'},\n",
       "  2: {'weight': 1, 'year': '2010'},\n",
       "  3: {'weight': 1, 'year': '2013'},\n",
       "  4: {'weight': 2, 'year': '2004'}},\n",
       " 2249: {0: {'weight': 7},\n",
       "  1: {'weight': 3, 'year': '2015'},\n",
       "  2: {'weight': 1, 'year': '2016'}},\n",
       " 2292: {0: {'weight': 1}, 1: {'weight': 1, 'year': '2013'}},\n",
       " 2393: {0: {'weight': 2}, 1: {'weight': 1, 'year': '2011'}},\n",
       " 2444: {0: {'weight': 2},\n",
       "  1: {'weight': 1, 'year': '2015'},\n",
       "  2: {'weight': 1, 'year': '2014'}},\n",
       " 2490: {0: {'weight': 20},\n",
       "  1: {'weight': 4, 'year': '2015'},\n",
       "  2: {'weight': 8, 'year': '2013'},\n",
       "  3: {'weight': 2, 'year': '2014'}},\n",
       " 2509: {0: {'weight': 1}},\n",
       " 2658: {0: {'weight': 2}},\n",
       " 2709: {0: {'weight': 3}, 1: {'weight': 1, 'year': '2009'}},\n",
       " 3052: {0: {'weight': 1}},\n",
       " 3090: {0: {'weight': 1}, 1: {'weight': 1, 'year': '2013'}},\n",
       " 3138: {0: {'weight': 1}, 1: {'weight': 1, 'year': '2015'}},\n",
       " 3167: {0: {'weight': 1}, 1: {'weight': 1, 'year': '2012'}},\n",
       " 3324: {0: {'weight': 10},\n",
       "  1: {'weight': 1, 'year': '2012'},\n",
       "  2: {'weight': 1, 'year': '2013'},\n",
       "  3: {'weight': 2, 'year': '2014'},\n",
       "  4: {'weight': 2, 'year': '2015'},\n",
       "  5: {'weight': 2, 'year': '2016'}},\n",
       " 3398: {0: {'weight': 3}},\n",
       " 3419: {0: {'weight': 8},\n",
       "  1: {'weight': 1, 'year': '2011'},\n",
       "  2: {'weight': 1, 'year': '2009'},\n",
       "  3: {'weight': 1, 'year': '2010'},\n",
       "  4: {'weight': 1, 'year': '2012'}},\n",
       " 3433: {0: {'weight': 7},\n",
       "  1: {'weight': 2, 'year': '2015'},\n",
       "  2: {'weight': 3, 'year': '2016'}},\n",
       " 3599: {0: {'weight': 3}, 1: {'weight': 2, 'year': '2007'}},\n",
       " 3646: {0: {'weight': 1}},\n",
       " 3704: {0: {'weight': 2},\n",
       "  1: {'weight': 1, 'year': '2012'},\n",
       "  2: {'weight': 1, 'year': '2013'}},\n",
       " 3727: {0: {'weight': 1}},\n",
       " 3795: {0: {'weight': 1}},\n",
       " 3797: {0: {'weight': 7},\n",
       "  1: {'weight': 1, 'year': '2013'},\n",
       "  2: {'weight': 1, 'year': '2014'}},\n",
       " 3970: {0: {'weight': 11},\n",
       "  1: {'weight': 1, 'year': '2011'},\n",
       "  2: {'weight': 3, 'year': '2012'}},\n",
       " 3971: {0: {'weight': 7},\n",
       "  1: {'weight': 1, 'year': '2010'},\n",
       "  2: {'weight': 2, 'year': '2012'}},\n",
       " 4016: {0: {'weight': 2}, 1: {'weight': 2, 'year': '2007'}},\n",
       " 4551: {0: {'weight': 1}, 1: {'weight': 1, 'year': '2010'}},\n",
       " 4557: {0: {'weight': 2}, 1: {'weight': 1, 'year': '2013'}},\n",
       " 4628: {0: {'weight': 1}},\n",
       " 4899: {0: {'weight': 17},\n",
       "  1: {'weight': 1, 'year': '2010'},\n",
       "  2: {'weight': 2, 'year': '2013'},\n",
       "  3: {'weight': 3, 'year': '2012'},\n",
       "  4: {'weight': 1, 'year': '2014'}},\n",
       " 4977: {0: {'weight': 16},\n",
       "  1: {'weight': 1, 'year': '2011'},\n",
       "  2: {'weight': 2, 'year': '2010'},\n",
       "  3: {'weight': 4, 'year': '2013'},\n",
       "  4: {'weight': 2, 'year': '2012'}},\n",
       " 5000: {0: {'weight': 1}, 1: {'weight': 1, 'year': '2012'}},\n",
       " 5056: {0: {'weight': 2}, 1: {'weight': 1, 'year': '2012'}},\n",
       " 5249: {0: {'weight': 4}, 1: {'weight': 3, 'year': '2016'}},\n",
       " 5336: {0: {'weight': 4},\n",
       "  1: {'weight': 1, 'year': '2015'},\n",
       "  2: {'weight': 2, 'year': '2013'}},\n",
       " 5365: {0: {'weight': 1}, 1: {'weight': 1, 'year': '2014'}},\n",
       " 5453: {0: {'weight': 2}, 1: {'weight': 1, 'year': '2012'}},\n",
       " 5809: {0: {'weight': 18},\n",
       "  1: {'weight': 3, 'year': '2015'},\n",
       "  2: {'weight': 1, 'year': '2013'},\n",
       "  3: {'weight': 6, 'year': '2014'}},\n",
       " 5844: {0: {'weight': 1}, 1: {'weight': 1, 'year': '2014'}},\n",
       " 6199: {0: {'weight': 1}, 1: {'weight': 1, 'year': '2007'}},\n",
       " 6268: {0: {'weight': 1}},\n",
       " 6321: {0: {'weight': 2}, 1: {'weight': 1, 'year': '2014'}},\n",
       " 6483: {0: {'weight': 1}},\n",
       " 6529: {0: {'weight': 11},\n",
       "  1: {'weight': 2, 'year': '2008'},\n",
       "  2: {'weight': 2, 'year': '2006'},\n",
       "  3: {'weight': 2, 'year': '2009'},\n",
       "  4: {'weight': 2, 'year': '2005'},\n",
       "  5: {'weight': 1, 'year': '2007'}},\n",
       " 6647: {0: {'weight': 7},\n",
       "  1: {'weight': 2, 'year': '2012'},\n",
       "  2: {'weight': 2, 'year': '2013'},\n",
       "  3: {'weight': 1, 'year': '2015'}},\n",
       " 6846: {0: {'weight': 1}},\n",
       " 7160: {0: {'weight': 9},\n",
       "  1: {'weight': 2, 'year': '2008'},\n",
       "  2: {'weight': 1, 'year': '2011'},\n",
       "  3: {'weight': 1, 'year': '2005'},\n",
       "  4: {'weight': 2, 'year': '2007'}},\n",
       " 7237: {0: {'weight': 4},\n",
       "  1: {'weight': 1, 'year': '2012'},\n",
       "  2: {'weight': 1, 'year': '2013'}},\n",
       " 7314: {0: {'weight': 1}},\n",
       " 7467: {0: {'weight': 8}, 1: {'weight': 1, 'year': '2012'}},\n",
       " 7505: {0: {'weight': 1}, 1: {'weight': 1, 'year': '2014'}},\n",
       " 7710: {0: {'weight': 35},\n",
       "  1: {'weight': 1, 'year': '2008'},\n",
       "  2: {'weight': 1, 'year': '2010'},\n",
       "  3: {'weight': 8, 'year': '2003'},\n",
       "  4: {'weight': 1, 'year': '2002'},\n",
       "  5: {'weight': 1, 'year': '2011'},\n",
       "  6: {'weight': 1, 'year': '2006'},\n",
       "  7: {'weight': 7, 'year': '2004'},\n",
       "  8: {'weight': 7, 'year': '2005'},\n",
       "  9: {'weight': 2, 'year': '2007'}},\n",
       " 8111: {0: {'weight': 1}},\n",
       " 8286: {0: {'weight': 11},\n",
       "  1: {'weight': 3, 'year': '2015'},\n",
       "  2: {'weight': 4, 'year': '2013'},\n",
       "  3: {'weight': 1, 'year': '2014'}},\n",
       " 8756: {0: {'weight': 2},\n",
       "  1: {'weight': 1, 'year': '2008'},\n",
       "  2: {'weight': 1, 'year': '2011'}},\n",
       " 8829: {0: {'weight': 15},\n",
       "  1: {'weight': 6, 'year': '2015'},\n",
       "  2: {'weight': 2, 'year': '2014'},\n",
       "  3: {'weight': 2, 'year': '2016'}},\n",
       " 9027: {0: {'weight': 1}},\n",
       " 9267: {0: {'weight': 8},\n",
       "  1: {'weight': 2, 'year': '2002'},\n",
       "  2: {'weight': 4, 'year': '2003'},\n",
       "  3: {'weight': 1, 'year': '2001'}},\n",
       " 9349: {0: {'weight': 1}, 1: {'weight': 1, 'year': '2014'}},\n",
       " 9451: {0: {'weight': 12},\n",
       "  1: {'weight': 1, 'year': '2012'},\n",
       "  2: {'weight': 1, 'year': '2013'},\n",
       "  3: {'weight': 1, 'year': '2014'},\n",
       "  4: {'weight': 2, 'year': '2015'}},\n",
       " 9457: {0: {'weight': 2},\n",
       "  1: {'weight': 1, 'year': '2012'},\n",
       "  2: {'weight': 1, 'year': '2013'}},\n",
       " 9592: {0: {'weight': 10},\n",
       "  1: {'weight': 1, 'year': '2011'},\n",
       "  2: {'weight': 1, 'year': '2009'},\n",
       "  3: {'weight': 1, 'year': '2007'},\n",
       "  4: {'weight': 1, 'year': '2012'}},\n",
       " 9600: {0: {'weight': 30},\n",
       "  1: {'weight': 1, 'year': '2008'},\n",
       "  2: {'weight': 1, 'year': '2009'},\n",
       "  3: {'weight': 4, 'year': '2002'},\n",
       "  4: {'weight': 6, 'year': '2004'},\n",
       "  5: {'weight': 1, 'year': '2001'},\n",
       "  6: {'weight': 1, 'year': '2006'},\n",
       "  7: {'weight': 2, 'year': '2005'},\n",
       "  8: {'weight': 3, 'year': '2003'},\n",
       "  9: {'weight': 1, 'year': '2010'}},\n",
       " 9778: {0: {'weight': 15},\n",
       "  1: {'weight': 2, 'year': '2008'},\n",
       "  2: {'weight': 1, 'year': '2011'},\n",
       "  3: {'weight': 1, 'year': '2009'},\n",
       "  4: {'weight': 1, 'year': '2010'},\n",
       "  5: {'weight': 1, 'year': '2007'}},\n",
       " 9818: {0: {'weight': 5},\n",
       "  1: {'weight': 1, 'year': '2012'},\n",
       "  2: {'weight': 1, 'year': '2014'},\n",
       "  3: {'weight': 1, 'year': '2016'}},\n",
       " 10230: {0: {'weight': 1}},\n",
       " 10245: {0: {'weight': 16},\n",
       "  1: {'weight': 3, 'year': '2012'},\n",
       "  2: {'weight': 1, 'year': '2013'},\n",
       "  3: {'weight': 2, 'year': '2014'},\n",
       "  4: {'weight': 1, 'year': '2015'}},\n",
       " 10246: {0: {'weight': 1}, 1: {'weight': 1, 'year': '2013'}},\n",
       " 10874: {0: {'weight': 1}, 1: {'weight': 1, 'year': '2012'}},\n",
       " 10885: {0: {'weight': 1}, 1: {'weight': 1, 'year': '2016'}},\n",
       " 10898: {0: {'weight': 1}, 1: {'weight': 1, 'year': '2011'}},\n",
       " 10900: {0: {'weight': 7}, 1: {'weight': 5, 'year': '2013'}},\n",
       " 10923: {0: {'weight': 15},\n",
       "  1: {'weight': 1, 'year': '2008'},\n",
       "  2: {'weight': 2, 'year': '2009'},\n",
       "  3: {'weight': 5, 'year': '2006'},\n",
       "  4: {'weight': 1, 'year': '2004'},\n",
       "  5: {'weight': 3, 'year': '2005'},\n",
       "  6: {'weight': 1, 'year': '2007'}},\n",
       " 10929: {0: {'weight': 15},\n",
       "  1: {'weight': 1, 'year': '2008'},\n",
       "  2: {'weight': 3, 'year': '2005'},\n",
       "  3: {'weight': 2, 'year': '2004'},\n",
       "  4: {'weight': 2, 'year': '2007'},\n",
       "  5: {'weight': 4, 'year': '2006'}},\n",
       " 11214: {0: {'weight': 1}, 1: {'weight': 1, 'year': '2013'}},\n",
       " 11597: {0: {'weight': 3},\n",
       "  1: {'weight': 1, 'year': '2012'},\n",
       "  2: {'weight': 1, 'year': '2014'}},\n",
       " 11692: {0: {'weight': 2}},\n",
       " 11729: {0: {'weight': 4},\n",
       "  1: {'weight': 1, 'year': '2011'},\n",
       "  2: {'weight': 1, 'year': '2012'},\n",
       "  3: {'weight': 1, 'year': '2014'}},\n",
       " 11757: {0: {'weight': 1}, 1: {'weight': 1, 'year': '2015'}},\n",
       " 11994: {0: {'weight': 1}, 1: {'weight': 1, 'year': '2012'}},\n",
       " 12116: {0: {'weight': 20},\n",
       "  1: {'weight': 4, 'year': '2015'},\n",
       "  2: {'weight': 4, 'year': '2013'},\n",
       "  3: {'weight': 3, 'year': '2014'}},\n",
       " 12162: {0: {'weight': 1}, 1: {'weight': 1, 'year': '2015'}},\n",
       " 12671: {0: {'weight': 1}, 1: {'weight': 1, 'year': '2007'}},\n",
       " 12769: {0: {'weight': 39},\n",
       "  1: {'weight': 1, 'year': '2008'},\n",
       "  2: {'weight': 6, 'year': '2003'},\n",
       "  3: {'weight': 1, 'year': '2013'},\n",
       "  4: {'weight': 3, 'year': '2002'},\n",
       "  5: {'weight': 1, 'year': '2006'},\n",
       "  6: {'weight': 6, 'year': '2004'},\n",
       "  7: {'weight': 3, 'year': '2005'},\n",
       "  8: {'weight': 4, 'year': '2007'}},\n",
       " 13141: {0: {'weight': 3}, 1: {'weight': 1, 'year': '2009'}},\n",
       " 13235: {0: {'weight': 3}, 1: {'weight': 1, 'year': '2012'}},\n",
       " 13321: {0: {'weight': 2}, 1: {'weight': 2, 'year': '2012'}},\n",
       " 13393: {0: {'weight': 5},\n",
       "  1: {'weight': 1, 'year': '2011'},\n",
       "  2: {'weight': 2, 'year': '2007'}}}"
      ]
     },
     "execution_count": 241,
     "metadata": {},
     "output_type": "execute_result"
    }
   ],
   "source": [
    "G_epfl[7884]#[1]#['weight'] = 5"
   ]
  },
  {
   "cell_type": "code",
   "execution_count": null,
   "metadata": {
    "collapsed": true
   },
   "outputs": [],
   "source": []
  }
 ],
 "metadata": {
  "anaconda-cloud": {},
  "kernelspec": {
   "display_name": "Python [Root]",
   "language": "python",
   "name": "Python [Root]"
  },
  "language_info": {
   "codemirror_mode": {
    "name": "ipython",
    "version": 3
   },
   "file_extension": ".py",
   "mimetype": "text/x-python",
   "name": "python",
   "nbconvert_exporter": "python",
   "pygments_lexer": "ipython3",
   "version": "3.5.2"
  }
 },
 "nbformat": 4,
 "nbformat_minor": 0
}
