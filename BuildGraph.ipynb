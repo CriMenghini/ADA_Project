{
 "cells": [
  {
   "cell_type": "markdown",
   "metadata": {
    "collapsed": true
   },
   "source": [
    "# Build first graph"
   ]
  },
  {
   "cell_type": "code",
   "execution_count": 47,
   "metadata": {
    "collapsed": false
   },
   "outputs": [],
   "source": [
    "import json\n",
    "from BuildGraphModule import *\n",
    "from UniformData import *\n",
    "from MultiGraph import *"
   ]
  },
  {
   "cell_type": "markdown",
   "metadata": {},
   "source": [
    "Load data: dictionary of papers whose instances vary according to the information presents on Infoscience publication's page (i.e. Abstract, title, date of publication, authors, epfl authors, involved labs, keywords, etc..)"
   ]
  },
  {
   "cell_type": "code",
   "execution_count": 2,
   "metadata": {
    "collapsed": false
   },
   "outputs": [],
   "source": [
    "with open('paper.json', 'r') as f:\n",
    "    data = json.load(f)"
   ]
  },
  {
   "cell_type": "markdown",
   "metadata": {},
   "source": [
    "Decode authors name in order to get rid of duplicates due to differences."
   ]
  },
  {
   "cell_type": "code",
   "execution_count": 3,
   "metadata": {
    "collapsed": true
   },
   "outputs": [],
   "source": [
    "# Uniform strings - Authors\n",
    "data = uniform_authors(data)"
   ]
  },
  {
   "cell_type": "code",
   "execution_count": 4,
   "metadata": {
    "collapsed": true
   },
   "outputs": [],
   "source": [
    "# Uniform strings - EPFL Authors\n",
    "data = uniform_epfl_authors(data)"
   ]
  },
  {
   "cell_type": "markdown",
   "metadata": {},
   "source": [
    "## General graph\n",
    "\n",
    "* Nodes: authors\n",
    "* Edges: authors who collaborate to carry out a publication"
   ]
  },
  {
   "cell_type": "code",
   "execution_count": 5,
   "metadata": {
    "collapsed": true
   },
   "outputs": [],
   "source": [
    "# Define the list of authors\n",
    "authors = get_authors(data, 'Authors')"
   ]
  },
  {
   "cell_type": "code",
   "execution_count": 8,
   "metadata": {
    "collapsed": false
   },
   "outputs": [
    {
     "data": {
      "text/plain": [
       "806669"
      ]
     },
     "execution_count": 8,
     "metadata": {},
     "output_type": "execute_result"
    }
   ],
   "source": [
    "len(authors)"
   ]
  },
  {
   "cell_type": "code",
   "execution_count": 7,
   "metadata": {
    "collapsed": false
   },
   "outputs": [],
   "source": [
    "# Obtain dictionary which connect authors to an identification number (and the reverse)\n",
    "dictionary_a_id, dictionary_id_a = create_authors_id(authors, 'all')"
   ]
  },
  {
   "cell_type": "markdown",
   "metadata": {},
   "source": [
    "In order to define the graph, for each author we provide the list of people he collaborates with."
   ]
  },
  {
   "cell_type": "code",
   "execution_count": 8,
   "metadata": {
    "collapsed": false
   },
   "outputs": [],
   "source": [
    "# Define the dictionary (author, list collaborators)\n",
    "dict_authors = list_coauthors(data)"
   ]
  },
  {
   "cell_type": "markdown",
   "metadata": {},
   "source": [
    " For each author we count the number of collaborations with the same colleague."
   ]
  },
  {
   "cell_type": "code",
   "execution_count": 9,
   "metadata": {
    "collapsed": false
   },
   "outputs": [],
   "source": [
    "# Compute the dictionary (author, dict(collaborator: number of common publication))\n",
    "dict_numb_coll = number_collaborations(dict_authors)"
   ]
  },
  {
   "cell_type": "markdown",
   "metadata": {},
   "source": [
    "Keep only the set of collaborators"
   ]
  },
  {
   "cell_type": "code",
   "execution_count": 10,
   "metadata": {
    "collapsed": true
   },
   "outputs": [],
   "source": [
    "# Define the dictionary (author, set of collaborators)\n",
    "dict_authors_set = set_coauthors(dict_authors)"
   ]
  },
  {
   "cell_type": "markdown",
   "metadata": {},
   "source": [
    "Thus, define the edges of the graph."
   ]
  },
  {
   "cell_type": "code",
   "execution_count": 11,
   "metadata": {
    "collapsed": false
   },
   "outputs": [],
   "source": [
    "# Create edges\n",
    "edges = create_edges(dict_authors_set, dictionary_a_id)"
   ]
  },
  {
   "cell_type": "code",
   "execution_count": 12,
   "metadata": {
    "collapsed": false
   },
   "outputs": [
    {
     "name": "stdout",
     "output_type": "stream",
     "text": [
      "Name: \n",
      "Type: Graph\n",
      "Number of nodes: 161431\n",
      "Number of edges: 17345810\n",
      "Average degree: 214.9006\n"
     ]
    }
   ],
   "source": [
    "G = create_simple_graph(dictionary_id_a, edges)"
   ]
  },
  {
   "cell_type": "markdown",
   "metadata": {},
   "source": [
    "## EPFL graph\n",
    "\n",
    "Repeat the same operations trimming the graph by using only Epfl authors."
   ]
  },
  {
   "cell_type": "code",
   "execution_count": 9,
   "metadata": {
    "collapsed": false
   },
   "outputs": [],
   "source": [
    "authors_epfl = get_authors(data, 'Epfl authors')\n",
    "# Due to the format which the authors have been saved\n",
    "\n",
    "# We initialize a new list\n",
    "epfl_authors = []\n",
    "\n",
    "# Then for each element in the previous list\n",
    "for i in authors_epfl:\n",
    "    # We unpack the content\n",
    "    epfl_authors += list(i.keys())"
   ]
  },
  {
   "cell_type": "code",
   "execution_count": 10,
   "metadata": {
    "collapsed": false
   },
   "outputs": [
    {
     "data": {
      "text/plain": [
       "181594"
      ]
     },
     "execution_count": 10,
     "metadata": {},
     "output_type": "execute_result"
    }
   ],
   "source": [
    "len(authors_epfl)"
   ]
  },
  {
   "cell_type": "code",
   "execution_count": 14,
   "metadata": {
    "collapsed": true
   },
   "outputs": [],
   "source": [
    "# Id-Author / Author-ID\n",
    "dictionary_a_id_epfl, dictionary_id_a_epfl = create_authors_id(epfl_authors, 'epfl')"
   ]
  },
  {
   "cell_type": "code",
   "execution_count": 15,
   "metadata": {
    "collapsed": true
   },
   "outputs": [],
   "source": [
    "# EPFL - COAUTORI NELLA LISTA DI EPFL AUTHORS\n",
    "dict_authors_epfl = list_coauthors_epfl(data)"
   ]
  },
  {
   "cell_type": "code",
   "execution_count": 16,
   "metadata": {
    "collapsed": true
   },
   "outputs": [],
   "source": [
    "# Number of collaborations\n",
    "dict_numb_coll_epfl = number_collaborations(dict_authors_epfl)"
   ]
  },
  {
   "cell_type": "code",
   "execution_count": 17,
   "metadata": {
    "collapsed": true
   },
   "outputs": [],
   "source": [
    "# Coauthors set\n",
    "dict_authors_set_epfl = set_coauthors(dict_authors_epfl)"
   ]
  },
  {
   "cell_type": "code",
   "execution_count": 18,
   "metadata": {
    "collapsed": true
   },
   "outputs": [],
   "source": [
    "# Set of edges\n",
    "edges_epfl = create_edges(dict_authors_set_epfl, dictionary_a_id_epfl)"
   ]
  },
  {
   "cell_type": "code",
   "execution_count": 19,
   "metadata": {
    "collapsed": false
   },
   "outputs": [
    {
     "name": "stdout",
     "output_type": "stream",
     "text": [
      "Name: \n",
      "Type: Graph\n",
      "Number of nodes: 13451\n",
      "Number of edges: 45417\n",
      "Average degree:   6.7530\n"
     ]
    }
   ],
   "source": [
    "G = create_simple_graph(dictionary_id_a_epfl, edges_epfl)"
   ]
  },
  {
   "cell_type": "markdown",
   "metadata": {},
   "source": [
    "### Get the lab for the authors"
   ]
  },
  {
   "cell_type": "code",
   "execution_count": 20,
   "metadata": {
    "collapsed": true
   },
   "outputs": [],
   "source": [
    "# Get the dictionary (author, list collaborators with info)\n",
    "dict_authors_epfl = get_collaborators(data)"
   ]
  },
  {
   "cell_type": "code",
   "execution_count": 21,
   "metadata": {
    "collapsed": true
   },
   "outputs": [],
   "source": [
    "# Get the dictionary (author, dict(collaborator,list of common works))\n",
    "dict_coautorship_papers = coauthorship_papers(dict_authors_epfl)"
   ]
  },
  {
   "cell_type": "code",
   "execution_count": 22,
   "metadata": {
    "collapsed": true
   },
   "outputs": [],
   "source": [
    "# Define the dictionary (authos, set of papers)\n",
    "list_paper = paper_per_author(dict_coautorship_papers)"
   ]
  },
  {
   "cell_type": "code",
   "execution_count": 23,
   "metadata": {
    "collapsed": true
   },
   "outputs": [],
   "source": [
    "# Dictionary (author, website)\n",
    "dict_author_site = lab_site(data)"
   ]
  },
  {
   "cell_type": "markdown",
   "metadata": {},
   "source": [
    "Retrieve the labs of authors. Whether only one lab is mentioned on InfoScience page, the Epfl authors are assumed to belong to that lab. Whether more than one lab is involved, we scrape the People page of the author. This procedure can lead to loosing some information since the pages of authors that are no more part of the Epfl have no longer the page on people."
   ]
  },
  {
   "cell_type": "code",
   "execution_count": 24,
   "metadata": {
    "collapsed": true
   },
   "outputs": [],
   "source": [
    "import requests\n",
    "from bs4 import BeautifulSoup"
   ]
  },
  {
   "cell_type": "code",
   "execution_count": 25,
   "metadata": {
    "collapsed": false
   },
   "outputs": [],
   "source": [
    "#author_lab = get_authors_lab(list_paper, data)[0]"
   ]
  },
  {
   "cell_type": "code",
   "execution_count": 26,
   "metadata": {
    "collapsed": true
   },
   "outputs": [],
   "source": [
    "import pickle\n",
    "#pickle.dump(author_lab, open('author_lab.p', 'wb')) # Store the variable in a file."
   ]
  },
  {
   "cell_type": "markdown",
   "metadata": {},
   "source": [
    "# Basic statistics on the graph - @TODO - INTRODUCTION"
   ]
  },
  {
   "cell_type": "code",
   "execution_count": 115,
   "metadata": {
    "collapsed": false
   },
   "outputs": [],
   "source": [
    "# Get the range of years\n",
    "dict_years = defaultdict(int)\n",
    "dict_year_authors = defaultdict(float)\n",
    "dict_year_epfl_authors = defaultdict(float)\n",
    "dict_authors = defaultdict(float)\n",
    "for paper in list(data.keys()):\n",
    "    try:\n",
    "        #print (paper['Publication date'])\n",
    "        dict_years[data[paper]['Publication date']] += 1\n",
    "        dict_year_authors[data[paper]['Publication date']] += len(data[paper]['Authors'])\n",
    "        dict_year_epfl_authors[data[paper]['Publication date']] += len(data[paper]['Epfl authors'])\n",
    "        \n",
    "    except:\n",
    "        pass\n",
    "    try:\n",
    "        for author in data[paper]['Epfl authors']:\n",
    "            dict_authors[author.keys()[0]] += 1\n",
    "    except:\n",
    "        continue\n",
    "    "
   ]
  },
  {
   "cell_type": "code",
   "execution_count": 116,
   "metadata": {
    "collapsed": false
   },
   "outputs": [
    {
     "data": {
      "text/plain": [
       "[('de rooij n f', 998.0),\n",
       " ('bierlaire michel', 945.0),\n",
       " ('graetzel michael', 909.0),\n",
       " ('margaritondo g', 743.0),\n",
       " ('schleiss anton', 675.0),\n",
       " ('schneider o', 620.0),\n",
       " ('manson j-a e', 545.0),\n",
       " ('finger matthias', 541.0),\n",
       " ('levy jacques', 535.0),\n",
       " ('de micheli giovanni', 515.0),\n",
       " ('bourlard herve', 492.0),\n",
       " ('sauter o', 492.0),\n",
       " ('bay a', 488.0),\n",
       " ('aberer karl', 483.0),\n",
       " ('le boudec jean-yves', 447.0),\n",
       " ('thalmann d', 440.0),\n",
       " ('mosig j r', 425.0),\n",
       " ('favrat daniel', 421.0),\n",
       " ('unser m', 403.0),\n",
       " ('thevenaz group', 402.0)]"
      ]
     },
     "execution_count": 116,
     "metadata": {},
     "output_type": "execute_result"
    }
   ],
   "source": [
    "top_authors = sorted(dict_authors.iteritems(), key=lambda x:-x[1])[:20]\n",
    "top_authors"
   ]
  },
  {
   "cell_type": "code",
   "execution_count": 57,
   "metadata": {
    "collapsed": true
   },
   "outputs": [],
   "source": [
    "def normalize_dict(d):\n",
    "    factor=1.0/sum(d.itervalues())\n",
    "    for k in d:\n",
    "        d[k] = d[k]*factor\n",
    "    return d"
   ]
  },
  {
   "cell_type": "code",
   "execution_count": null,
   "metadata": {
    "collapsed": true
   },
   "outputs": [],
   "source": [
    "def gauss(x,p):\n",
    "    \"\"\"Return the gauss function N(x), with mean p[0] and std p[1].\n",
    "    Normalized such that N(x=p[0]) = 1.\n",
    "    \"\"\"\n",
    "    return np.exp((-(x - p[0])**2) / (2 * p[1]**2))\n",
    "\n",
    "#x,y center position\n",
    "#size_x, size_y map size\n",
    "#score : score of the center\n",
    "#sigma\n",
    "#Modify map according to the center score\n",
    "for i in range(size_x):\n",
    "    for j in range(size_y):\n",
    "        #calculate gaussian distr sigma is space factor\n",
    "        disc = gauss(np.sqrt((x-i)**2+(y-j)**2),[0, sigma])\n",
    "        epfl_map[i][j] += disc*score"
   ]
  },
  {
   "cell_type": "code",
   "execution_count": 65,
   "metadata": {
    "collapsed": false
   },
   "outputs": [],
   "source": [
    "open_measure = defaultdict(float)\n",
    "open_measure_scaled = defaultdict(float)\n",
    "for year in list(dict_year_authors.keys()):\n",
    "    open_measure[year] = (dict_year_epfl_authors[year] / dict_year_authors[year])\n",
    "    open_measure_scaled[year] = (dict_year_epfl_authors[year] / dict_year_authors[year])*dict_years[year]"
   ]
  },
  {
   "cell_type": "markdown",
   "metadata": {},
   "source": [
    "Fraction of EPFL authors over total authors"
   ]
  },
  {
   "cell_type": "code",
   "execution_count": 68,
   "metadata": {
    "collapsed": false
   },
   "outputs": [
    {
     "data": {
      "text/plain": [
       "<Container object of 83 artists>"
      ]
     },
     "execution_count": 68,
     "metadata": {},
     "output_type": "execute_result"
    },
    {
     "data": {
      "image/png": "[encoded data removed]",
      "text/plain": [
       "<matplotlib.figure.Figure at 0x7fea660dc610>"
      ]
     },
     "metadata": {},
     "output_type": "display_data"
    }
   ],
   "source": [
    "open_measure.pop('0', None)\n",
    "open_measure.pop('August 31-September 2 2005', None)\n",
    "open_measure.pop('2017', None)\n",
    "normalize_dict(open_measure)\n",
    "plt.bar(open_measure.keys(), open_measure.values(), 0.5, color='g')"
   ]
  },
  {
   "cell_type": "code",
   "execution_count": 69,
   "metadata": {
    "collapsed": false
   },
   "outputs": [
    {
     "data": {
      "text/plain": [
       "<Container object of 83 artists>"
      ]
     },
     "execution_count": 69,
     "metadata": {},
     "output_type": "execute_result"
    },
    {
     "data": {
      "image/png": "[encoded data removed]",
      "text/plain": [
       "<matplotlib.figure.Figure at 0x7fea77d98410>"
      ]
     },
     "metadata": {},
     "output_type": "display_data"
    }
   ],
   "source": [
    "open_measure_scaled.pop('0', None)\n",
    "open_measure_scaled.pop('August 31-September 2 2005', None)\n",
    "open_measure_scaled.pop('2017', None)\n",
    "normalize_dict(open_measure_scaled)\n",
    "plt.bar(open_measure_scaled.keys(), open_measure_scaled.values(), 0.5, color='g')"
   ]
  },
  {
   "cell_type": "code",
   "execution_count": 50,
   "metadata": {
    "collapsed": false
   },
   "outputs": [],
   "source": [
    "#dict_years"
   ]
  },
  {
   "cell_type": "code",
   "execution_count": 29,
   "metadata": {
    "collapsed": true
   },
   "outputs": [],
   "source": [
    "del dict_years['August 31-September 2 2005']\n",
    "del dict_years['0']"
   ]
  },
  {
   "cell_type": "code",
   "execution_count": 48,
   "metadata": {
    "collapsed": false
   },
   "outputs": [],
   "source": [
    "import matplotlib.pyplot as plt\n",
    "%matplotlib inline"
   ]
  },
  {
   "cell_type": "markdown",
   "metadata": {},
   "source": [
    "After a first glance twe observe that:\n",
    "* The oldest publications are thos which may contain fragmented and incomplete information\n",
    "* The number of publication in considerably higher from the latest 90s to nowdays\n",
    "\n",
    "As consequence we decide to focus our attention on the publications corresponding to the aforementioned period."
   ]
  },
  {
   "cell_type": "code",
   "execution_count": 31,
   "metadata": {
    "collapsed": false
   },
   "outputs": [
    {
     "data": {
      "text/plain": [
       "<Container object of 84 artists>"
      ]
     },
     "execution_count": 31,
     "metadata": {},
     "output_type": "execute_result"
    },
    {
     "data": {
      "image/png": "[encoded data removed]",
      "text/plain": [
       "<matplotlib.figure.Figure at 0x216f19cf8>"
      ]
     },
     "metadata": {},
     "output_type": "display_data"
    }
   ],
   "source": [
    "plt.bar(dict_years.keys(), dict_years.values(), 0.5, color='g')"
   ]
  },
  {
   "cell_type": "code",
   "execution_count": 32,
   "metadata": {
    "collapsed": false
   },
   "outputs": [],
   "source": [
    "data_cut = {}\n",
    "for paper in list(data.keys()):\n",
    "    try:\n",
    "        if int(data[paper]['Publication date']) >= 1993:\n",
    "            data_cut[paper] = data[paper]\n",
    "    except:\n",
    "        continue"
   ]
  },
  {
   "cell_type": "markdown",
   "metadata": {},
   "source": [
    "## LABS"
   ]
  },
  {
   "cell_type": "code",
   "execution_count": 33,
   "metadata": {
    "collapsed": false
   },
   "outputs": [],
   "source": [
    "dict_lab_site, dict_labs, dict_labs_paper = lab_dictionaries(data_cut)"
   ]
  },
  {
   "cell_type": "markdown",
   "metadata": {},
   "source": [
    "## Scrape EPFL STRUCTURE"
   ]
  },
  {
   "cell_type": "code",
   "execution_count": null,
   "metadata": {
    "collapsed": false
   },
   "outputs": [],
   "source": [
    "import requests\n",
    "from bs4 import BeautifulSoup"
   ]
  },
  {
   "cell_type": "code",
   "execution_count": null,
   "metadata": {
    "collapsed": false
   },
   "outputs": [],
   "source": [
    "# From the root (EPFL): obtain the first level of the tree (schools)\n",
    "req = requests.get('https://search.epfl.ch/ubrowse.action?acro=EPFL')\n",
    "html = req.content"
   ]
  },
  {
   "cell_type": "code",
   "execution_count": null,
   "metadata": {
    "collapsed": false
   },
   "outputs": [],
   "source": [
    "soup = BeautifulSoup(html, 'html.parser')"
   ]
  },
  {
   "cell_type": "code",
   "execution_count": null,
   "metadata": {
    "collapsed": true
   },
   "outputs": [],
   "source": [
    "# Obtain the link for the schools\n",
    "new_links_to_go = []\n",
    "dictio = []\n",
    "for i in soup.findAll('div', {'class':'unit_name'}):\n",
    "    if i.findAll('a')[0].text.strip()[:6] == 'School':\n",
    "        new_links_to_go += [i.findAll('a')[0].get('href')]\n",
    "        dictio += [i.findAll('a')[0].text.strip()]"
   ]
  },
  {
   "cell_type": "code",
   "execution_count": null,
   "metadata": {
    "collapsed": false
   },
   "outputs": [],
   "source": [
    "#traverse_epfl_tree('https://search.epfl.ch/ubrowse.action?acro=SV')"
   ]
  },
  {
   "cell_type": "code",
   "execution_count": null,
   "metadata": {
    "collapsed": true
   },
   "outputs": [],
   "source": [
    "# Store the result related to each different school\n",
    "#import pickle\n",
    "#pickle.dump(prova, open('SV.p', 'wb')) # Store the variable in a file."
   ]
  },
  {
   "cell_type": "code",
   "execution_count": null,
   "metadata": {
    "collapsed": true
   },
   "outputs": [],
   "source": [
    "# Get dictionary (lab,school)\n",
    "def school_lab(dict_lab_site, name_school):\n",
    "    \n",
    "    school = pickle.load(open(name_school + '.p', 'rb')) # Recall \n",
    "    lab_school = {}\n",
    "    for i in list(dict_lab_site.keys()):\n",
    "        for nodes in list(school.keys()):\n",
    "            list_node = school[nodes]\n",
    "            if i in list_node:\n",
    "                lab_school[i] = name_school\n",
    "                break\n",
    "            else:\n",
    "                continue   \n",
    "    \n",
    "    return lab_school"
   ]
  },
  {
   "cell_type": "code",
   "execution_count": null,
   "metadata": {
    "collapsed": false
   },
   "outputs": [],
   "source": [
    "school_lab(dict_lab_site, 'IC')"
   ]
  }
 ],
 "metadata": {
  "anaconda-cloud": {},
  "kernelspec": {
   "display_name": "Python [conda root]",
   "language": "python",
   "name": "conda-root-py"
  },
  "language_info": {
   "codemirror_mode": {
    "name": "ipython",
    "version": 2
   },
   "file_extension": ".py",
   "mimetype": "text/x-python",
   "name": "python",
   "nbconvert_exporter": "python",
   "pygments_lexer": "ipython2",
   "version": "2.7.12"
  }
 },
 "nbformat": 4,
 "nbformat_minor": 0
}
