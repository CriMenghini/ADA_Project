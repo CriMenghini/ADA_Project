{
 "cells": [
  {
   "cell_type": "markdown",
   "metadata": {
    "collapsed": true
   },
   "source": [
    "# Built Graph\n",
    "In this notebook we proceed building the ERN. In particular we create a graph characterized by the following structure:\n",
    "\n",
    "* Nodes: authors of publications\n",
    "* Edges: (u,v) if a coauthorship relation stands between u and v\n",
    "* Weights: (u,v,w) where the weight corresponds to the number of common publications between u and v\n",
    "\n",
    "For the tidiness of the code the used functions are stored in external modules which will be properly recalled when in use."
   ]
  },
  {
   "cell_type": "code",
   "execution_count": 1,
   "metadata": {
    "collapsed": false
   },
   "outputs": [],
   "source": [
    "# Import useful library\n",
    "import json\n",
    "import matplotlib.pyplot as plt\n",
    "from BuildGraphModule import *\n",
    "from UniformData import *\n",
    "from MultiGraph import *\n",
    "%matplotlib inline"
   ]
  },
  {
   "cell_type": "markdown",
   "metadata": {},
   "source": [
    "##### Load data: \n",
    "\n",
    "The loaded data are in the form describe in [DATA ACQUISITION]. To remind:\n",
    "\n",
    "                               {ID_paper_1:{'Abstract': 'text', \n",
    "                                            'Title' : 'title', \n",
    "                                            'Date of publication' : '1999', \n",
    "                                            'Authors' : [a1, a2, a3], \n",
    "                                            'Epfl authors' : [{'name_author':'web_page'}], \n",
    "                                            'Involved Labs' : [{'name_lab' : 'lab_web_site'}], \n",
    "                                            'Keywords' : [k1, k2, k3]}\n",
    "                                            \n",
    "    \n",
    "*_Remark_*: due to the fact that the web pages don't always contain all the information, the dictionary related to each paper may vary. It implies that for the further analysis it may happen that the number of publications taken into account will vary according to the information it relies on."
   ]
  },
  {
   "cell_type": "code",
   "execution_count": 2,
   "metadata": {
    "collapsed": false
   },
   "outputs": [],
   "source": [
    "with open('paper.json', 'r') as f:\n",
    "    data = json.load(f)"
   ]
  },
  {
   "cell_type": "markdown",
   "metadata": {},
   "source": [
    "Decode authors name in order to get rid of duplicates due to spell differences. The used fuctions are store in the module [`UniformData.py`]()."
   ]
  },
  {
   "cell_type": "code",
   "execution_count": 3,
   "metadata": {
    "collapsed": true
   },
   "outputs": [],
   "source": [
    "# Uniform strings - Authors\n",
    "data = uniform_authors(data)"
   ]
  },
  {
   "cell_type": "code",
   "execution_count": 4,
   "metadata": {
    "collapsed": true
   },
   "outputs": [],
   "source": [
    "# Uniform strings - EPFL Authors\n",
    "data = uniform_epfl_authors(data)"
   ]
  },
  {
   "cell_type": "markdown",
   "metadata": {},
   "source": [
    "## General graph\n",
    " Before getting focused on the EPFL network, we built a graph that includes also the external researchers. The functions used in this section are stored in the module [`BuildGraphModule.py`]()."
   ]
  },
  {
   "cell_type": "code",
   "execution_count": 5,
   "metadata": {
    "collapsed": true
   },
   "outputs": [],
   "source": [
    "# Define the list of authors\n",
    "authors = get_authors(data, 'Authors')"
   ]
  },
  {
   "cell_type": "code",
   "execution_count": 6,
   "metadata": {
    "collapsed": false
   },
   "outputs": [],
   "source": [
    "# Obtain dictionary which connect authors to an identification number (and the reverse)\n",
    "dictionary_a_id, dictionary_id_a = create_authors_id(authors, 'all')"
   ]
  },
  {
   "cell_type": "markdown",
   "metadata": {},
   "source": [
    "In order to define the graph, for each author we provide the list of people he collaborates with."
   ]
  },
  {
   "cell_type": "code",
   "execution_count": 7,
   "metadata": {
    "collapsed": false
   },
   "outputs": [],
   "source": [
    "# Define the dictionary (author, list collaborators)\n",
    "dict_authors = list_coauthors(data)"
   ]
  },
  {
   "cell_type": "markdown",
   "metadata": {},
   "source": [
    " For each author we count the number of collaborations with the same colleague."
   ]
  },
  {
   "cell_type": "code",
   "execution_count": 8,
   "metadata": {
    "collapsed": false
   },
   "outputs": [],
   "source": [
    "# Compute the dictionary (author, dict(collaborator: number of common publication))\n",
    "dict_numb_coll = number_collaborations(dict_authors)"
   ]
  },
  {
   "cell_type": "markdown",
   "metadata": {},
   "source": [
    "Keep only the set of collaborators"
   ]
  },
  {
   "cell_type": "code",
   "execution_count": 9,
   "metadata": {
    "collapsed": true
   },
   "outputs": [],
   "source": [
    "# Define the dictionary (author, set of collaborators)\n",
    "dict_authors_set = set_coauthors(dict_authors)"
   ]
  },
  {
   "cell_type": "markdown",
   "metadata": {},
   "source": [
    "Thus, define the edges of the graph."
   ]
  },
  {
   "cell_type": "code",
   "execution_count": 10,
   "metadata": {
    "collapsed": false
   },
   "outputs": [],
   "source": [
    "# Create edges\n",
    "edges = create_edges(dict_authors_set, dictionary_a_id)"
   ]
  },
  {
   "cell_type": "code",
   "execution_count": 11,
   "metadata": {
    "collapsed": false
   },
   "outputs": [
    {
     "name": "stdout",
     "output_type": "stream",
     "text": [
      "Name: \n",
      "Type: Graph\n",
      "Number of nodes: 161431\n",
      "Number of edges: 17345810\n",
      "Average degree: 214.9006\n"
     ]
    }
   ],
   "source": [
    "G = create_simple_graph(dictionary_id_a, edges)"
   ]
  },
  {
   "cell_type": "code",
   "execution_count": 1,
   "metadata": {
    "collapsed": false
   },
   "outputs": [
    {
     "ename": "NameError",
     "evalue": "name 'G' is not defined",
     "output_type": "error",
     "traceback": [
      "\u001b[0;31m---------------------------------------------------------------------------\u001b[0m",
      "\u001b[0;31mNameError\u001b[0m                                 Traceback (most recent call last)",
      "\u001b[0;32m<ipython-input-1-6062460d6d8d>\u001b[0m in \u001b[0;36m<module>\u001b[0;34m()\u001b[0m\n\u001b[1;32m      1\u001b[0m \u001b[0;31m# Add weights\u001b[0m\u001b[0;34m\u001b[0m\u001b[0;34m\u001b[0m\u001b[0m\n\u001b[1;32m      2\u001b[0m \u001b[0ml\u001b[0m \u001b[0;34m=\u001b[0m \u001b[0;36m0\u001b[0m\u001b[0;34m\u001b[0m\u001b[0m\n\u001b[0;32m----> 3\u001b[0;31m \u001b[0;32mfor\u001b[0m \u001b[0mi\u001b[0m\u001b[0;34m,\u001b[0m\u001b[0mj\u001b[0m \u001b[0;32min\u001b[0m \u001b[0mG\u001b[0m\u001b[0;34m.\u001b[0m\u001b[0medges\u001b[0m\u001b[0;34m(\u001b[0m\u001b[0;34m)\u001b[0m\u001b[0;34m:\u001b[0m\u001b[0;34m\u001b[0m\u001b[0m\n\u001b[0m\u001b[1;32m      4\u001b[0m     \u001b[0mG\u001b[0m\u001b[0;34m[\u001b[0m\u001b[0mi\u001b[0m\u001b[0;34m]\u001b[0m\u001b[0;34m[\u001b[0m\u001b[0mj\u001b[0m\u001b[0;34m]\u001b[0m\u001b[0;34m[\u001b[0m\u001b[0;34m'weight'\u001b[0m\u001b[0;34m]\u001b[0m \u001b[0;34m=\u001b[0m \u001b[0mdict_numb_coll\u001b[0m\u001b[0;34m[\u001b[0m\u001b[0mdictionary_id_a\u001b[0m\u001b[0;34m[\u001b[0m\u001b[0mi\u001b[0m\u001b[0;34m]\u001b[0m\u001b[0;34m]\u001b[0m\u001b[0;34m[\u001b[0m\u001b[0mdictionary_id_a\u001b[0m\u001b[0;34m[\u001b[0m\u001b[0mj\u001b[0m\u001b[0;34m]\u001b[0m\u001b[0;34m]\u001b[0m\u001b[0;34m\u001b[0m\u001b[0m\n\u001b[1;32m      5\u001b[0m     \u001b[0ml\u001b[0m \u001b[0;34m+=\u001b[0m \u001b[0;36m1\u001b[0m\u001b[0;34m\u001b[0m\u001b[0m\n",
      "\u001b[0;31mNameError\u001b[0m: name 'G' is not defined"
     ]
    }
   ],
   "source": [
    "# Add weights\n",
    "l = 0\n",
    "for i,j in G.edges():\n",
    "    G[i][j]['weight'] = dict_numb_coll[dictionary_id_a[i]][dictionary_id_a[j]]\n",
    "    l += 1\n",
    "    print (l)"
   ]
  },
  {
   "cell_type": "markdown",
   "metadata": {},
   "source": [
    "### Graph measures \n",
    "We are now going to compute some coefficients that may give us an idea of the structure of the graph."
   ]
  },
  {
   "cell_type": "markdown",
   "metadata": {},
   "source": [
    "#### Degree distribution\n"
   ]
  },
  {
   "cell_type": "code",
   "execution_count": null,
   "metadata": {
    "collapsed": true
   },
   "outputs": [],
   "source": [
    "G_deg = G.degree(G.nodes())\n",
    "G_deg_values = sorted(G_deg.values(), reverse = True)"
   ]
  },
  {
   "cell_type": "code",
   "execution_count": null,
   "metadata": {
    "collapsed": true
   },
   "outputs": [],
   "source": [
    "plot_measures(G_deg_values, 'Degree distribution', 'Number of authors', 'Degree', 'degree_distribution')"
   ]
  },
  {
   "cell_type": "markdown",
   "metadata": {},
   "source": [
    "#### PageRank centrality"
   ]
  },
  {
   "cell_type": "code",
   "execution_count": null,
   "metadata": {
    "collapsed": true
   },
   "outputs": [],
   "source": [
    "pr_centrality = nx.pagerank(G)\n",
    "tuples_pr = pr_centrality.items()\n",
    "pr_sorted = sorted(pr_centrality.values(),reverse = True)"
   ]
  },
  {
   "cell_type": "code",
   "execution_count": null,
   "metadata": {
    "collapsed": true
   },
   "outputs": [],
   "source": [
    "plot_measures(pr_sorted, 'Page Rank centrality', 'Authors', 'Page Rank', 'page_rank_centrality')"
   ]
  },
  {
   "cell_type": "markdown",
   "metadata": {},
   "source": [
    "#### Average clustering coefficient"
   ]
  },
  {
   "cell_type": "code",
   "execution_count": null,
   "metadata": {
    "collapsed": true
   },
   "outputs": [],
   "source": [
    "avg_coeff = nx.average_clustering(G)"
   ]
  },
  {
   "cell_type": "markdown",
   "metadata": {},
   "source": [
    "## EPFL graph\n",
    "\n",
    "Repeat the same operations trimming the graph by using only Epfl authors."
   ]
  },
  {
   "cell_type": "code",
   "execution_count": 5,
   "metadata": {
    "collapsed": false
   },
   "outputs": [],
   "source": [
    "authors_epfl = get_authors(data, 'Epfl authors')\n",
    "# Due to the format which the authors have been saved\n",
    "\n",
    "# We initialize a new list\n",
    "epfl_authors = []\n",
    "\n",
    "# Then for each element in the previous list\n",
    "for i in authors_epfl:\n",
    "    # We unpack the content\n",
    "    epfl_authors += list(i.keys())"
   ]
  },
  {
   "cell_type": "code",
   "execution_count": 6,
   "metadata": {
    "collapsed": true
   },
   "outputs": [],
   "source": [
    "# Id-Author / Author-ID\n",
    "dictionary_a_id_epfl, dictionary_id_a_epfl = create_authors_id(epfl_authors, 'epfl')"
   ]
  },
  {
   "cell_type": "code",
   "execution_count": 7,
   "metadata": {
    "collapsed": true
   },
   "outputs": [],
   "source": [
    "# EPFL - COAUTORI NELLA LISTA DI EPFL AUTHORS\n",
    "dict_authors_epfl = list_coauthors_epfl(data)"
   ]
  },
  {
   "cell_type": "code",
   "execution_count": 8,
   "metadata": {
    "collapsed": true
   },
   "outputs": [],
   "source": [
    "# Number of collaborations\n",
    "dict_numb_coll_epfl = number_collaborations(dict_authors_epfl)"
   ]
  },
  {
   "cell_type": "code",
   "execution_count": 9,
   "metadata": {
    "collapsed": true
   },
   "outputs": [],
   "source": [
    "# Coauthors set\n",
    "dict_authors_set_epfl = set_coauthors(dict_authors_epfl)"
   ]
  },
  {
   "cell_type": "code",
   "execution_count": 10,
   "metadata": {
    "collapsed": true
   },
   "outputs": [],
   "source": [
    "# Set of edges\n",
    "edges_epfl = create_edges(dict_authors_set_epfl, dictionary_a_id_epfl)"
   ]
  },
  {
   "cell_type": "code",
   "execution_count": 11,
   "metadata": {
    "collapsed": false
   },
   "outputs": [
    {
     "name": "stdout",
     "output_type": "stream",
     "text": [
      "Name: \n",
      "Type: Graph\n",
      "Number of nodes: 13451\n",
      "Number of edges: 45417\n",
      "Average degree:   6.7530\n"
     ]
    }
   ],
   "source": [
    "G = create_simple_graph(dictionary_id_a_epfl, edges_epfl)"
   ]
  },
  {
   "cell_type": "code",
   "execution_count": 12,
   "metadata": {
    "collapsed": false
   },
   "outputs": [],
   "source": [
    "for i,j in G.edges():\n",
    "    G[i][j]['weight'] = dict_numb_coll_epfl[dictionary_id_a_epfl[i]][dictionary_id_a_epfl[j]]"
   ]
  },
  {
   "cell_type": "code",
   "execution_count": 15,
   "metadata": {
    "collapsed": true
   },
   "outputs": [],
   "source": [
    "G_deg = G.degree(G.nodes())\n",
    "G_deg_values = sorted(G_deg.values(), reverse = True)"
   ]
  },
  {
   "cell_type": "code",
   "execution_count": null,
   "metadata": {
    "collapsed": true
   },
   "outputs": [],
   "source": [
    "plot_measures(G_deg_values, 'Degree distribution', 'Number of authors', 'Degree', 'degree_distribution')"
   ]
  },
  {
   "cell_type": "code",
   "execution_count": 17,
   "metadata": {
    "collapsed": true
   },
   "outputs": [],
   "source": [
    "def getKey(item):\n",
    "    return item[1]"
   ]
  },
  {
   "cell_type": "code",
   "execution_count": 18,
   "metadata": {
    "collapsed": false
   },
   "outputs": [],
   "source": [
    "pr_centrality = nx.pagerank(G)\n",
    "tuples_pr = pr_centrality.items()\n",
    "pr_centralities_sorted = sorted(tuples_pr, key = getKey)\n",
    "top_10_pr_centr = pr_centralities_sorted[-10:]"
   ]
  },
  {
   "cell_type": "code",
   "execution_count": 19,
   "metadata": {
    "collapsed": false
   },
   "outputs": [
    {
     "data": {
      "image/png": "[encoded data removed]",
      "text/plain": [
       "<matplotlib.figure.Figure at 0x11e966ba8>"
      ]
     },
     "metadata": {},
     "output_type": "display_data"
    }
   ],
   "source": [
    "plot_measures(pr_sorted, 'Page Rank centrality', 'Authors', 'Page Rank', 'page_rank_centrality')"
   ]
  },
  {
   "cell_type": "code",
   "execution_count": 20,
   "metadata": {
    "collapsed": false
   },
   "outputs": [
    {
     "data": {
      "text/plain": [
       "[(5371, 0.0017781297277756783),\n",
       " (6680, 0.0019004403741419156),\n",
       " (9693, 0.0019883318233957525),\n",
       " (10707, 0.002068816699279793),\n",
       " (4746, 0.0020956810108147036),\n",
       " (10931, 0.002100858370545831),\n",
       " (1258, 0.0021782483769789023),\n",
       " (10472, 0.0022057602061739566),\n",
       " (6163, 0.0026559970719667375),\n",
       " (8752, 0.002696503540033573)]"
      ]
     },
     "execution_count": 20,
     "metadata": {},
     "output_type": "execute_result"
    }
   ],
   "source": [
    "top_10_pr_centr"
   ]
  },
  {
   "cell_type": "code",
   "execution_count": 21,
   "metadata": {
    "collapsed": false
   },
   "outputs": [],
   "source": [
    "list_top_ten = []\n",
    "for i in top_10_pr_centr:\n",
    "    list_top_ten += [dictionary_id_a_epfl[i[0]]]"
   ]
  },
  {
   "cell_type": "code",
   "execution_count": 22,
   "metadata": {
    "collapsed": false
   },
   "outputs": [
    {
     "data": {
      "text/plain": [
       "['renaud philippe',\n",
       " 'aberer karl',\n",
       " 'thiran jean-philippe',\n",
       " 'de micheli giovanni',\n",
       " 'leblebici yusuf',\n",
       " 'vetterli martin',\n",
       " 'perriard yves',\n",
       " 'marechal francois',\n",
       " 'schleiss anton',\n",
       " 'graetzel michael']"
      ]
     },
     "execution_count": 22,
     "metadata": {},
     "output_type": "execute_result"
    }
   ],
   "source": [
    "list_top_ten"
   ]
  },
  {
   "cell_type": "code",
   "execution_count": 73,
   "metadata": {
    "collapsed": true
   },
   "outputs": [],
   "source": [
    "avg_coeff = nx.average_clustering(G)"
   ]
  },
  {
   "cell_type": "code",
   "execution_count": 74,
   "metadata": {
    "collapsed": false
   },
   "outputs": [
    {
     "data": {
      "text/plain": [
       "0.5448363209546251"
      ]
     },
     "execution_count": 74,
     "metadata": {},
     "output_type": "execute_result"
    }
   ],
   "source": [
    "avg_coeff"
   ]
  },
  {
   "cell_type": "code",
   "execution_count": 84,
   "metadata": {
    "collapsed": false
   },
   "outputs": [],
   "source": [
    "G_rnd = nx.fast_gnp_random_graph(len(nodes), 0.01)"
   ]
  },
  {
   "cell_type": "code",
   "execution_count": 85,
   "metadata": {
    "collapsed": false
   },
   "outputs": [],
   "source": [
    "avg_coeff_rnd = nx.average_clustering(G_rnd)"
   ]
  },
  {
   "cell_type": "code",
   "execution_count": 86,
   "metadata": {
    "collapsed": false
   },
   "outputs": [
    {
     "data": {
      "text/plain": [
       "0.01002085524459042"
      ]
     },
     "execution_count": 86,
     "metadata": {},
     "output_type": "execute_result"
    }
   ],
   "source": [
    "avg_coeff_rnd"
   ]
  },
  {
   "cell_type": "markdown",
   "metadata": {},
   "source": [
    "### Get the lab for the authors"
   ]
  },
  {
   "cell_type": "code",
   "execution_count": 14,
   "metadata": {
    "collapsed": true
   },
   "outputs": [],
   "source": [
    "# Get the dictionary (author, list collaborators with info)\n",
    "dict_authors_epfl = get_collaborators(data)"
   ]
  },
  {
   "cell_type": "code",
   "execution_count": 15,
   "metadata": {
    "collapsed": true
   },
   "outputs": [],
   "source": [
    "# Get the dictionary (author, dict(collaborator,list of common works))\n",
    "dict_coautorship_papers = coauthorship_papers(dict_authors_epfl)"
   ]
  },
  {
   "cell_type": "code",
   "execution_count": 16,
   "metadata": {
    "collapsed": true
   },
   "outputs": [],
   "source": [
    "# Define the dictionary (authos, set of papers)\n",
    "list_paper = paper_per_author(dict_coautorship_papers)"
   ]
  },
  {
   "cell_type": "code",
   "execution_count": 17,
   "metadata": {
    "collapsed": false
   },
   "outputs": [],
   "source": [
    "from collections import defaultdict\n",
    "papers = defaultdict(int)\n",
    "for a in list(list_paper.keys()):\n",
    "    for i in list_paper[a]:\n",
    "        papers[i] += 1"
   ]
  },
  {
   "cell_type": "code",
   "execution_count": 18,
   "metadata": {
    "collapsed": false
   },
   "outputs": [
    {
     "data": {
      "text/plain": [
       "44975"
      ]
     },
     "execution_count": 18,
     "metadata": {},
     "output_type": "execute_result"
    }
   ],
   "source": [
    "len(papers)"
   ]
  },
  {
   "cell_type": "code",
   "execution_count": 18,
   "metadata": {
    "collapsed": true
   },
   "outputs": [],
   "source": [
    "# Dictionary (author, website)\n",
    "dict_author_site = lab_site(data)"
   ]
  },
  {
   "cell_type": "markdown",
   "metadata": {},
   "source": [
    "Retrieve the labs of authors. Whether only one lab is mentioned on InfoScience page, the Epfl authors are assumed to belong to that lab. Whether more than one lab is involved, we scrape the People page of the author. This procedure can lead to loosing some information since the pages of authors that are no more part of the Epfl have no longer the page on people."
   ]
  },
  {
   "cell_type": "code",
   "execution_count": 24,
   "metadata": {
    "collapsed": true
   },
   "outputs": [],
   "source": [
    "import requests\n",
    "from bs4 import BeautifulSoup"
   ]
  },
  {
   "cell_type": "code",
   "execution_count": 25,
   "metadata": {
    "collapsed": false
   },
   "outputs": [],
   "source": [
    "#author_lab = get_authors_lab(list_paper, data)[0]"
   ]
  },
  {
   "cell_type": "code",
   "execution_count": 26,
   "metadata": {
    "collapsed": true
   },
   "outputs": [],
   "source": [
    "import pickle\n",
    "#pickle.dump(author_lab, open('author_lab.p', 'wb')) # Store the variable in a file."
   ]
  },
  {
   "cell_type": "markdown",
   "metadata": {},
   "source": [
    "# Basic statistics on the graph - @TODO - INTRODUCTION"
   ]
  },
  {
   "cell_type": "code",
   "execution_count": 37,
   "metadata": {
    "collapsed": true
   },
   "outputs": [],
   "source": [
    "# Get the range of years\n",
    "dict_years = defaultdict(int)\n",
    "dict_year_authors = defaultdict(float)\n",
    "dict_year_epfl_authors = defaultdict(float)\n",
    "dict_authors = defaultdict(float)\n",
    "for paper in list(data.keys()):\n",
    "    try:\n",
    "        #print (paper['Publication date'])\n",
    "        dict_years[data[paper]['Publication date']] += 1\n",
    "        dict_year_authors[data[paper]['Publication date']] += len(data[paper]['Authors'])\n",
    "        dict_year_epfl_authors[data[paper]['Publication date']] += len(data[paper]['Epfl authors'])\n",
    "        \n",
    "    except:\n",
    "        pass\n",
    "    try:\n",
    "        for author in data[paper]['Epfl authors']:\n",
    "            dict_authors[author.keys()[0]] += 1\n",
    "    except:\n",
    "        continue"
   ]
  },
  {
   "cell_type": "code",
   "execution_count": 40,
   "metadata": {
    "collapsed": false
   },
   "outputs": [
    {
     "data": {
      "text/plain": [
       "defaultdict(float,\n",
       "            {'0': 2.0,\n",
       "             '1927': 0.0,\n",
       "             '1929': 0.0,\n",
       "             '1930': 0.0,\n",
       "             '1933': 0.0,\n",
       "             '1934': 0.0,\n",
       "             '1937': 0.0,\n",
       "             '1938': 0.0,\n",
       "             '1940': 0.0,\n",
       "             '1941': 0.0,\n",
       "             '1943': 0.0,\n",
       "             '1944': 0.0,\n",
       "             '1945': 2.0,\n",
       "             '1946': 0.0,\n",
       "             '1947': 0.0,\n",
       "             '1948': 0.0,\n",
       "             '1949': 2.0,\n",
       "             '1950': 1.0,\n",
       "             '1951': 2.0,\n",
       "             '1952': 0.0,\n",
       "             '1953': 0.0,\n",
       "             '1954': 0.0,\n",
       "             '1955': 0.0,\n",
       "             '1956': 0.0,\n",
       "             '1957': 0.0,\n",
       "             '1958': 0.0,\n",
       "             '1959': 1.0,\n",
       "             '1960': 1.0,\n",
       "             '1961': 3.0,\n",
       "             '1962': 3.0,\n",
       "             '1963': 5.0,\n",
       "             '1964': 14.0,\n",
       "             '1965': 7.0,\n",
       "             '1966': 14.0,\n",
       "             '1967': 16.0,\n",
       "             '1968': 14.0,\n",
       "             '1969': 27.0,\n",
       "             '1970': 38.0,\n",
       "             '1971': 69.0,\n",
       "             '1972': 56.0,\n",
       "             '1973': 90.0,\n",
       "             '1974': 139.0,\n",
       "             '1975': 128.0,\n",
       "             '1976': 151.0,\n",
       "             '1977': 208.0,\n",
       "             '1978': 199.0,\n",
       "             '1979': 292.0,\n",
       "             '1980': 315.0,\n",
       "             '1981': 323.0,\n",
       "             '1982': 397.0,\n",
       "             '1983': 445.0,\n",
       "             '1984': 545.0,\n",
       "             '1985': 539.0,\n",
       "             '1986': 528.0,\n",
       "             '1987': 604.0,\n",
       "             '1988': 644.0,\n",
       "             '1989': 746.0,\n",
       "             '1990': 788.0,\n",
       "             '1991': 866.0,\n",
       "             '1992': 928.0,\n",
       "             '1993': 1026.0,\n",
       "             '1994': 1358.0,\n",
       "             '1995': 1546.0,\n",
       "             '1996': 1778.0,\n",
       "             '1997': 1993.0,\n",
       "             '1998': 2327.0,\n",
       "             '1999': 2783.0,\n",
       "             '2000': 3066.0,\n",
       "             '2001': 3221.0,\n",
       "             '2002': 4221.0,\n",
       "             '2003': 4435.0,\n",
       "             '2004': 5273.0,\n",
       "             '2005': 5867.0,\n",
       "             '2006': 6617.0,\n",
       "             '2007': 6488.0,\n",
       "             '2008': 6194.0,\n",
       "             '2009': 6026.0,\n",
       "             '2010': 5946.0,\n",
       "             '2011': 6919.0,\n",
       "             '2012': 6490.0,\n",
       "             '2013': 4986.0,\n",
       "             '2014': 4164.0,\n",
       "             '2015': 3937.0,\n",
       "             '2016': 2397.0,\n",
       "             '2017': 12.0,\n",
       "             'August 31-September 2 2005': 0.0})"
      ]
     },
     "execution_count": 40,
     "metadata": {},
     "output_type": "execute_result"
    }
   ],
   "source": [
    "dict_year_epfl_authors"
   ]
  },
  {
   "cell_type": "code",
   "execution_count": 21,
   "metadata": {
    "collapsed": false
   },
   "outputs": [
    {
     "data": {
      "text/plain": [
       "12.0"
      ]
     },
     "execution_count": 21,
     "metadata": {},
     "output_type": "execute_result"
    }
   ],
   "source": [
    "dict_year_authors.pop('0', None)\n",
    "dict_year_authors.pop('August 31-September 2 2005', None)\n",
    "dict_year_authors.pop('2017', None)"
   ]
  },
  {
   "cell_type": "code",
   "execution_count": 20,
   "metadata": {
    "collapsed": true
   },
   "outputs": [],
   "source": [
    "def normalize_dict(d):\n",
    "    factor=1.0/sum(list(d.values()))\n",
    "    for k in d:\n",
    "        d[k] = d[k]*factor\n",
    "    return d"
   ]
  },
  {
   "cell_type": "code",
   "execution_count": 22,
   "metadata": {
    "collapsed": true
   },
   "outputs": [],
   "source": [
    "open_measure = defaultdict(float)\n",
    "open_measure_scaled = defaultdict(float)\n",
    "for year in list(dict_year_authors.keys()):\n",
    "    open_measure[year] = (dict_year_epfl_authors[year] / dict_year_authors[year])\n",
    "    open_measure_scaled[year] = (dict_year_epfl_authors[year] / dict_year_authors[year])*dict_years[year]"
   ]
  },
  {
   "cell_type": "code",
   "execution_count": 26,
   "metadata": {
    "collapsed": true
   },
   "outputs": [],
   "source": [
    "import numpy as np"
   ]
  },
  {
   "cell_type": "code",
   "execution_count": 30,
   "metadata": {
    "collapsed": true
   },
   "outputs": [],
   "source": [
    "def getKey(item):\n",
    "    return item[0]"
   ]
  },
  {
   "cell_type": "code",
   "execution_count": 34,
   "metadata": {
    "collapsed": false
   },
   "outputs": [
    {
     "data": {
      "image/png": "[encoded data removed]",
      "text/plain": [
       "<matplotlib.figure.Figure at 0x138f09e80>"
      ]
     },
     "metadata": {},
     "output_type": "display_data"
    }
   ],
   "source": [
    "plt.figure(figsize=(15,8), dpi=80)\n",
    "ind = np.arange(1993,2016)\n",
    "open_measure_scaled.pop('0', None)\n",
    "open_measure_scaled.pop('August 31-September 2 2005', None)\n",
    "open_measure_scaled.pop('2017', None)\n",
    "normalize_dict(open_measure_scaled)\n",
    "tuples_pr = open_measure_scaled.items()\n",
    "sort = sorted(tuples_pr, key = getKey)\n",
    "x = [int(i[0]) for i in sort[-24:-1]]\n",
    "y = [i[1] for i in sort[-24:-1]]\n",
    "plt.bar(x, y, 0.5, color='g')\n",
    "\n",
    "plt.ylabel('Index')\n",
    "plt.title(\"Internationality index\")\n",
    "plt.xticks(ind, np.arange(1993,2016), rotation = 45)\n",
    "#plt.yticks(np.arange(0, 2900, 300))\n",
    "plt.savefig('internationality.png', dpi=100)"
   ]
  },
  {
   "cell_type": "code",
   "execution_count": 35,
   "metadata": {
    "collapsed": false
   },
   "outputs": [],
   "source": [
    "import pickle\n",
    "lab = pickle.load(open('author_lab.p', 'rb'))"
   ]
  },
  {
   "cell_type": "code",
   "execution_count": 27,
   "metadata": {
    "collapsed": true
   },
   "outputs": [],
   "source": [
    "# Get the range of years\n",
    "dict_years = defaultdict(int)\n",
    "for paper in list(data.keys()):\n",
    "    try:\n",
    "        #print (paper['Publication date'])\n",
    "        dict_years[data[paper]['Publication date']] += 1\n",
    "    except:\n",
    "        continue"
   ]
  },
  {
   "cell_type": "code",
   "execution_count": 28,
   "metadata": {
    "collapsed": false
   },
   "outputs": [],
   "source": [
    "#dict_years"
   ]
  },
  {
   "cell_type": "code",
   "execution_count": 29,
   "metadata": {
    "collapsed": true
   },
   "outputs": [],
   "source": [
    "del dict_years['August 31-September 2 2005']\n",
    "del dict_years['0']"
   ]
  },
  {
   "cell_type": "code",
   "execution_count": 30,
   "metadata": {
    "collapsed": false
   },
   "outputs": [],
   "source": [
    "import matplotlib.pyplot as plt\n",
    "%matplotlib inline"
   ]
  },
  {
   "cell_type": "markdown",
   "metadata": {},
   "source": [
    "After a first glance twe observe that:\n",
    "* The oldest publications are thos which may contain fragmented and incomplete information\n",
    "* The number of publication in considerably higher from the latest 90s to nowdays\n",
    "\n",
    "As consequence we decide to focus our attention on the publications corresponding to the aforementioned period."
   ]
  },
  {
   "cell_type": "code",
   "execution_count": 31,
   "metadata": {
    "collapsed": false
   },
   "outputs": [
    {
     "data": {
      "text/plain": [
       "<Container object of 84 artists>"
      ]
     },
     "execution_count": 31,
     "metadata": {},
     "output_type": "execute_result"
    },
    {
     "data": {
      "image/png": "[encoded data removed]",
      "text/plain": [
       "<matplotlib.figure.Figure at 0x216f19cf8>"
      ]
     },
     "metadata": {},
     "output_type": "display_data"
    }
   ],
   "source": [
    "plt.bar(dict_years.keys(), dict_years.values(), 0.5, color='g')"
   ]
  },
  {
   "cell_type": "code",
   "execution_count": 44,
   "metadata": {
    "collapsed": false
   },
   "outputs": [],
   "source": [
    "data_cut = {}\n",
    "for paper in list(data.keys()):\n",
    "    try:\n",
    "        if int(data[paper]['Publication date']) >= 1993:\n",
    "            data_cut[paper] = data[paper]\n",
    "    except:\n",
    "        continue"
   ]
  },
  {
   "cell_type": "markdown",
   "metadata": {},
   "source": [
    "## LABS"
   ]
  },
  {
   "cell_type": "code",
   "execution_count": 45,
   "metadata": {
    "collapsed": false
   },
   "outputs": [],
   "source": [
    "dict_lab_site, dict_labs, dict_labs_paper = lab_dictionaries(data_cut)"
   ]
  },
  {
   "cell_type": "code",
   "execution_count": 26,
   "metadata": {
    "collapsed": false
   },
   "outputs": [
    {
     "data": {
      "text/plain": [
       "defaultdict(int,\n",
       "            {' IPESE (sci-sti-fm)': 106,\n",
       "             ' Prof. Tang Group': 10,\n",
       "             ' Programmable Biomaterials Laboratory': 4,\n",
       "             'ANA': 53,\n",
       "             'Adaptive Micronano Wave Systems': 107,\n",
       "             'Advanced Oxidation Processes Group': 113,\n",
       "             'Advanced Photonics Laboratory': 393,\n",
       "             'Air and Soil Pollution Laboratory': 227,\n",
       "             'Algorithmics Laboratory': 46,\n",
       "             'Applied Computing and Mechanics Laboratory': 534,\n",
       "             'Applied Signal Processing Group': 75,\n",
       "             'Applied Superconductivity Group': 20,\n",
       "             'Applied Thermodynamics and Thermal Turbomachinery Laboratory': 103,\n",
       "             'Architecture, criticism, history and theory': 10,\n",
       "             'Archives of Modern Building': 64,\n",
       "             'Archizoom - Conferences and exhibitions': 1,\n",
       "             'Artificial Intelligence Laboratory': 419,\n",
       "             'Arts of sciences laboratory - Archives of imaginary': 71,\n",
       "             'Atmospheric Particle Research Laboratory': 24,\n",
       "             'Audio Visual Communications Laboratory': 370,\n",
       "             'Automatic Control Laboratory': 388,\n",
       "             'Automatic Control Laboratory 3': 39,\n",
       "             'Baekkeskov-group': 3,\n",
       "             'Beard Group': 31,\n",
       "             'Beermann Group': 118,\n",
       "             'Behavioral Genetics Laboratory': 87,\n",
       "             'Bernoulli Center': 128,\n",
       "             'BioImaging and Optics Core Facility': 34,\n",
       "             'Biomechanical Orthopedics Laboratory EPFL-HOSR': 349,\n",
       "             'Biomedical Imaging Group': 15,\n",
       "             'Biomedical Imaging Research Center': 263,\n",
       "             'Biomolecular Mass Spectrometry Laboratory': 54,\n",
       "             'Biomolecular Screening Facility': 29,\n",
       "             'Bionanophotonic Systems Laboratory': 47,\n",
       "             'Biorobotics Laboratory': 165,\n",
       "             'Bucher Group': 80,\n",
       "             'CBT - Unattributed Publications': 18,\n",
       "             'CEL Group': 158,\n",
       "             'Cellular Biotechnology Laboratory': 96,\n",
       "             'Center for Digital Education': 125,\n",
       "             'Center for Neuroprosthetics': 151,\n",
       "             'Center for Research In Plasma Physics': 3221,\n",
       "             'Center of MicroNanoTechnology': 26,\n",
       "             'Centre de recherches énergétiques et municipales': 119,\n",
       "             'Centre for Area and Cultural Studies': 48,\n",
       "             'Ceramics Laboratory': 543,\n",
       "             'Chair in Operations, Economics and Strategy': 18,\n",
       "             'Chair of Algebraic Methods': 10,\n",
       "             'Chair of Algebraic and Geometric Structures': 46,\n",
       "             'Chair of Analysis and Applied Mathematics': 27,\n",
       "             'Chair of Applied Statistics': 124,\n",
       "             'Chair of Associate Prof. Malamud ': 15,\n",
       "             'Chair of Atomic Scale Simulation': 217,\n",
       "             'Chair of Combinatorial Geometry': 159,\n",
       "             'Chair of Computational Condensed Matter Physics': 10,\n",
       "             'Chair of Computational Mathematics and Numerical Analysis': 58,\n",
       "             'Chair of Computational Mathematics and Simulation Science': 20,\n",
       "             'Chair of Condensed Matter Theory': 27,\n",
       "             'Chair of Discrete Optimization': 62,\n",
       "             'Chair of Economics and Management of Innovation': 92,\n",
       "             'Chair of Geometric Analysis': 97,\n",
       "             'Chair of Geometry': 16,\n",
       "             'Chair of Group Theory': 32,\n",
       "             'Chair of Harmonic Analysis and Unitary Representations': 10,\n",
       "             'Chair of Innovation and IP Policy': 21,\n",
       "             'Chair of International Finance': 7,\n",
       "             'Chair of Mathematical Analysis and Applications': 50,\n",
       "             'Chair of Mathematical Statistics': 9,\n",
       "             'Chair of Mesoscopic Physics and Strongly Correlated Electronic Systems': 18,\n",
       "             'Chair of Modelling and Scientific Computing': 235,\n",
       "             'Chair of Numerical Analysis and Simulation': 75,\n",
       "             'Chair of Operations Research SE': 103,\n",
       "             'Chair of Operations Research SO': 476,\n",
       "             'Chair of Partial Differential Equations': 22,\n",
       "             'Chair of Probability': 33,\n",
       "             'Chair of Representation and Expression': 194,\n",
       "             'Chair of Statistics': 131,\n",
       "             'Chair of Stochastic Processes': 19,\n",
       "             'Chair of Timber Construction': 182,\n",
       "             'Chair of analytic number theory': 50,\n",
       "             'Chair of ergodic and geometric group theory': 29,\n",
       "             'Chemical Synthesis Laboratory': 72,\n",
       "             'Chôros Laboratory': 590,\n",
       "             'Comment Group': 79,\n",
       "             'Communication Theories Laboratory': 180,\n",
       "             'Composite Construction Laboratory': 117,\n",
       "             'Computational Engineering Laboratory': 203,\n",
       "             'Computational Materials Laboratory': 175,\n",
       "             'Computational Neuroscience Laboratory': 85,\n",
       "             'Computational Solid Mechanics Laboratory': 143,\n",
       "             'Computer Communications and Applications Laboratory 1': 342,\n",
       "             'Computer Communications and Applications Laboratory 2': 434,\n",
       "             'Computer Communications and Applications Laboratory 3': 101,\n",
       "             'Computer Communications and Applications Laboratory 4': 32,\n",
       "             'Computer Graphics and Geometry Laboratory': 55,\n",
       "             'Computer Networking Laboratory': 38,\n",
       "             'Computer Vision Laboratory': 250,\n",
       "             'Computer-Human Interaction Lab for Learning & Instruction': 169,\n",
       "             'Consortium for the Preservation of Documentary Patrimony in Case of Disaster': 21,\n",
       "             'Construction Materials Laboratory': 116,\n",
       "             'Construction and Conservation Laboratory': 379,\n",
       "             'Corporate Strategy Innovation Chair': 101,\n",
       "             'Corporate renewal and Entrepreneurial strategies in Technology Chair': 17,\n",
       "             'Data Analysis Theory and Applications Laboratory': 95,\n",
       "             'Data-Intensive Applications and Systems Laboratory': 164,\n",
       "             'Database Laboratory': 98,\n",
       "             'Debiopharm Chair in Signal Transduction in Oncogenesis': 47,\n",
       "             'Decentralized and Distributed Systems': 2,\n",
       "             'Defitech Foundation Chair in Brain-Machine Interface': 111,\n",
       "             'Dependable Systems Laboratory': 39,\n",
       "             'Design Studio on the Conception of Space': 179,\n",
       "             'Digital Humanities Laboratory': 51,\n",
       "             'Dil Group': 17,\n",
       "             'Distributed Electrical Systems Laboratory - EOS Holding Chair': 162,\n",
       "             'Distributed Information Systems Laboratory': 409,\n",
       "             'Distributed Intelligent Systems and Algorithms Laboratory': 116,\n",
       "             'Distributed Programming Laboratory': 268,\n",
       "             'Distributed Systems Laboratory': 363,\n",
       "             'Domaine IT': 55,\n",
       "             'ENAC - Computer Services': 13,\n",
       "             'Earth and Planetary Science Laboratory': 117,\n",
       "             'Earthquake Engineering and Structural Dynamics Laboratory': 83,\n",
       "             'Ecological Engineering Laboratory': 499,\n",
       "             'Ecological Systems Laboratory': 344,\n",
       "             'Economics and Environmental Management Laboratory': 7,\n",
       "             'Electrical Machinery Laboratory': 26,\n",
       "             'Electrochemical Engineering Group': 187,\n",
       "             'Electromagnetic Compatibility Laboratory': 374,\n",
       "             'Electromagnetics and Acoustics Laboratory': 808,\n",
       "             'Electron Spectrometry and Microscopy Laboratory': 68,\n",
       "             'Electronics Laboratory': 89,\n",
       "             'Electronics Laboratory 1': 70,\n",
       "             'Electronics and Signal Processing Laboratory': 178,\n",
       "             'Embedded Systems Laboratory': 78,\n",
       "             'Emergent Complexity in Physical Systems': 39,\n",
       "             'Energy Center': 70,\n",
       "             'Engineering and Environmental Geology Laboratory': 389,\n",
       "             'Entrepreneurship and Technology Commercialization Chair': 57,\n",
       "             'Environmental Chemistry Laboratory': 91,\n",
       "             'Environmental Chemistry Modeling Laboratory': 38,\n",
       "             'Environmental Fluid Mechanics Laboratory': 256,\n",
       "             'Environmental Hydraulics Laboratory': 179,\n",
       "             'Environmental Microbiology Laboratory': 66,\n",
       "             'Environmental Remote Sensing Laboratory': 83,\n",
       "             'Fellay Group': 48,\n",
       "             'Fiore Group': 36,\n",
       "             'Foffi Group': 44,\n",
       "             'Fondation Sandoz Chair in Biophysical Chemistry of Macromolecules': 12,\n",
       "             'Foundation Bertarelli Chair in Neuroprosthetic Technology': 19,\n",
       "             'Fragouli Group': 124,\n",
       "             'Full Prof. Collin-Dufresne Chair': 12,\n",
       "             'Functional Neurogenomics Laboratory': 5,\n",
       "             'Galatea Laboratory': 47,\n",
       "             'Geo-energy Laboratory': 89,\n",
       "             'Geodetic Engineering Laboratory': 178,\n",
       "             'Geographic Information Systems Laboratory': 289,\n",
       "             'Gnansounou Group': 100,\n",
       "             'Group for Molecular Engineering of Functional Materials': 20,\n",
       "             'Group in asset pricing': 12,\n",
       "             'Group in corporate governance': 7,\n",
       "             'Group in financial econometrics': 4,\n",
       "             'Group of Catalysis for Biofuels': 2,\n",
       "             'Group of Chemical and Physical Safety': 121,\n",
       "             'Group of Coordination Chemistry': 102,\n",
       "             'Hadjikhani Group': 16,\n",
       "             'Hemodynamics and Cardiovascular Technology Laboratory': 116,\n",
       "             'Hess Bellwald Group': 32,\n",
       "             'High Energy Physics Laboratory': 491,\n",
       "             'Hill Group': 14,\n",
       "             'Human and social sciences teaching program': 1146,\n",
       "             'Hydraulic Constructions Laboratory': 666,\n",
       "             'Hydrology and Land Improvement Laboratory': 314,\n",
       "             'IBI - Unattributed publications': 62,\n",
       "             'IINFCOM - Unattributed publications': 4,\n",
       "             'ISREC Foundation Chair in Translational Oncology': 18,\n",
       "             'Image and Visual Representation Laboratory': 104,\n",
       "             'Immersive Interaction Group': 72,\n",
       "             'Industrial Electronics laboratory': 292,\n",
       "             'Informatics and Visualization Laboratory': 63,\n",
       "             'Information Theory Laboratory': 79,\n",
       "             'Information and Communication Systems Laboratory': 110,\n",
       "             'Institute for Area and Global Studies': 18,\n",
       "             'Institute of Chemical Sciences and Engineering': 30,\n",
       "             'Integrated Actuators Laboratory': 399,\n",
       "             'Integrated Circuits Laboratory': 25,\n",
       "             'Integrated Systems Laboratory 1 (STI/IC)': 314,\n",
       "             'Integrated Systems Laboratory 2 (STI/IC)': 172,\n",
       "             'Interdisciplinary Center for Electron Microscopy': 411,\n",
       "             'Interdisciplinary Laboratory of Performance-Integrated Design': 225,\n",
       "             'Intermodality, Transport and Planning Laboratory': 9,\n",
       "             'Joint Professorship on Solid Waste Treatment': 147,\n",
       "             'Joint Research Unit INSERM-EPFL': 18,\n",
       "             'Julia Jacobi Chair of Photomedicine - Laboratory for fundamental BioPhotonics': 54,\n",
       "             'Kaplan Group': 54,\n",
       "             'Kühn Group': 50,\n",
       "             \"L'IDIAP Laboratory\": 1376,\n",
       "             'LASEN Library': 16,\n",
       "             'LASIG Library': 57,\n",
       "             'LCBP': 137,\n",
       "             'LMCA': 70,\n",
       "             'LMH Library': 45,\n",
       "             'LSA': 279,\n",
       "             'LTT Library': 133,\n",
       "             'Lab. Metallurgical Chemistry': 4,\n",
       "             \"Laboratoire d'optique biomédicale\": 187,\n",
       "             'Laboratoire de mécanique des structures et milieux continus': 86,\n",
       "             'Laboratory Basel': 97,\n",
       "             'Laboratory for Applied Mechanical Design': 15,\n",
       "             'Laboratory for Automated Reasoning and Analysis': 149,\n",
       "             'Laboratory for Bio- and Nano-Instrumentation': 49,\n",
       "             'Laboratory for Biological Geochemistry': 309,\n",
       "             'Laboratory for Coherent X-ray Science': 79,\n",
       "             'Laboratory for Computation and Visualization in Mathematics and Mechanics': 16,\n",
       "             'Laboratory for Computational Biology and Bioinformatics': 45,\n",
       "             'Laboratory for Computer Communications and Applications': 717,\n",
       "             'Laboratory for Computer-aided Design and Production': 16,\n",
       "             'Laboratory for Decision Making under Uncertainty': 60,\n",
       "             'Laboratory for Environmental Biotechnology': 249,\n",
       "             'Laboratory for Hydraulic Machines': 275,\n",
       "             'Laboratory for Industrial Energy Systems': 598,\n",
       "             'Laboratory for Information and Inference Systems': 109,\n",
       "             'Laboratory for Information in Networked Systems': 71,\n",
       "             'Laboratory for Molecular Engineering of Optoelectronic Nanomaterials': 11,\n",
       "             'Laboratory for Multiscale Mechanics Modeling': 142,\n",
       "             'Laboratory for Multiscale Modeling of Materials': 15,\n",
       "             'Laboratory for Nuclear Materials': 12,\n",
       "             'Laboratory for Photonic Materials and Characterization': 5,\n",
       "             'Laboratory for Probabilistic Machine Learning': 40,\n",
       "             'Laboratory for Production Management and Processes': 279,\n",
       "             'Laboratory for Quantum Magnetism': 138,\n",
       "             'Laboratory for Water Quality and Treatment': 150,\n",
       "             'Laboratory for architecture as form': 15,\n",
       "             'Laboratory for cryptologic algorithms': 68,\n",
       "             'Laboratory for in situ nanomaterials characterisation with electrons': 22,\n",
       "             'Laboratory for synchrotron and neutron spectroscopy': 73,\n",
       "             'Laboratory for ultrafast microscopy and electron scattering': 1,\n",
       "             'Laboratory of Advanced Semiconductors for Photonics and Electronics': 380,\n",
       "             'Laboratory of Applied Mechanics and Reliability Analysis': 133,\n",
       "             'Laboratory of Applied Photonics Devices': 3,\n",
       "             'Laboratory of Architecture and Sustainable Technologies': 307,\n",
       "             'Laboratory of Architecture and Urban Mobility': 441,\n",
       "             'Laboratory of Astrophysics': 102,\n",
       "             'Laboratory of Biological Network Characterization': 14,\n",
       "             'Laboratory of Biomolecular Magnetic Resonance': 196,\n",
       "             'Laboratory of Catalysis and Organic Synthesis': 27,\n",
       "             'Laboratory of Cell Biophysics': 41,\n",
       "             'Laboratory of Chemical Reaction Engineering': 277,\n",
       "             'Laboratory of Chemical and Biological Engineering': 181,\n",
       "             'Laboratory of Cognitive Neuroscience': 41,\n",
       "             'Laboratory of Composite and Polymer Technology': 663,\n",
       "             'Laboratory of Computational Chemistry and Biochemistry': 173,\n",
       "             'Laboratory of Computational Molecular Design': 63,\n",
       "             'Laboratory of Computational Science and Modelling': 23,\n",
       "             'Laboratory of Computational Systems Biotechnology': 140,\n",
       "             'Laboratory of Coordination Chemistry': 39,\n",
       "             'Laboratory of Cristallography': 204,\n",
       "             'Laboratory of Cryospheric Sciences': 198,\n",
       "             'Laboratory of Digital Culture for Architectural Projects': 6,\n",
       "             'Laboratory of Ecohydrology': 193,\n",
       "             'Laboratory of Elementary Architecture and Studies of Types - General': 25,\n",
       "             'Laboratory of Environmental Chemistry and Ecotoxicology': 57,\n",
       "             'Laboratory of Environmental Toxicology': 39,\n",
       "             'Laboratory of Environmental and Urban Economics': 280,\n",
       "             'Laboratory of Experimental Biophysics': 13,\n",
       "             'Laboratory of Experimental Rock Mechanics': 19,\n",
       "             'Laboratory of Expression': 68,\n",
       "             'Laboratory of Fluid Mechanics and Instabilities': 25,\n",
       "             'Laboratory of Glycochemistry and Asymmetric Synthesis': 276,\n",
       "             'Laboratory of Heat and Mass Transfer': 206,\n",
       "             'Laboratory of Inorganic Synthesis and Catalysis': 46,\n",
       "             'Laboratory of Inorganic and Bioinorganic Chemistry': 246,\n",
       "             'Laboratory of Inorganic and Coordination Chemistry': 68,\n",
       "             'Laboratory of Intelligent Systems': 222,\n",
       "             'Laboratory of Lanthanide Supramolecular Chemistry': 228,\n",
       "             'Laboratory of Life Sciences Electronics': 23,\n",
       "             'Laboratory of Lymphatic and Cancer Bioengineering': 61,\n",
       "             'Laboratory of Macromolecular and Organic Materials': 14,\n",
       "             'Laboratory of Magnetic Resonance ': 5,\n",
       "             'Laboratory of Materials for Renewable Energy': 200,\n",
       "             'Laboratory of Microengineering for Manufacturing': 272,\n",
       "             'Laboratory of Molecular Neurobiology and Neuroproteomics': 36,\n",
       "             'Laboratory of Molecular Physical Chemistry': 93,\n",
       "             'Laboratory of Movement Analysis and Measurement': 219,\n",
       "             'Laboratory of Nanobiotechnology': 23,\n",
       "             'Laboratory of Nanomagnetism and Spin Dynamics': 13,\n",
       "             'Laboratory of Nanoscale Biology': 14,\n",
       "             'Laboratory of Nanoscale Electronics and Structures': 13,\n",
       "             'Laboratory of Nanoscale Magnetic Materials and Magnonics': 67,\n",
       "             'Laboratory of Nanoscale Science': 128,\n",
       "             'Laboratory of Nanostructures and Novel Electronic Materials': 220,\n",
       "             'Laboratory of Nanostructures at Surfaces': 123,\n",
       "             'Laboratory of Nanostructures in Matrices': 36,\n",
       "             'Laboratory of Neuroenergetics and Cellular Dynamics': 159,\n",
       "             'Laboratory of Nonlinear Systems': 120,\n",
       "             'Laboratory of Nucleic Acid Chemistry': 58,\n",
       "             'Laboratory of Optoelectronics of Molecular Materials': 18,\n",
       "             'Laboratory of Organic Synthesis and Catalysis': 179,\n",
       "             'Laboratory of Organometallic and Medicinal Chemistry': 307,\n",
       "             'Laboratory of Particle Physics and Cosmology': 147,\n",
       "             'Laboratory of Photoelectron Spectroscopy': 348,\n",
       "             'Laboratory of Photomolecular Science': 310,\n",
       "             'Laboratory of Photonics and Interfaces': 764,\n",
       "             'Laboratory of Photonics and Quantum Measurements (STI/SB)': 25,\n",
       "             'Laboratory of Physical Chemistry of Polymers and Membranes': 140,\n",
       "             'Laboratory of Physical and Analytical Electrochemistry': 305,\n",
       "             'Laboratory of Prof. Kristina Schoonjans': 74,\n",
       "             'Laboratory of Prof. Marcel Salathé': 16,\n",
       "             'Laboratory of Protein Engineering': 84,\n",
       "             'Laboratory of Quantum Optoelectronics': 502,\n",
       "             'Laboratory of Reactor Physics and Systems Behaviour': 8,\n",
       "             'Laboratory of Renewable Energy Science and Engineering': 24,\n",
       "             'Laboratory of Semiconductor Materials': 16,\n",
       "             'Laboratory of Soil and Environmental Physics': 347,\n",
       "             'Laboratory of Statistical Biophysics': 54,\n",
       "             'Laboratory of Structural Biology and Biophysics': 3,\n",
       "             'Laboratory of Supramolecular Chemistry': 145,\n",
       "             'Laboratory of Surface Physics': 121,\n",
       "             'Laboratory of Sustainable and Catalytic Processing': 6,\n",
       "             'Laboratory of Synaptic Mechanisms': 5,\n",
       "             'Laboratory of Techniques and Preservation of Modern Architecture': 140,\n",
       "             'Laboratory of Theoretical Physical Chemistry': 18,\n",
       "             'Laboratory of Theoretical Physics of Nanosystems': 84,\n",
       "             'Laboratory of Theory and Applications of Algorithms': 26,\n",
       "             'Laboratory of Theory and History of Architecture 1': 151,\n",
       "             'Laboratory of Theory and History of Architecture 2': 354,\n",
       "             'Laboratory of Theory and History of Architecture 3': 105,\n",
       "             'Laboratory of Therapeutic Proteins and Peptides': 22,\n",
       "             'Laboratory of Thermomechanical Metallurgy': 112,\n",
       "             'Laboratory of Thin Film Physics': 3,\n",
       "             'Laboratory of Ultrafast Spectroscopy': 179,\n",
       "             'Laboratory of Underground Architecture': 8,\n",
       "             'Laboratory of Urbanism': 118,\n",
       "             'Laboratory of Virology and Genetics': 114,\n",
       "             'Laboratory of Wave Mechanics and Multi-field Interactions': 7,\n",
       "             'Laboratory of architectural and territorial design': 121,\n",
       "             'Laboratory of functional and metabolic imaging': 260,\n",
       "             'Laboratory of molecular simulation': 194,\n",
       "             'Laboratory of robotics systems': 309,\n",
       "             'Laboratory of synthesis and natural products': 208,\n",
       "             'Laboratory of the Physics of Living Matter': 114,\n",
       "             'Laboratory of the Physics of Nanostructured Materials': 72,\n",
       "             'Laboratory of the Physics of Nanostructures': 242,\n",
       "             'Laboratory of theory and simulation of materials': 117,\n",
       "             'Laboratory of urban architecture': 46,\n",
       "             'Laboratory on Human-Environment Relations in Urban Systems': 2,\n",
       "             'Learning algorithms and systems Laboratory': 105,\n",
       "             'Life Sciences section': 192,\n",
       "             'Logic Systems Laboratory': 3,\n",
       "             'Logistics, Economy and Management Chair': 121,\n",
       "             'MCS Library': 138,\n",
       "             'MTEI': 3,\n",
       "             'Master degree projects in Chemistry and Chemical Engineering': 354,\n",
       "             'Mechanical Metallurgy Laboratory': 261,\n",
       "             'Mechnical Systems Design Laboratory': 2,\n",
       "             'Media and Design Laboratory (IC/ENAC)': 93,\n",
       "             'Medical Image Processing Lab': 28,\n",
       "             'Medical photonics group': 35,\n",
       "             'Merck Serono Chair in Neuroscience': 7,\n",
       "             'Merck Serono Chair in Oncology': 8,\n",
       "             'Microbiorobotic Systems Laboratory': 21,\n",
       "             'Microelectronic Systems Laboratory': 291,\n",
       "             'Microsystems Laboratory 1': 404,\n",
       "             'Microsystems Laboratory 2': 233,\n",
       "             'Microsystems Laboratory 3': 47,\n",
       "             'Microsystems Laboratory 4': 160,\n",
       "             'Microsystems for Space Technologies Laboratory': 82,\n",
       "             'Mobile Communications Laboratory': 89,\n",
       "             'Models and Theory of Computation Laboratory': 44,\n",
       "             'Molecular Mechanisms of Lung Cancer Development Laboratory': 12,\n",
       "             'Moser Group': 76,\n",
       "             'Multimedia Signal Processing Laboratory': 202,\n",
       "             'NON ACADEMIC - Unattributed publications': 14,\n",
       "             'Nanoelectronic Devices Laboratory': 244,\n",
       "             'Nanophotonics and Metrology Laboratory': 290,\n",
       "             'National Centre of Competence in Research (NCCR) Robotics': 169,\n",
       "             'Nestlé Chair - Prof. Gräff Group': 17,\n",
       "             'Nestlé Chair in Energy Metabolism': 300,\n",
       "             'Network Architecture Laboratory': 30,\n",
       "             'Network industry Management & e-governance': 322,\n",
       "             'Network of Excellence for Advanced Road Cooperative traffic management in the Information Society': 197,\n",
       "             'Networked Systems Laboratory': 42,\n",
       "             'Neural Microcircuitry Laboratory': 91,\n",
       "             'Neuro Engineering Laboratory - Medtronic Chair in Neuro Engineering': 67,\n",
       "             'Neurodegenerative Studies Laboratory': 163,\n",
       "             'Neva Chair of Bioorganic Chemistry and Molecular Imaging': 4,\n",
       "             'Numerical Algorithms and High-Performance Computing - CADMOS Chair': 35,\n",
       "             'Offered in consultation at the EPFL Library': 1622,\n",
       "             'Operating Systems Laboratory': 149,\n",
       "             'Optics Laboratory': 209,\n",
       "             'Optics and Photonics Technology Laboratory': 362,\n",
       "             'Osterwalder Group': 11,\n",
       "             'Parallel Systems Architecture Laboratory': 79,\n",
       "             'Particle Accelerator Physics Laboratory': 119,\n",
       "             'Patek Philippe Chair in Micromechanical and Horological Design': 22,\n",
       "             'Pattern Recognition Laboratory': 12,\n",
       "             'Peripheral Systems Laboratory': 89,\n",
       "             'Perona Group': 75,\n",
       "             'Pfister Group': 26,\n",
       "             'Photonic Systems Laboratory': 47,\n",
       "             'Photovoltaics and Thin Film Electronics Laboratory': 446,\n",
       "             'Physics of Aquatic Systems Laboratory - Margaretha Kamprad Chair': 34,\n",
       "             'Physics of complex systems laboratory': 14,\n",
       "             'Polymers Laboratory': 114,\n",
       "             'Powder Technology Laboratory': 98,\n",
       "             'Power Systems Group': 63,\n",
       "             'Power Systems Laboratory': 274,\n",
       "             'Power and Wide-band-gap Electronics Research Laboratory': 1,\n",
       "             'Probability Group': 3,\n",
       "             'Processor Architecture Laboratory': 101,\n",
       "             'Prof. Aguet Group': 61,\n",
       "             'Prof. Blokesch Group': 20,\n",
       "             'Prof. Brisken Group': 31,\n",
       "             'Prof. Cole Group': 207,\n",
       "             'Prof. Constam Group': 21,\n",
       "             'Prof. Courtine Group': 19,\n",
       "             'Prof. Dal Peraro Group': 39,\n",
       "             'Prof. De Palma Group': 29,\n",
       "             'Prof. Deplancke Group': 28,\n",
       "             'Prof. Duboule Group': 124,\n",
       "             'Prof. Grapin-Botton Group': 30,\n",
       "             'Prof. Gönczy Group': 57,\n",
       "             'Prof. Harris Group': 38,\n",
       "             'Prof. Hering Group in Environmental Chemistry': 52,\n",
       "             'Prof. Jensen Group': 7,\n",
       "             'Prof. Larus Group': 8,\n",
       "             'Prof. Lemaitre Group': 29,\n",
       "             'Prof. Lingner Group': 61,\n",
       "             'Prof. Lutolf Group': 41,\n",
       "             'Prof. McKinney Group': 35,\n",
       "             'Prof. Moore Group': 5,\n",
       "             'Prof. Naef Group': 16,\n",
       "             'Prof. Radtke Group': 96,\n",
       "             'Prof. Simanis Group': 30,\n",
       "             'Prof. Trolle Chair': 2,\n",
       "             'Prof. van Swygenhoven unit (PSI)': 8,\n",
       "             'Prof. van der Goot Group': 89,\n",
       "             'Professor Trumpp unit': 44,\n",
       "             'Programming Methods Laboratory': 159,\n",
       "             'Psychophysics Laboratory': 149,\n",
       "             'Pu Group': 28,\n",
       "             'Quack Group': 44,\n",
       "             'Quantum Architecture Group': 111,\n",
       "             'RFIC Group': 42,\n",
       "             'Real-Time Coordination and Distributed Interaction Systems Group': 105,\n",
       "             'Realistic Graphics Lab': 8,\n",
       "             'Reconfigurable Robotics Lab': 27,\n",
       "             'Regenerative Medicine and Pharmacobiology Laboratory': 198,\n",
       "             'Resilient Steel Structures Laboratory': 15,\n",
       "             'Rigorous System Design Laboratory': 87,\n",
       "             'Risk Analytics and Optimization Chair': 35,\n",
       "             'Rock Mechanics Laboratory': 203,\n",
       "             'SB-SST': 67,\n",
       "             'SCI STI MM Group': 84,\n",
       "             'SCI-STI-JVH Group': 2,\n",
       "             'STI': 24,\n",
       "             'Sandoz Family Foundation Chair in Neural Coding ent Neuroprosthesis': 1,\n",
       "             'Scientific Information and Libraries': 103,\n",
       "             'Scientific computing and uncertainty quantification ': 26,\n",
       "             'Scrucca Group': 47,\n",
       "             'Section of chemistry and chemical engineering': 2,\n",
       "             'Security and Cryptography Laboratory': 172,\n",
       "             'Sensors, Actuators and Microsystems Laboratory': 1085,\n",
       "             'Sensory Processing Laboratory': 41,\n",
       "             'Signal Processing Laboratory': 256,\n",
       "             'Signal Processing Laboratory 2': 289,\n",
       "             'Signal Processing Laboratory 4': 266,\n",
       "             'Signal Processing Laboratory 5': 325,\n",
       "             'Slaveykova Group': 116,\n",
       "             'Smart living building research group': 23,\n",
       "             'Soft Materials Laboratory': 13,\n",
       "             'Software Engineering Laboratory': 217,\n",
       "             'Soil Mechanics Laboratory': 310,\n",
       "             'Solar Energy and Building Physics Laboratory': 215,\n",
       "             'Space Center': 7,\n",
       "             'Steel Structures Laboratory': 287,\n",
       "             'Stem Cell Dynamics Laboratory': 8,\n",
       "             'Structural Concrete Laboratory': 34,\n",
       "             'Structural Exploration Lab': 17,\n",
       "             'Structural Maintenance and Safety Laboratory': 202,\n",
       "             'Student projects in mathematics': 41,\n",
       "             \"Studio of Architecture and the City's institutions\": 132,\n",
       "             'Study Group on the Spatiality of Risks': 66,\n",
       "             'Supramolecular Nanomaterials and Interfaces Laboratory': 57,\n",
       "             'Suter Group': 13,\n",
       "             'Swiss Centre for Applied Ecotoxicology EAWAG-EPFL': 14,\n",
       "             'Swiss Finance Intitute Chair in Corporate Finance': 11,\n",
       "             'Swiss Plasma Center': 3344,\n",
       "             'Systemic Enterprise Architecture Methodology Laboratory': 145,\n",
       "             'Teaching Support Center': 15,\n",
       "             'Technology Transfer Office': 328,\n",
       "             'Technology and Operations Management': 99,\n",
       "             'Telecommunications Circuits Laboratory': 69,\n",
       "             'Telecommunications Laboratory': 9,\n",
       "             'Tempesti Group': 14,\n",
       "             'Testerman Group': 11,\n",
       "             'The Blue Brain Project': 15,\n",
       "             'The Swissquote Chair in Quantitative Finance': 22,\n",
       "             'Theoretical Particle Physics Laboratory': 74,\n",
       "             'Theory of Computation Laboratory 2': 5,\n",
       "             'Traffic Facilities Laboratory': 188,\n",
       "             'Translational Neural Engineering Laboratory': 43,\n",
       "             'Transportation and Mobility Laboratory': 1186,\n",
       "             'Tribology and Interfacial Chemistry Group': 12,\n",
       "             'Troyanov Group': 37,\n",
       "             'Tzieropoulos Group': 59,\n",
       "             'Unsteady Flow Diagnostics Laboratory': 27,\n",
       "             'Urban Sociology Laboratory': 825,\n",
       "             'Urban Transport Systems Laboratory': 78,\n",
       "             'Urban and Regional Planning Community': 454,\n",
       "             'Urban, Rural and Architectural Planning Laboratory': 204,\n",
       "             'Van den Bergh Group': 63,\n",
       "             'Villanueva Group': 129,\n",
       "             'Virtual Reality Laboratory': 326,\n",
       "             'Wind Engineering and Renewable Energy Laboratory': 140,\n",
       "             'X-Ray Physics Laboratory': 366,\n",
       "             'Yazyev Group': 3,\n",
       "             'cooperation@epfl': 211})"
      ]
     },
     "execution_count": 26,
     "metadata": {},
     "output_type": "execute_result"
    }
   ],
   "source": [
    "# SORT LABORATORIES BY VALUES!!!!!\n",
    "dict_labs"
   ]
  },
  {
   "cell_type": "code",
   "execution_count": 29,
   "metadata": {
    "collapsed": true
   },
   "outputs": [],
   "source": [
    "dict_labs_sorted = sorted(dict_labs.items(), key=lambda value: value[1], reverse = True)"
   ]
  },
  {
   "cell_type": "code",
   "execution_count": 30,
   "metadata": {
    "collapsed": false
   },
   "outputs": [
    {
     "data": {
      "text/plain": [
       "[('Swiss Plasma Center', 3344),\n",
       " ('Center for Research In Plasma Physics', 3221),\n",
       " ('Offered in consultation at the EPFL Library', 1622),\n",
       " (\"L'IDIAP Laboratory\", 1376),\n",
       " ('Transportation and Mobility Laboratory', 1186),\n",
       " ('Human and social sciences teaching program', 1146),\n",
       " ('Sensors, Actuators and Microsystems Laboratory', 1085),\n",
       " ('Urban Sociology Laboratory', 825),\n",
       " ('Electromagnetics and Acoustics Laboratory', 808),\n",
       " ('Laboratory of Photonics and Interfaces', 764),\n",
       " ('Laboratory for Computer Communications and Applications', 717),\n",
       " ('Hydraulic Constructions Laboratory', 666),\n",
       " ('Laboratory of Composite and Polymer Technology', 663),\n",
       " ('Laboratory for Industrial Energy Systems', 598),\n",
       " ('Chôros Laboratory', 590),\n",
       " ('Ceramics Laboratory', 543),\n",
       " ('Applied Computing and Mechanics Laboratory', 534),\n",
       " ('Laboratory of Quantum Optoelectronics', 502),\n",
       " ('Ecological Engineering Laboratory', 499),\n",
       " ('High Energy Physics Laboratory', 491),\n",
       " ('Chair of Operations Research SO', 476),\n",
       " ('Urban and Regional Planning Community', 454),\n",
       " ('Photovoltaics and Thin Film Electronics Laboratory', 446),\n",
       " ('Laboratory of Architecture and Urban Mobility', 441),\n",
       " ('Computer Communications and Applications Laboratory 2', 434),\n",
       " ('Artificial Intelligence Laboratory', 419),\n",
       " ('Interdisciplinary Center for Electron Microscopy', 411),\n",
       " ('Distributed Information Systems Laboratory', 409),\n",
       " ('Microsystems Laboratory 1', 404),\n",
       " ('Integrated Actuators Laboratory', 399),\n",
       " ('Advanced Photonics Laboratory', 393),\n",
       " ('Engineering and Environmental Geology Laboratory', 389),\n",
       " ('Automatic Control Laboratory', 388),\n",
       " ('Laboratory of Advanced Semiconductors for Photonics and Electronics', 380),\n",
       " ('Construction and Conservation Laboratory', 379),\n",
       " ('Electromagnetic Compatibility Laboratory', 374),\n",
       " ('Audio Visual Communications Laboratory', 370),\n",
       " ('X-Ray Physics Laboratory', 366),\n",
       " ('Distributed Systems Laboratory', 363),\n",
       " ('Optics and Photonics Technology Laboratory', 362),\n",
       " ('Laboratory of Theory and History of Architecture 2', 354),\n",
       " ('Master degree projects in Chemistry and Chemical Engineering', 354),\n",
       " ('Biomechanical Orthopedics Laboratory EPFL-HOSR', 349),\n",
       " ('Laboratory of Photoelectron Spectroscopy', 348),\n",
       " ('Laboratory of Soil and Environmental Physics', 347),\n",
       " ('Ecological Systems Laboratory', 344),\n",
       " ('Computer Communications and Applications Laboratory 1', 342),\n",
       " ('Technology Transfer Office', 328),\n",
       " ('Virtual Reality Laboratory', 326),\n",
       " ('Signal Processing Laboratory 5', 325),\n",
       " ('Network industry Management & e-governance', 322),\n",
       " ('Integrated Systems Laboratory 1 (STI/IC)', 314),\n",
       " ('Hydrology and Land Improvement Laboratory', 314),\n",
       " ('Laboratory of Photomolecular Science', 310),\n",
       " ('Soil Mechanics Laboratory', 310),\n",
       " ('Laboratory for Biological Geochemistry', 309),\n",
       " ('Laboratory of robotics systems', 309),\n",
       " ('Laboratory of Architecture and Sustainable Technologies', 307),\n",
       " ('Laboratory of Organometallic and Medicinal Chemistry', 307),\n",
       " ('Laboratory of Physical and Analytical Electrochemistry', 305),\n",
       " ('Nestlé Chair in Energy Metabolism', 300),\n",
       " ('Industrial Electronics laboratory', 292),\n",
       " ('Microelectronic Systems Laboratory', 291),\n",
       " ('Nanophotonics and Metrology Laboratory', 290),\n",
       " ('Signal Processing Laboratory 2', 289),\n",
       " ('Geographic Information Systems Laboratory', 289),\n",
       " ('Steel Structures Laboratory', 287),\n",
       " ('Laboratory of Environmental and Urban Economics', 280),\n",
       " ('Laboratory for Production Management and Processes', 279),\n",
       " ('LSA', 279),\n",
       " ('Laboratory of Chemical Reaction Engineering', 277),\n",
       " ('Laboratory of Glycochemistry and Asymmetric Synthesis', 276),\n",
       " ('Laboratory for Hydraulic Machines', 275),\n",
       " ('Power Systems Laboratory', 274),\n",
       " ('Laboratory of Microengineering for Manufacturing', 272),\n",
       " ('Distributed Programming Laboratory', 268),\n",
       " ('Signal Processing Laboratory 4', 266),\n",
       " ('Biomedical Imaging Research Center', 263),\n",
       " ('Mechanical Metallurgy Laboratory', 261),\n",
       " ('Laboratory of functional and metabolic imaging', 260),\n",
       " ('Environmental Fluid Mechanics Laboratory', 256),\n",
       " ('Signal Processing Laboratory', 256),\n",
       " ('Computer Vision Laboratory', 250),\n",
       " ('Laboratory for Environmental Biotechnology', 249),\n",
       " ('Laboratory of Inorganic and Bioinorganic Chemistry', 246),\n",
       " ('Nanoelectronic Devices Laboratory', 244),\n",
       " ('Laboratory of the Physics of Nanostructures', 242),\n",
       " ('Chair of Modelling and Scientific Computing', 235),\n",
       " ('Microsystems Laboratory 2', 233),\n",
       " ('Laboratory of Lanthanide Supramolecular Chemistry', 228),\n",
       " ('Air and Soil Pollution Laboratory', 227),\n",
       " ('Interdisciplinary Laboratory of Performance-Integrated Design', 225),\n",
       " ('Laboratory of Intelligent Systems', 222),\n",
       " ('Laboratory of Nanostructures and Novel Electronic Materials', 220),\n",
       " ('Laboratory of Movement Analysis and Measurement', 219),\n",
       " ('Software Engineering Laboratory', 217),\n",
       " ('Chair of Atomic Scale Simulation', 217),\n",
       " ('Solar Energy and Building Physics Laboratory', 215),\n",
       " ('cooperation@epfl', 211),\n",
       " ('Optics Laboratory', 209),\n",
       " ('Laboratory of synthesis and natural products', 208),\n",
       " ('Prof. Cole Group', 207),\n",
       " ('Laboratory of Heat and Mass Transfer', 206),\n",
       " ('Urban, Rural and Architectural Planning Laboratory', 204),\n",
       " ('Laboratory of Cristallography', 204),\n",
       " ('Computational Engineering Laboratory', 203),\n",
       " ('Rock Mechanics Laboratory', 203),\n",
       " ('Multimedia Signal Processing Laboratory', 202),\n",
       " ('Structural Maintenance and Safety Laboratory', 202),\n",
       " ('Laboratory of Materials for Renewable Energy', 200),\n",
       " ('Laboratory of Cryospheric Sciences', 198),\n",
       " ('Regenerative Medicine and Pharmacobiology Laboratory', 198),\n",
       " ('Network of Excellence for Advanced Road Cooperative traffic management in the Information Society',\n",
       "  197),\n",
       " ('Laboratory of Biomolecular Magnetic Resonance', 196),\n",
       " ('Chair of Representation and Expression', 194),\n",
       " ('Laboratory of molecular simulation', 194),\n",
       " ('Laboratory of Ecohydrology', 193),\n",
       " ('Life Sciences section', 192),\n",
       " ('Traffic Facilities Laboratory', 188),\n",
       " (\"Laboratoire d'optique biomédicale\", 187),\n",
       " ('Electrochemical Engineering Group', 187),\n",
       " ('Chair of Timber Construction', 182),\n",
       " ('Laboratory of Chemical and Biological Engineering', 181),\n",
       " ('Communication Theories Laboratory', 180),\n",
       " ('Design Studio on the Conception of Space', 179),\n",
       " ('Environmental Hydraulics Laboratory', 179),\n",
       " ('Laboratory of Ultrafast Spectroscopy', 179),\n",
       " ('Laboratory of Organic Synthesis and Catalysis', 179),\n",
       " ('Electronics and Signal Processing Laboratory', 178),\n",
       " ('Geodetic Engineering Laboratory', 178),\n",
       " ('Computational Materials Laboratory', 175),\n",
       " ('Laboratory of Computational Chemistry and Biochemistry', 173),\n",
       " ('Integrated Systems Laboratory 2 (STI/IC)', 172),\n",
       " ('Security and Cryptography Laboratory', 172),\n",
       " ('National Centre of Competence in Research (NCCR) Robotics', 169),\n",
       " ('Computer-Human Interaction Lab for Learning & Instruction', 169),\n",
       " ('Biorobotics Laboratory', 165),\n",
       " ('Data-Intensive Applications and Systems Laboratory', 164),\n",
       " ('Neurodegenerative Studies Laboratory', 163),\n",
       " ('Distributed Electrical Systems Laboratory - EOS Holding Chair', 162),\n",
       " ('Microsystems Laboratory 4', 160),\n",
       " ('Chair of Combinatorial Geometry', 159),\n",
       " ('Programming Methods Laboratory', 159),\n",
       " ('Laboratory of Neuroenergetics and Cellular Dynamics', 159),\n",
       " ('CEL Group', 158),\n",
       " ('Laboratory of Theory and History of Architecture 1', 151),\n",
       " ('Center for Neuroprosthetics', 151),\n",
       " ('Laboratory for Water Quality and Treatment', 150),\n",
       " ('Operating Systems Laboratory', 149),\n",
       " ('Psychophysics Laboratory', 149),\n",
       " ('Laboratory for Automated Reasoning and Analysis', 149),\n",
       " ('Joint Professorship on Solid Waste Treatment', 147),\n",
       " ('Laboratory of Particle Physics and Cosmology', 147),\n",
       " ('Systemic Enterprise Architecture Methodology Laboratory', 145),\n",
       " ('Laboratory of Supramolecular Chemistry', 145),\n",
       " ('Computational Solid Mechanics Laboratory', 143),\n",
       " ('Laboratory for Multiscale Mechanics Modeling', 142),\n",
       " ('Laboratory of Techniques and Preservation of Modern Architecture', 140),\n",
       " ('Laboratory of Computational Systems Biotechnology', 140),\n",
       " ('Wind Engineering and Renewable Energy Laboratory', 140),\n",
       " ('Laboratory of Physical Chemistry of Polymers and Membranes', 140),\n",
       " ('MCS Library', 138),\n",
       " ('Laboratory for Quantum Magnetism', 138),\n",
       " ('LCBP', 137),\n",
       " ('Laboratory of Applied Mechanics and Reliability Analysis', 133),\n",
       " ('LTT Library', 133),\n",
       " (\"Studio of Architecture and the City's institutions\", 132),\n",
       " ('Chair of Statistics', 131),\n",
       " ('Villanueva Group', 129),\n",
       " ('Laboratory of Nanoscale Science', 128),\n",
       " ('Bernoulli Center', 128),\n",
       " ('Center for Digital Education', 125),\n",
       " ('Fragouli Group', 124),\n",
       " ('Chair of Applied Statistics', 124),\n",
       " ('Prof. Duboule Group', 124),\n",
       " ('Laboratory of Nanostructures at Surfaces', 123),\n",
       " ('Laboratory of architectural and territorial design', 121),\n",
       " ('Laboratory of Surface Physics', 121),\n",
       " ('Logistics, Economy and Management Chair', 121),\n",
       " ('Group of Chemical and Physical Safety', 121),\n",
       " ('Laboratory of Nonlinear Systems', 120),\n",
       " ('Particle Accelerator Physics Laboratory', 119),\n",
       " ('Centre de recherches énergétiques et municipales', 119),\n",
       " ('Beermann Group', 118),\n",
       " ('Laboratory of Urbanism', 118),\n",
       " ('Earth and Planetary Science Laboratory', 117),\n",
       " ('Composite Construction Laboratory', 117),\n",
       " ('Laboratory of theory and simulation of materials', 117),\n",
       " ('Distributed Intelligent Systems and Algorithms Laboratory', 116),\n",
       " ('Slaveykova Group', 116),\n",
       " ('Hemodynamics and Cardiovascular Technology Laboratory', 116),\n",
       " ('Construction Materials Laboratory', 116),\n",
       " ('Laboratory of Virology and Genetics', 114),\n",
       " ('Polymers Laboratory', 114),\n",
       " ('Laboratory of the Physics of Living Matter', 114),\n",
       " ('Advanced Oxidation Processes Group', 113),\n",
       " ('Laboratory of Thermomechanical Metallurgy', 112),\n",
       " ('Quantum Architecture Group', 111),\n",
       " ('Defitech Foundation Chair in Brain-Machine Interface', 111),\n",
       " ('Information and Communication Systems Laboratory', 110),\n",
       " ('Laboratory for Information and Inference Systems', 109),\n",
       " ('Adaptive Micronano Wave Systems', 107),\n",
       " (' IPESE (sci-sti-fm)', 106),\n",
       " ('Learning algorithms and systems Laboratory', 105),\n",
       " ('Laboratory of Theory and History of Architecture 3', 105),\n",
       " ('Real-Time Coordination and Distributed Interaction Systems Group', 105),\n",
       " ('Image and Visual Representation Laboratory', 104),\n",
       " ('Scientific Information and Libraries', 103),\n",
       " ('Applied Thermodynamics and Thermal Turbomachinery Laboratory', 103),\n",
       " ('Chair of Operations Research SE', 103),\n",
       " ('Laboratory of Astrophysics', 102),\n",
       " ('Group of Coordination Chemistry', 102),\n",
       " ('Computer Communications and Applications Laboratory 3', 101),\n",
       " ('Corporate Strategy Innovation Chair', 101),\n",
       " ('Processor Architecture Laboratory', 101),\n",
       " ('Gnansounou Group', 100),\n",
       " ('Technology and Operations Management', 99),\n",
       " ('Powder Technology Laboratory', 98),\n",
       " ('Database Laboratory', 98),\n",
       " ('Chair of Geometric Analysis', 97),\n",
       " ('Laboratory Basel', 97),\n",
       " ('Prof. Radtke Group', 96),\n",
       " ('Cellular Biotechnology Laboratory', 96),\n",
       " ('Data Analysis Theory and Applications Laboratory', 95),\n",
       " ('Laboratory of Molecular Physical Chemistry', 93),\n",
       " ('Media and Design Laboratory (IC/ENAC)', 93),\n",
       " ('Chair of Economics and Management of Innovation', 92),\n",
       " ('Neural Microcircuitry Laboratory', 91),\n",
       " ('Environmental Chemistry Laboratory', 91),\n",
       " ('Electronics Laboratory', 89),\n",
       " ('Mobile Communications Laboratory', 89),\n",
       " ('Prof. van der Goot Group', 89),\n",
       " ('Geo-energy Laboratory', 89),\n",
       " ('Peripheral Systems Laboratory', 89),\n",
       " ('Behavioral Genetics Laboratory', 87),\n",
       " ('Rigorous System Design Laboratory', 87),\n",
       " ('Laboratoire de mécanique des structures et milieux continus', 86),\n",
       " ('Computational Neuroscience Laboratory', 85),\n",
       " ('SCI STI MM Group', 84),\n",
       " ('Laboratory of Protein Engineering', 84),\n",
       " ('Laboratory of Theoretical Physics of Nanosystems', 84),\n",
       " ('Environmental Remote Sensing Laboratory', 83),\n",
       " ('Earthquake Engineering and Structural Dynamics Laboratory', 83),\n",
       " ('Microsystems for Space Technologies Laboratory', 82),\n",
       " ('Bucher Group', 80),\n",
       " ('Comment Group', 79),\n",
       " ('Information Theory Laboratory', 79),\n",
       " ('Parallel Systems Architecture Laboratory', 79),\n",
       " ('Laboratory for Coherent X-ray Science', 79),\n",
       " ('Urban Transport Systems Laboratory', 78),\n",
       " ('Embedded Systems Laboratory', 78),\n",
       " ('Moser Group', 76),\n",
       " ('Chair of Numerical Analysis and Simulation', 75),\n",
       " ('Applied Signal Processing Group', 75),\n",
       " ('Perona Group', 75),\n",
       " ('Laboratory of Prof. Kristina Schoonjans', 74),\n",
       " ('Theoretical Particle Physics Laboratory', 74),\n",
       " ('Laboratory for synchrotron and neutron spectroscopy', 73),\n",
       " ('Laboratory of the Physics of Nanostructured Materials', 72),\n",
       " ('Immersive Interaction Group', 72),\n",
       " ('Chemical Synthesis Laboratory', 72),\n",
       " ('Laboratory for Information in Networked Systems', 71),\n",
       " ('Arts of sciences laboratory - Archives of imaginary', 71),\n",
       " ('Energy Center', 70),\n",
       " ('Electronics Laboratory 1', 70),\n",
       " ('LMCA', 70),\n",
       " ('Telecommunications Circuits Laboratory', 69),\n",
       " ('Electron Spectrometry and Microscopy Laboratory', 68),\n",
       " ('Laboratory of Expression', 68),\n",
       " ('Laboratory of Inorganic and Coordination Chemistry', 68),\n",
       " ('Laboratory for cryptologic algorithms', 68),\n",
       " ('SB-SST', 67),\n",
       " ('Laboratory of Nanoscale Magnetic Materials and Magnonics', 67),\n",
       " ('Neuro Engineering Laboratory - Medtronic Chair in Neuro Engineering', 67),\n",
       " ('Environmental Microbiology Laboratory', 66),\n",
       " ('Study Group on the Spatiality of Risks', 66),\n",
       " ('Archives of Modern Building', 64),\n",
       " ('Van den Bergh Group', 63),\n",
       " ('Informatics and Visualization Laboratory', 63),\n",
       " ('Power Systems Group', 63),\n",
       " ('Laboratory of Computational Molecular Design', 63),\n",
       " ('IBI - Unattributed publications', 62),\n",
       " ('Chair of Discrete Optimization', 62),\n",
       " ('Prof. Lingner Group', 61),\n",
       " ('Laboratory of Lymphatic and Cancer Bioengineering', 61),\n",
       " ('Prof. Aguet Group', 61),\n",
       " ('Laboratory for Decision Making under Uncertainty', 60),\n",
       " ('Tzieropoulos Group', 59),\n",
       " ('Chair of Computational Mathematics and Numerical Analysis', 58),\n",
       " ('Laboratory of Nucleic Acid Chemistry', 58),\n",
       " ('LASIG Library', 57),\n",
       " ('Entrepreneurship and Technology Commercialization Chair', 57),\n",
       " ('Laboratory of Environmental Chemistry and Ecotoxicology', 57),\n",
       " ('Prof. Gönczy Group', 57),\n",
       " ('Supramolecular Nanomaterials and Interfaces Laboratory', 57),\n",
       " ('Computer Graphics and Geometry Laboratory', 55),\n",
       " ('Domaine IT', 55),\n",
       " ('Laboratory of Statistical Biophysics', 54),\n",
       " ('Biomolecular Mass Spectrometry Laboratory', 54),\n",
       " ('Kaplan Group', 54),\n",
       " ('Julia Jacobi Chair of Photomedicine - Laboratory for fundamental BioPhotonics',\n",
       "  54),\n",
       " ('ANA', 53),\n",
       " ('Prof. Hering Group in Environmental Chemistry', 52),\n",
       " ('Digital Humanities Laboratory', 51),\n",
       " ('Kühn Group', 50),\n",
       " ('Chair of analytic number theory', 50),\n",
       " ('Chair of Mathematical Analysis and Applications', 50),\n",
       " ('Laboratory for Bio- and Nano-Instrumentation', 49),\n",
       " ('Fellay Group', 48),\n",
       " ('Centre for Area and Cultural Studies', 48),\n",
       " ('Galatea Laboratory', 47),\n",
       " ('Bionanophotonic Systems Laboratory', 47),\n",
       " ('Photonic Systems Laboratory', 47),\n",
       " ('Debiopharm Chair in Signal Transduction in Oncogenesis', 47),\n",
       " ('Scrucca Group', 47),\n",
       " ('Microsystems Laboratory 3', 47),\n",
       " ('Chair of Algebraic and Geometric Structures', 46),\n",
       " ('Laboratory of urban architecture', 46),\n",
       " ('Algorithmics Laboratory', 46),\n",
       " ('Laboratory of Inorganic Synthesis and Catalysis', 46),\n",
       " ('LMH Library', 45),\n",
       " ('Laboratory for Computational Biology and Bioinformatics', 45),\n",
       " ('Professor Trumpp unit', 44),\n",
       " ('Quack Group', 44),\n",
       " ('Foffi Group', 44),\n",
       " ('Models and Theory of Computation Laboratory', 44),\n",
       " ('Translational Neural Engineering Laboratory', 43),\n",
       " ('RFIC Group', 42),\n",
       " ('Networked Systems Laboratory', 42),\n",
       " ('Student projects in mathematics', 41),\n",
       " ('Laboratory of Cell Biophysics', 41),\n",
       " ('Laboratory of Cognitive Neuroscience', 41),\n",
       " ('Prof. Lutolf Group', 41),\n",
       " ('Sensory Processing Laboratory', 41),\n",
       " ('Laboratory for Probabilistic Machine Learning', 40),\n",
       " ('Emergent Complexity in Physical Systems', 39),\n",
       " ('Prof. Dal Peraro Group', 39),\n",
       " ('Laboratory of Coordination Chemistry', 39),\n",
       " ('Dependable Systems Laboratory', 39),\n",
       " ('Automatic Control Laboratory 3', 39),\n",
       " ('Laboratory of Environmental Toxicology', 39),\n",
       " ('Computer Networking Laboratory', 38),\n",
       " ('Prof. Harris Group', 38),\n",
       " ('Environmental Chemistry Modeling Laboratory', 38),\n",
       " ('Troyanov Group', 37),\n",
       " ('Laboratory of Molecular Neurobiology and Neuroproteomics', 36),\n",
       " ('Fiore Group', 36),\n",
       " ('Laboratory of Nanostructures in Matrices', 36),\n",
       " ('Numerical Algorithms and High-Performance Computing - CADMOS Chair', 35),\n",
       " ('Medical photonics group', 35),\n",
       " ('Risk Analytics and Optimization Chair', 35),\n",
       " ('Prof. McKinney Group', 35),\n",
       " ('Structural Concrete Laboratory', 34),\n",
       " ('Physics of Aquatic Systems Laboratory - Margaretha Kamprad Chair', 34),\n",
       " ('BioImaging and Optics Core Facility', 34),\n",
       " ('Chair of Probability', 33),\n",
       " ('Hess Bellwald Group', 32),\n",
       " ('Computer Communications and Applications Laboratory 4', 32),\n",
       " ('Chair of Group Theory', 32),\n",
       " ('Beard Group', 31),\n",
       " ('Prof. Brisken Group', 31),\n",
       " ('Network Architecture Laboratory', 30),\n",
       " ('Prof. Simanis Group', 30),\n",
       " ('Institute of Chemical Sciences and Engineering', 30),\n",
       " ('Prof. Grapin-Botton Group', 30),\n",
       " ('Chair of ergodic and geometric group theory', 29),\n",
       " ('Biomolecular Screening Facility', 29),\n",
       " ('Prof. De Palma Group', 29),\n",
       " ('Prof. Lemaitre Group', 29),\n",
       " ('Medical Image Processing Lab', 28),\n",
       " ('Pu Group', 28),\n",
       " ('Prof. Deplancke Group', 28),\n",
       " ('Laboratory of Catalysis and Organic Synthesis', 27),\n",
       " ('Chair of Condensed Matter Theory', 27),\n",
       " ('Reconfigurable Robotics Lab', 27),\n",
       " ('Unsteady Flow Diagnostics Laboratory', 27),\n",
       " ('Chair of Analysis and Applied Mathematics', 27),\n",
       " ('Laboratory of Theory and Applications of Algorithms', 26),\n",
       " ('Electrical Machinery Laboratory', 26),\n",
       " ('Scientific computing and uncertainty quantification ', 26),\n",
       " ('Pfister Group', 26),\n",
       " ('Center of MicroNanoTechnology', 26),\n",
       " ('Laboratory of Elementary Architecture and Studies of Types - General', 25),\n",
       " ('Laboratory of Fluid Mechanics and Instabilities', 25),\n",
       " ('Laboratory of Photonics and Quantum Measurements (STI/SB)', 25),\n",
       " ('Integrated Circuits Laboratory', 25),\n",
       " ('Atmospheric Particle Research Laboratory', 24),\n",
       " ('STI', 24),\n",
       " ('Laboratory of Renewable Energy Science and Engineering', 24),\n",
       " ('Laboratory of Life Sciences Electronics', 23),\n",
       " ('Laboratory of Computational Science and Modelling', 23),\n",
       " ('Smart living building research group', 23),\n",
       " ('Laboratory of Nanobiotechnology', 23),\n",
       " ('The Swissquote Chair in Quantitative Finance', 22),\n",
       " ('Patek Philippe Chair in Micromechanical and Horological Design', 22),\n",
       " ('Laboratory for in situ nanomaterials characterisation with electrons', 22),\n",
       " ('Chair of Partial Differential Equations', 22),\n",
       " ('Laboratory of Therapeutic Proteins and Peptides', 22),\n",
       " ('Consortium for the Preservation of Documentary Patrimony in Case of Disaster',\n",
       "  21),\n",
       " ('Microbiorobotic Systems Laboratory', 21),\n",
       " ('Prof. Constam Group', 21),\n",
       " ('Chair of Innovation and IP Policy', 21),\n",
       " ('Group for Molecular Engineering of Functional Materials', 20),\n",
       " ('Chair of Computational Mathematics and Simulation Science', 20),\n",
       " ('Applied Superconductivity Group', 20),\n",
       " ('Prof. Blokesch Group', 20),\n",
       " ('Foundation Bertarelli Chair in Neuroprosthetic Technology', 19),\n",
       " ('Prof. Courtine Group', 19),\n",
       " ('Laboratory of Experimental Rock Mechanics', 19),\n",
       " ('Chair of Stochastic Processes', 19),\n",
       " ('Laboratory of Optoelectronics of Molecular Materials', 18),\n",
       " ('Laboratory of Theoretical Physical Chemistry', 18),\n",
       " ('CBT - Unattributed Publications', 18),\n",
       " ('Chair in Operations, Economics and Strategy', 18),\n",
       " ('Institute for Area and Global Studies', 18),\n",
       " ('ISREC Foundation Chair in Translational Oncology', 18),\n",
       " ('Chair of Mesoscopic Physics and Strongly Correlated Electronic Systems',\n",
       "  18),\n",
       " ('Joint Research Unit INSERM-EPFL', 18),\n",
       " ('Corporate renewal and Entrepreneurial strategies in Technology Chair', 17),\n",
       " ('Nestlé Chair - Prof. Gräff Group', 17),\n",
       " ('Structural Exploration Lab', 17),\n",
       " ('Dil Group', 17),\n",
       " ('Prof. Naef Group', 16),\n",
       " ('Laboratory of Prof. Marcel Salathé', 16),\n",
       " ('Laboratory of Semiconductor Materials', 16),\n",
       " ('Hadjikhani Group', 16),\n",
       " ('Chair of Geometry', 16),\n",
       " ('Laboratory for Computer-aided Design and Production', 16),\n",
       " ('Laboratory for Computation and Visualization in Mathematics and Mechanics',\n",
       "  16),\n",
       " ('LASEN Library', 16),\n",
       " ('The Blue Brain Project', 15),\n",
       " ('Laboratory for Applied Mechanical Design', 15),\n",
       " ('Laboratory for Multiscale Modeling of Materials', 15),\n",
       " ('Biomedical Imaging Group', 15),\n",
       " ('Resilient Steel Structures Laboratory', 15),\n",
       " ('Teaching Support Center', 15),\n",
       " ('Chair of Associate Prof. Malamud ', 15),\n",
       " ('Laboratory for architecture as form', 15),\n",
       " ('NON ACADEMIC - Unattributed publications', 14),\n",
       " ('Swiss Centre for Applied Ecotoxicology EAWAG-EPFL', 14),\n",
       " ('Physics of complex systems laboratory', 14),\n",
       " ('Hill Group', 14),\n",
       " ('Laboratory of Macromolecular and Organic Materials', 14),\n",
       " ('Laboratory of Biological Network Characterization', 14),\n",
       " ('Laboratory of Nanoscale Biology', 14),\n",
       " ('Tempesti Group', 14),\n",
       " ('Suter Group', 13),\n",
       " ('Laboratory of Nanoscale Electronics and Structures', 13),\n",
       " ('Laboratory of Nanomagnetism and Spin Dynamics', 13),\n",
       " ('ENAC - Computer Services', 13),\n",
       " ('Soft Materials Laboratory', 13),\n",
       " ('Laboratory of Experimental Biophysics', 13),\n",
       " ('Pattern Recognition Laboratory', 12),\n",
       " ('Group in asset pricing', 12),\n",
       " ('Fondation Sandoz Chair in Biophysical Chemistry of Macromolecules', 12),\n",
       " ('Full Prof. Collin-Dufresne Chair', 12),\n",
       " ('Laboratory for Nuclear Materials', 12),\n",
       " ('Tribology and Interfacial Chemistry Group', 12),\n",
       " ('Molecular Mechanisms of Lung Cancer Development Laboratory', 12),\n",
       " ('Osterwalder Group', 11),\n",
       " ('Laboratory for Molecular Engineering of Optoelectronic Nanomaterials', 11),\n",
       " ('Swiss Finance Intitute Chair in Corporate Finance', 11),\n",
       " ('Testerman Group', 11),\n",
       " ('Chair of Algebraic Methods', 10),\n",
       " (' Prof. Tang Group', 10),\n",
       " ('Architecture, criticism, history and theory', 10),\n",
       " ('Chair of Harmonic Analysis and Unitary Representations', 10),\n",
       " ('Chair of Computational Condensed Matter Physics', 10),\n",
       " ('Telecommunications Laboratory', 9),\n",
       " ('Chair of Mathematical Statistics', 9),\n",
       " ('Intermodality, Transport and Planning Laboratory', 9),\n",
       " ('Prof. van Swygenhoven unit (PSI)', 8),\n",
       " ('Merck Serono Chair in Oncology', 8),\n",
       " ('Stem Cell Dynamics Laboratory', 8),\n",
       " ('Realistic Graphics Lab', 8),\n",
       " ('Laboratory of Reactor Physics and Systems Behaviour', 8),\n",
       " ('Laboratory of Underground Architecture', 8),\n",
       " ('Prof. Larus Group', 8),\n",
       " ('Merck Serono Chair in Neuroscience', 7),\n",
       " ('Space Center', 7),\n",
       " ('Prof. Jensen Group', 7),\n",
       " ('Chair of International Finance', 7),\n",
       " ('Economics and Environmental Management Laboratory', 7),\n",
       " ('Laboratory of Wave Mechanics and Multi-field Interactions', 7),\n",
       " ('Group in corporate governance', 7),\n",
       " ('Laboratory of Digital Culture for Architectural Projects', 6),\n",
       " ('Laboratory of Sustainable and Catalytic Processing', 6),\n",
       " ('Laboratory for Photonic Materials and Characterization', 5),\n",
       " ('Laboratory of Synaptic Mechanisms', 5),\n",
       " ('Functional Neurogenomics Laboratory', 5),\n",
       " ('Theory of Computation Laboratory 2', 5),\n",
       " ('Laboratory of Magnetic Resonance ', 5),\n",
       " ('Prof. Moore Group', 5),\n",
       " (' Programmable Biomaterials Laboratory', 4),\n",
       " ('Neva Chair of Bioorganic Chemistry and Molecular Imaging', 4),\n",
       " ('IINFCOM - Unattributed publications', 4),\n",
       " ('Group in financial econometrics', 4),\n",
       " ('Lab. Metallurgical Chemistry', 4),\n",
       " ('Laboratory of Structural Biology and Biophysics', 3),\n",
       " ('Baekkeskov-group', 3),\n",
       " ('Probability Group', 3),\n",
       " ('Logic Systems Laboratory', 3),\n",
       " ('Laboratory of Thin Film Physics', 3),\n",
       " ('MTEI', 3),\n",
       " ('Laboratory of Applied Photonics Devices', 3),\n",
       " ('Yazyev Group', 3),\n",
       " ('SCI-STI-JVH Group', 2),\n",
       " ('Section of chemistry and chemical engineering', 2),\n",
       " ('Laboratory on Human-Environment Relations in Urban Systems', 2),\n",
       " ('Group of Catalysis for Biofuels', 2),\n",
       " ('Mechnical Systems Design Laboratory', 2),\n",
       " ('Prof. Trolle Chair', 2),\n",
       " ('Decentralized and Distributed Systems', 2),\n",
       " ('Sandoz Family Foundation Chair in Neural Coding ent Neuroprosthesis', 1),\n",
       " ('Laboratory for ultrafast microscopy and electron scattering', 1),\n",
       " ('Power and Wide-band-gap Electronics Research Laboratory', 1),\n",
       " ('Archizoom - Conferences and exhibitions', 1)]"
      ]
     },
     "execution_count": 30,
     "metadata": {},
     "output_type": "execute_result"
    }
   ],
   "source": [
    "dict_labs_sorted"
   ]
  },
  {
   "cell_type": "markdown",
   "metadata": {},
   "source": [
    "## Scrape EPFL STRUCTURE"
   ]
  },
  {
   "cell_type": "code",
   "execution_count": null,
   "metadata": {
    "collapsed": false
   },
   "outputs": [],
   "source": [
    "import requests\n",
    "from bs4 import BeautifulSoup"
   ]
  },
  {
   "cell_type": "code",
   "execution_count": null,
   "metadata": {
    "collapsed": false
   },
   "outputs": [],
   "source": [
    "# From the root (EPFL): obtain the first level of the tree (schools)\n",
    "req = requests.get('https://search.epfl.ch/ubrowse.action?acro=EPFL')\n",
    "html = req.content"
   ]
  },
  {
   "cell_type": "code",
   "execution_count": null,
   "metadata": {
    "collapsed": false
   },
   "outputs": [],
   "source": [
    "soup = BeautifulSoup(html, 'html.parser')"
   ]
  },
  {
   "cell_type": "code",
   "execution_count": null,
   "metadata": {
    "collapsed": true
   },
   "outputs": [],
   "source": [
    "# Obtain the link for the schools\n",
    "new_links_to_go = []\n",
    "dictio = []\n",
    "for i in soup.findAll('div', {'class':'unit_name'}):\n",
    "    if i.findAll('a')[0].text.strip()[:6] == 'School':\n",
    "        new_links_to_go += [i.findAll('a')[0].get('href')]\n",
    "        dictio += [i.findAll('a')[0].text.strip()]"
   ]
  },
  {
   "cell_type": "code",
   "execution_count": 5,
   "metadata": {
    "collapsed": false
   },
   "outputs": [],
   "source": [
    "#prova = {}\n",
    "#traverse_epfl_tree('https://search.epfl.ch/ubrowse.action?acro=CDH')"
   ]
  },
  {
   "cell_type": "code",
   "execution_count": null,
   "metadata": {
    "collapsed": true
   },
   "outputs": [],
   "source": [
    "# Store the result related to each different school\n",
    "#import pickle\n",
    "#pickle.dump(prova, open('CDH.p', 'wb')) # Store the variable in a file."
   ]
  },
  {
   "cell_type": "code",
   "execution_count": 41,
   "metadata": {
    "collapsed": true
   },
   "outputs": [],
   "source": [
    "# Get dictionary (lab,school)\n",
    "def school_lab(dict_lab_site, name_school):\n",
    "    \n",
    "    school = pickle.load(open(name_school + '.p', 'rb')) # Recall \n",
    "    lab_school = {}\n",
    "    for i in list(dict_lab_site.keys()):\n",
    "        for nodes in list(school.keys()):\n",
    "            list_node = school[nodes]\n",
    "            if i in list_node:\n",
    "                lab_school[i] = name_school\n",
    "                break\n",
    "            else:\n",
    "                continue   \n",
    "    \n",
    "    return lab_school"
   ]
  },
  {
   "cell_type": "code",
   "execution_count": 47,
   "metadata": {
    "collapsed": false
   },
   "outputs": [],
   "source": [
    "lab_school = school_lab(dict_lab_site, 'IC')"
   ]
  },
  {
   "cell_type": "code",
   "execution_count": null,
   "metadata": {
    "collapsed": true
   },
   "outputs": [],
   "source": []
  }
 ],
 "metadata": {
  "anaconda-cloud": {},
  "kernelspec": {
   "display_name": "Python [Root]",
   "language": "python",
   "name": "Python [Root]"
  },
  "language_info": {
   "codemirror_mode": {
    "name": "ipython",
    "version": 3
   },
   "file_extension": ".py",
   "mimetype": "text/x-python",
   "name": "python",
   "nbconvert_exporter": "python",
   "pygments_lexer": "ipython3",
   "version": "3.5.2"
  }
 },
 "nbformat": 4,
 "nbformat_minor": 0
}
