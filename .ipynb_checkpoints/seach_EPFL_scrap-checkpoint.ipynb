{
 "cells": [
  {
   "cell_type": "code",
   "execution_count": 157,
   "metadata": {
    "collapsed": true
   },
   "outputs": [],
   "source": [
    "import pymongo\n",
    "from pymongo import MongoClient\n",
    "import requests\n",
    "from bs4 import BeautifulSoup"
   ]
  },
  {
   "cell_type": "markdown",
   "metadata": {},
   "source": [
    "# Mongodb setup"
   ]
  },
  {
   "cell_type": "code",
   "execution_count": 156,
   "metadata": {
    "collapsed": true
   },
   "outputs": [],
   "source": [
    "#Setup client\n",
    "client = MongoClient()\n",
    "client = MongoClient('localhost', 27017)\n",
    "\n",
    "#create db\n",
    "db = client['modern']\n",
    "\n",
    "#create tables\n",
    "authors = db['authors']\n",
    "epfl = db['epfl']\n",
    "publications = db['publications']"
   ]
  },
  {
   "cell_type": "markdown",
   "metadata": {},
   "source": [
    "# Root url of the EPFL graph"
   ]
  },
  {
   "cell_type": "code",
   "execution_count": 159,
   "metadata": {
    "collapsed": true
   },
   "outputs": [],
   "source": [
    "base_url = 'https://search.epfl.ch/ubrowse.action?acro=EPFL'"
   ]
  },
  {
   "cell_type": "markdown",
   "metadata": {},
   "source": [
    "# Recursive helper function for EPFL tree structure traversal"
   ]
  },
  {
   "cell_type": "code",
   "execution_count": 123,
   "metadata": {
    "collapsed": false
   },
   "outputs": [],
   "source": [
    "def traverse_epfl_tree(root):\n",
    "    #Request root url\n",
    "    request = requests.get(root)\n",
    "    html = request.content\n",
    "    #get the soup\n",
    "    soup = BeautifulSoup(html, 'html.parser')\n",
    "    \n",
    "    #find eventual children\n",
    "    children = soup.findAll(\"div\", { \"class\" : \"unit_name\" })\n",
    "    #check if node is a leaf\n",
    "    is_leaf = (len(children) == 0)\n",
    "    \n",
    "    #parse and add node to the db (see def of create_node)\n",
    "    create_node(soup, is_leaf)\n",
    "    \n",
    "    if(not is_leaf):\n",
    "        #continue exploring the tree\n",
    "        for elem in children:\n",
    "            traverse_epfl_tree(\"https://search.epfl.ch\" + elem.find('a').get('href'))\n",
    "    "
   ]
  },
  {
   "cell_type": "markdown",
   "metadata": {},
   "source": [
    "# Node creation fonction"
   ]
  },
  {
   "cell_type": "code",
   "execution_count": 160,
   "metadata": {
    "collapsed": true
   },
   "outputs": [],
   "source": [
    "#parse a epfl_search page and extract node information and people.\n",
    "def create_node(soup, is_leaf):\n",
    "    #extract name of the epfl entity\n",
    "    name = soup.find(\"div\" ,{\"id\" : \"search-results\"}).find('h2').text\n",
    "        \n",
    "        \n",
    "    #extract website and name of the head\n",
    "    wrap = soup.find(\"div\" ,{\"class\" : \"unit_contact\"}).find_all('a')\n",
    "        \n",
    "    #get head name\n",
    "    head_name = wrap[0].text\n",
    "    #get head page\n",
    "    head_page = wrap[0].get('href')\n",
    "    #get website\n",
    "    website = wrap[1].get('href')\n",
    "        \n",
    "    if(is_leaf):\n",
    "        print('if leaf')\n",
    "    else:\n",
    "        print('is not a leaf')\n",
    "    \n",
    "        \n",
    "    "
   ]
  },
  {
   "cell_type": "markdown",
   "metadata": {},
   "source": [
    "# Garbage experimental code"
   ]
  },
  {
   "cell_type": "code",
   "execution_count": 165,
   "metadata": {
    "collapsed": true
   },
   "outputs": [],
   "source": [
    "base_url = 'https://search.epfl.ch/ubrowse.action?acro=CDH'\n",
    "request = requests.get(base_url)\n",
    "html = request.content"
   ]
  },
  {
   "cell_type": "code",
   "execution_count": 166,
   "metadata": {
    "collapsed": true
   },
   "outputs": [],
   "source": [
    "soup = BeautifulSoup(html, 'html.parser')"
   ]
  },
  {
   "cell_type": "code",
   "execution_count": 164,
   "metadata": {
    "collapsed": false
   },
   "outputs": [
    {
     "data": {
      "text/plain": [
       "u'http://cdh.epfl.ch/'"
      ]
     },
     "execution_count": 164,
     "metadata": {},
     "output_type": "execute_result"
    }
   ],
   "source": [
    "soup.find(\"div\" ,{\"class\" : \"unit_contact\"}).find_all('a')[1].get('href')"
   ]
  }
 ],
 "metadata": {
  "anaconda-cloud": {},
  "kernelspec": {
   "display_name": "Python [conda root]",
   "language": "python",
   "name": "conda-root-py"
  },
  "language_info": {
   "codemirror_mode": {
    "name": "ipython",
    "version": 2
   },
   "file_extension": ".py",
   "mimetype": "text/x-python",
   "name": "python",
   "nbconvert_exporter": "python",
   "pygments_lexer": "ipython2",
   "version": "2.7.12"
  }
 },
 "nbformat": 4,
 "nbformat_minor": 1
}
